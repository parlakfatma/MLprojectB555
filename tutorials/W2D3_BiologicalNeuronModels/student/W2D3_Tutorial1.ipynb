{
  "cells": [
    {
      "cell_type": "markdown",
      "metadata": {
        "id": "view-in-github",
        "colab_type": "text"
      },
      "source": [
        "<a href=\"https://colab.research.google.com/github/parlakfatma/MLprojectB555/blob/main/tutorials/W2D3_BiologicalNeuronModels/student/W2D3_Tutorial1.ipynb\" target=\"_parent\"><img src=\"https://colab.research.google.com/assets/colab-badge.svg\" alt=\"Open In Colab\"/></a>"
      ]
    },
    {
      "cell_type": "markdown",
      "metadata": {
        "execution": {},
        "id": "q0IiY1jEptod"
      },
      "source": [
        "# Tutorial 1: The Leaky Integrate-and-Fire (LIF) Neuron Model\n",
        "\n",
        "**Week 2, Day 3: Biological Neuron Models**\n",
        "\n",
        "**By Neuromatch Academy**\n",
        "\n",
        "**Content creators:** Qinglong Gu, Songtin Li, John Murray, Richard Naud, Arvind Kumar\n",
        "\n",
        "**Content reviewers:**  Maryam Vaziri-Pashkam, Ella Batty, Lorenzo Fontolan, Richard Gao, Matthew Krause, Spiros Chavlis, Michael Waskom, Ethan Cheng\n",
        "\n",
        "**Production editors:** Gagana B, Spiros Chavlis"
      ]
    },
    {
      "cell_type": "markdown",
      "metadata": {
        "execution": {},
        "id": "uc3zZboXptoe"
      },
      "source": [
        "---\n",
        "# Tutorial Objectives\n",
        "\n",
        "*Estimated timing of tutorial: 1 hour, 10 min*\n",
        "\n",
        "This is Tutorial 1 of a series on implementing realistic neuron models. In this tutorial, we will build up a leaky integrate-and-fire (LIF) neuron model and study its dynamics in response to various types of inputs. In particular, we are going to write a few lines of code to:\n",
        "\n",
        "- simulate the LIF neuron model\n",
        "\n",
        "- drive the LIF neuron with external inputs, such as direct currents, Gaussian white noise, and Poisson spike trains, etc.\n",
        "\n",
        "- study how different inputs affect the  LIF neuron's output (firing rate and spike time irregularity)\n",
        "\n",
        "Here, we will especially emphasize identifying conditions (input statistics) under which a neuron can spike at low firing rates and in an irregular manner. The reason for focusing on this is that in most cases, neocortical neurons spike in an irregular manner."
      ]
    },
    {
      "cell_type": "code",
      "execution_count": null,
      "metadata": {
        "cellView": "form",
        "execution": {},
        "id": "h2BNCa1Cptof"
      },
      "outputs": [],
      "source": [
        "# @title Tutorial slides\n",
        "# @markdown These are the slides for the videos in all tutorials today\n",
        "from IPython.display import IFrame\n",
        "link_id = \"8djsm\"\n",
        "print(f\"If you want to download the slides: https://osf.io/download/{link_id}/\")\n",
        "IFrame(src=f\"https://mfr.ca-1.osf.io/render?url=https://osf.io/{link_id}/?direct%26mode=render%26action=download%26mode=render\", width=854, height=480)"
      ]
    },
    {
      "cell_type": "markdown",
      "metadata": {
        "execution": {},
        "id": "QVA02PLBptof"
      },
      "source": [
        "---\n",
        "# Setup"
      ]
    },
    {
      "cell_type": "code",
      "execution_count": 1,
      "metadata": {
        "execution": {},
        "colab": {
          "base_uri": "https://localhost:8080/"
        },
        "id": "z53rVXiSptof",
        "outputId": "6ab2cf96-ea2c-4582-9165-8af568e81479"
      },
      "outputs": [
        {
          "output_type": "stream",
          "name": "stdout",
          "text": [
            "  Preparing metadata (setup.py) ... \u001b[?25l\u001b[?25hdone\n",
            "  Preparing metadata (setup.py) ... \u001b[?25l\u001b[?25hdone\n",
            "\u001b[2K   \u001b[90m━━━━━━━━━━━━━━━━━━━━━━━━━━━━━━━━━━━━━━━━\u001b[0m \u001b[32m1.6/1.6 MB\u001b[0m \u001b[31m18.0 MB/s\u001b[0m eta \u001b[36m0:00:00\u001b[0m\n",
            "\u001b[?25h  Building wheel for vibecheck (setup.py) ... \u001b[?25l\u001b[?25hdone\n",
            "  Building wheel for datatops (setup.py) ... \u001b[?25l\u001b[?25hdone\n"
          ]
        }
      ],
      "source": [
        "# @title Install and import feedback gadget\n",
        "\n",
        "!pip3 install vibecheck datatops --quiet\n",
        "\n",
        "from vibecheck import DatatopsContentReviewContainer\n",
        "def content_review(notebook_section: str):\n",
        "    return DatatopsContentReviewContainer(\n",
        "        \"\",  # No text prompt\n",
        "        notebook_section,\n",
        "        {\n",
        "            \"url\": \"https://pmyvdlilci.execute-api.us-east-1.amazonaws.com/klab\",\n",
        "            \"name\": \"neuromatch_cn\",\n",
        "            \"user_key\": \"y1x3mpx5\",\n",
        "        },\n",
        "    ).render()\n",
        "\n",
        "\n",
        "feedback_prefix = \"W2D3_T1\""
      ]
    },
    {
      "cell_type": "code",
      "execution_count": 2,
      "metadata": {
        "cellView": "both",
        "execution": {},
        "id": "bOuN4Y48ptog"
      },
      "outputs": [],
      "source": [
        "# Imports\n",
        "import numpy as np\n",
        "import matplotlib.pyplot as plt"
      ]
    },
    {
      "cell_type": "code",
      "execution_count": 4,
      "metadata": {
        "execution": {},
        "id": "c1XuIwtiptog"
      },
      "outputs": [],
      "source": [
        "# @title Figure Settings\n",
        "import logging\n",
        "logging.getLogger('matplotlib.font_manager').disabled = True\n",
        "\n",
        "import ipywidgets as widgets  # interactive display\n",
        "%config InlineBackend.figure_format = 'retina'\n",
        "# use NMA plot style\n",
        "plt.style.use(\"https://raw.githubusercontent.com/NeuromatchAcademy/course-content/main/nma.mplstyle\")\n",
        "my_layout = widgets.Layout()"
      ]
    },
    {
      "cell_type": "code",
      "execution_count": 5,
      "metadata": {
        "execution": {},
        "id": "csBEqEB0ptog"
      },
      "outputs": [],
      "source": [
        "# @title Plotting Functions\n",
        "\n",
        "def plot_volt_trace(pars, v, sp):\n",
        "  \"\"\"\n",
        "  Plot trajetory of membrane potential for a single neuron\n",
        "\n",
        "  Expects:\n",
        "  pars   : parameter dictionary\n",
        "  v      : volt trajetory\n",
        "  sp     : spike train\n",
        "\n",
        "  Returns:\n",
        "  figure of the membrane potential trajetory for a single neuron\n",
        "  \"\"\"\n",
        "\n",
        "  V_th = pars['V_th']\n",
        "  dt, range_t = pars['dt'], pars['range_t']\n",
        "  if sp.size:\n",
        "    sp_num = (sp / dt).astype(int) - 1\n",
        "    v[sp_num] += 20  # draw nicer spikes\n",
        "\n",
        "  plt.plot(pars['range_t'], v, 'b')\n",
        "  plt.axhline(V_th, 0, 1, color='k', ls='--')\n",
        "  plt.xlabel('Time (ms)')\n",
        "  plt.ylabel('V (mV)')\n",
        "  plt.legend(['Membrane\\npotential', r'Threshold V$_{\\mathrm{th}}$'],\n",
        "             loc=[1.05, 0.75])\n",
        "  plt.ylim([-80, -40])\n",
        "  plt.show()\n",
        "\n",
        "\n",
        "def plot_GWN(pars, I_GWN):\n",
        "  \"\"\"\n",
        "  Args:\n",
        "    pars  : parameter dictionary\n",
        "    I_GWN : Gaussian white noise input\n",
        "\n",
        "  Returns:\n",
        "    figure of the gaussian white noise input\n",
        "  \"\"\"\n",
        "\n",
        "  plt.figure(figsize=(12, 4))\n",
        "  plt.subplot(121)\n",
        "  plt.plot(pars['range_t'][::3], I_GWN[::3], 'b')\n",
        "  plt.xlabel('Time (ms)')\n",
        "  plt.ylabel(r'$I_{GWN}$ (pA)')\n",
        "  plt.subplot(122)\n",
        "  plot_volt_trace(pars, v, sp)\n",
        "  plt.tight_layout()\n",
        "  plt.show()\n",
        "\n",
        "\n",
        "def my_hists(isi1, isi2, cv1, cv2, sigma1, sigma2):\n",
        "  \"\"\"\n",
        "  Args:\n",
        "    isi1 : vector with inter-spike intervals\n",
        "    isi2 : vector with inter-spike intervals\n",
        "    cv1  : coefficient of variation for isi1\n",
        "    cv2  : coefficient of variation for isi2\n",
        "\n",
        "  Returns:\n",
        "    figure with two histograms, isi1, isi2\n",
        "\n",
        "  \"\"\"\n",
        "  plt.figure(figsize=(11, 4))\n",
        "  my_bins = np.linspace(10, 30, 20)\n",
        "  plt.subplot(121)\n",
        "  plt.hist(isi1, bins=my_bins, color='b', alpha=0.5)\n",
        "  plt.xlabel('ISI (ms)')\n",
        "  plt.ylabel('count')\n",
        "  plt.title(r'$\\sigma_{GWN}=$%.1f, CV$_{\\mathrm{isi}}$=%.3f' % (sigma1, cv1))\n",
        "\n",
        "  plt.subplot(122)\n",
        "  plt.hist(isi2, bins=my_bins, color='b', alpha=0.5)\n",
        "  plt.xlabel('ISI (ms)')\n",
        "  plt.ylabel('count')\n",
        "  plt.title(r'$\\sigma_{GWN}=$%.1f, CV$_{\\mathrm{isi}}$=%.3f' % (sigma2, cv2))\n",
        "  plt.tight_layout()\n",
        "  plt.show()"
      ]
    },
    {
      "cell_type": "markdown",
      "metadata": {
        "execution": {},
        "id": "0I7NXrEfptog"
      },
      "source": [
        "---\n",
        "# Section 1: The Leaky Integrate-and-Fire (LIF) model"
      ]
    },
    {
      "cell_type": "code",
      "execution_count": 8,
      "metadata": {
        "cellView": "form",
        "execution": {},
        "colab": {
          "base_uri": "https://localhost:8080/",
          "height": 580,
          "referenced_widgets": [
            "8492d16a254847038c3369aadee86d30",
            "d6792cfc05a143b7a3dc8b64e0616fa4",
            "d500731287c34ed78cf7285d1fef4e05",
            "8b66ead3cac149aabbb1e1bbedd45622",
            "8fc5215bbf3b4126bf2190a7ee3a8132",
            "bbb965772260420292d48c2627bba2bf"
          ]
        },
        "id": "tNXPQqzIptog",
        "outputId": "2d05ca1b-12b0-4f8a-f333-d7bf3428ee3d"
      },
      "outputs": [
        {
          "output_type": "display_data",
          "data": {
            "text/plain": [
              "Tab(children=(Output(), Output()), _titles={'0': 'Youtube', '1': 'Bilibili'})"
            ],
            "application/vnd.jupyter.widget-view+json": {
              "version_major": 2,
              "version_minor": 0,
              "model_id": "8492d16a254847038c3369aadee86d30"
            }
          },
          "metadata": {}
        }
      ],
      "source": [
        "# @title Video 1: Reduced Neuron Models\n",
        "from ipywidgets import widgets\n",
        "from IPython.display import YouTubeVideo\n",
        "from IPython.display import IFrame\n",
        "from IPython.display import display\n",
        "\n",
        "\n",
        "class PlayVideo(IFrame):\n",
        "  def __init__(self, id, source, page=1, width=400, height=300, **kwargs):\n",
        "    self.id = id\n",
        "    if source == 'Bilibili':\n",
        "      src = f'https://player.bilibili.com/player.html?bvid={id}&page={page}'\n",
        "    elif source == 'Osf':\n",
        "      src = f'https://mfr.ca-1.osf.io/render?url=https://osf.io/download/{id}/?direct%26mode=render'\n",
        "    super(PlayVideo, self).__init__(src, width, height, **kwargs)\n",
        "\n",
        "\n",
        "def display_videos(video_ids, W=400, H=300, fs=1):\n",
        "  tab_contents = []\n",
        "  for i, video_id in enumerate(video_ids):\n",
        "    out = widgets.Output()\n",
        "    with out:\n",
        "      if video_ids[i][0] == 'Youtube':\n",
        "        video = YouTubeVideo(id=video_ids[i][1], width=W,\n",
        "                             height=H, fs=fs, rel=0)\n",
        "        print(f'Video available at https://youtube.com/watch?v={video.id}')\n",
        "      else:\n",
        "        video = PlayVideo(id=video_ids[i][1], source=video_ids[i][0], width=W,\n",
        "                          height=H, fs=fs, autoplay=False)\n",
        "        if video_ids[i][0] == 'Bilibili':\n",
        "          print(f'Video available at https://www.bilibili.com/video/{video.id}')\n",
        "        elif video_ids[i][0] == 'Osf':\n",
        "          print(f'Video available at https://osf.io/{video.id}')\n",
        "      display(video)\n",
        "    tab_contents.append(out)\n",
        "  return tab_contents\n",
        "\n",
        "\n",
        "video_ids = [('Youtube', 'rSExvwCVRYg'), ('Bilibili', 'BV1m5411h7Jv')]\n",
        "tab_contents = display_videos(video_ids, W=854, H=480)\n",
        "tabs = widgets.Tab()\n",
        "tabs.children = tab_contents\n",
        "for i in range(len(tab_contents)):\n",
        "  tabs.set_title(i, video_ids[i][0])\n",
        "display(tabs)"
      ]
    },
    {
      "cell_type": "code",
      "execution_count": null,
      "metadata": {
        "cellView": "form",
        "execution": {},
        "id": "aS0xKQigptog"
      },
      "outputs": [],
      "source": [
        "# @title Submit your feedback\n",
        "content_review(f\"{feedback_prefix}_LIF_model_Video\")"
      ]
    },
    {
      "cell_type": "markdown",
      "metadata": {
        "execution": {},
        "id": "e0o3WRg1ptog"
      },
      "source": [
        "This video introduces the reduction of a biological neuron to a simple leaky-integrate-fire (LIF) neuron model.\n",
        "\n",
        "<details>\n",
        "<summary> <font color='blue'>Click here for text recap of video </font></summary>\n",
        "\n",
        "Now, it's your turn to implement one of the simplest mathematical model of a neuron: the leaky integrate-and-fire (LIF) model. The basic idea of LIF neuron was proposed in 1907 by Louis Édouard Lapicque, long before we understood the electrophysiology of a neuron (see a translation of [Lapicque's paper](https://pubmed.ncbi.nlm.nih.gov/17968583/) ). More details of the model can be found in the book [**Theoretical neuroscience**](http://www.gatsby.ucl.ac.uk/~dayan/book/) by Peter Dayan and Laurence F. Abbott.\n",
        "\n",
        "The subthreshold membrane potential dynamics of a LIF neuron is described by\n",
        "\n",
        "\\begin{eqnarray}\n",
        "C_m\\frac{dV}{dt} = -g_L(V-E_L) + I,\\quad (1)\n",
        "\\end{eqnarray}\n",
        "\n",
        "where $C_m$ is the membrane capacitance, $V$ is the membrane potential, $g_L$ is the leak conductance ($g_L = 1/R$, the inverse of the leak resistance $R$ mentioned in previous tutorials), $E_L$ is the resting potential, and $I$ is the external input current.\n",
        "\n",
        "Dividing both sides of the above equation by $g_L$ gives\n",
        "\n",
        "\\begin{align}\n",
        "\\tau_m\\frac{dV}{dt} = -(V-E_L) + \\frac{I}{g_L}\\,,\\quad (2)\n",
        "\\end{align}\n",
        "\n",
        "where the $\\tau_m$ is membrane time constant and is defined as $\\tau_m=C_m/g_L$.\n",
        "\n",
        "Note that dividing capacitance by conductance gives units of time!\n",
        "\n",
        "Below, we will use Eqn.(2) to simulate LIF neuron dynamics.\n",
        "\n",
        "If $I$ is sufficiently strong such that $V$ reaches a certain threshold value $V_{\\rm th}$, $V$ is reset to a reset potential $V_{\\rm reset}< V_{\\rm th}$, and voltage is clamped to $V_{\\rm reset}$ for $\\tau_{\\rm ref}$ ms, mimicking the refractoriness of the neuron during an action potential:\n",
        "\n",
        "\\begin{eqnarray}\n",
        "\\mathrm{if}\\quad V(t_{\\text{sp}})\\geq V_{\\rm th}&:& V(t)=V_{\\rm reset} \\text{  for } t\\in(t_{\\text{sp}}, t_{\\text{sp}} + \\tau_{\\text{ref}}]\n",
        "\\end{eqnarray}\n",
        "where $t_{\\rm sp}$ is the spike time when $V(t)$ just exceeded $V_{\\rm th}$.\n",
        "\n",
        "(**Note:** in the lecture slides, $\\theta$ corresponds to the threshold voltage $V_{th}$, and $\\Delta$ corresponds to the refractory time $\\tau_{\\rm ref}$.)\n",
        "\n",
        "</details>\n",
        "\n",
        "Note that you have seen the LIF model before if you looked at the pre-reqs Python or Calculus days!\n",
        "\n",
        "The LIF model captures the facts that a neuron:\n",
        "- performs spatial and temporal integration of synaptic inputs\n",
        "- generates a spike when the voltage reaches a certain threshold\n",
        "- goes refractory during the action potential\n",
        "- has a leaky membrane\n",
        "\n",
        "The LIF model assumes that the spatial and temporal integration of inputs is linear. Also, membrane potential dynamics close to the spike threshold are much slower in LIF neurons than in real neurons."
      ]
    },
    {
      "cell_type": "markdown",
      "metadata": {
        "execution": {},
        "id": "Qp2-UoZwptoh"
      },
      "source": [
        "## Coding Exercise 1: Python code to simulate the LIF neuron\n",
        "\n",
        "We now write Python code to calculate our equation for the LIF neuron and simulate the LIF neuron dynamics. We will use the Euler method, which you saw in the linear systems case yesterday  to numerically integrate this equation:\n",
        "\n",
        "\\begin{equation}\n",
        "\\tau_m\\frac{dV}{dt} = -(V-E_L) + \\frac{I}{g_L}\\,\n",
        "\\end{equation}\n",
        "\n",
        "where $V$ is the membrane potential, $g_L$ is the leak conductance, $E_L$ is the resting potential, $I$ is the external input current, and $\\tau_m$ is membrane time constant.\n",
        "\n",
        "The cell below initializes a dictionary that stores parameters of the LIF neuron model and the simulation scheme. You can use `pars=default_pars(T=simulation_time, dt=time_step)` to get the parameters. Note that, `simulation_time` and `time_step` have the unit `ms`. In addition, you can add the value to a new parameter by `pars['New_param'] = value`."
      ]
    },
    {
      "cell_type": "code",
      "execution_count": 9,
      "metadata": {
        "cellView": "form",
        "execution": {},
        "colab": {
          "base_uri": "https://localhost:8080/"
        },
        "id": "FidXFh2Fptoh",
        "outputId": "c3ab0e3a-e12e-46f5-e368-32738f8133a7"
      },
      "outputs": [
        {
          "output_type": "stream",
          "name": "stdout",
          "text": [
            "{'V_th': -55.0, 'V_reset': -75.0, 'tau_m': 10.0, 'g_L': 10.0, 'V_init': -75.0, 'E_L': -75.0, 'tref': 2.0, 'T': 400.0, 'dt': 0.1, 'range_t': array([0.000e+00, 1.000e-01, 2.000e-01, ..., 3.997e+02, 3.998e+02,\n",
            "       3.999e+02])}\n"
          ]
        }
      ],
      "source": [
        "# @markdown Execute this code to initialize the default parameters\n",
        "\n",
        "def default_pars(**kwargs):\n",
        "  pars = {}\n",
        "\n",
        "  # typical neuron parameters#\n",
        "  pars['V_th'] = -55.     # spike threshold [mV]\n",
        "  pars['V_reset'] = -75.  # reset potential [mV]\n",
        "  pars['tau_m'] = 10.     # membrane time constant [ms]\n",
        "  pars['g_L'] = 10.       # leak conductance [nS]\n",
        "  pars['V_init'] = -75.   # initial potential [mV]\n",
        "  pars['E_L'] = -75.      # leak reversal potential [mV]\n",
        "  pars['tref'] = 2.       # refractory time (ms)\n",
        "\n",
        "  # simulation parameters #\n",
        "  pars['T'] = 400.  # Total duration of simulation [ms]\n",
        "  pars['dt'] = .1   # Simulation time step [ms]\n",
        "\n",
        "  # external parameters if any #\n",
        "  for k in kwargs:\n",
        "    pars[k] = kwargs[k]\n",
        "\n",
        "  pars['range_t'] = np.arange(0, pars['T'], pars['dt'])  # Vector of discretized time points [ms]\n",
        "\n",
        "  return pars\n",
        "\n",
        "\n",
        "pars = default_pars()\n",
        "print(pars)"
      ]
    },
    {
      "cell_type": "markdown",
      "metadata": {
        "execution": {},
        "id": "QEPOhDLSptoh"
      },
      "source": [
        "Complete the function below to simulate the LIF neuron when receiving external current inputs. You can use `v, sp = run_LIF(pars, Iinj)` to get the membrane potential (`v`) and spike train (`sp`) given the dictionary `pars` and input current `Iinj`."
      ]
    },
    {
      "cell_type": "code",
      "execution_count": 12,
      "metadata": {
        "cellView": "both",
        "execution": {},
        "colab": {
          "base_uri": "https://localhost:8080/",
          "height": 592
        },
        "id": "ghk5IQc0ptoh",
        "outputId": "57170ae0-2f8d-43ab-89e1-b22e0768d940"
      },
      "outputs": [
        {
          "output_type": "display_data",
          "data": {
            "text/plain": [
              "<Figure size 800x600 with 1 Axes>"
            ],
            "image/png": "[encoded data removed]"
          },
          "metadata": {
            "image/png": {
              "width": 767,
              "height": 575
            }
          }
        }
      ],
      "source": [
        "def run_LIF(pars, Iinj, stop=False):\n",
        "  \"\"\"\n",
        "  Simulate the LIF dynamics with external input current\n",
        "\n",
        "  Args:\n",
        "    pars       : parameter dictionary\n",
        "    Iinj       : input current [pA]. The injected current here can be a value\n",
        "                 or an array\n",
        "    stop       : boolean. If True, use a current pulse\n",
        "\n",
        "  Returns:\n",
        "    rec_v      : membrane potential\n",
        "    rec_sp     : spike times\n",
        "  \"\"\"\n",
        "\n",
        "  # Set parameters\n",
        "  V_th, V_reset = pars['V_th'], pars['V_reset']\n",
        "  tau_m, g_L = pars['tau_m'], pars['g_L']\n",
        "  V_init, E_L = pars['V_init'], pars['E_L']\n",
        "  dt, range_t = pars['dt'], pars['range_t']\n",
        "  Lt = range_t.size\n",
        "  tref = pars['tref']\n",
        "\n",
        "  # Initialize voltage\n",
        "  v = np.zeros(Lt)\n",
        "  v[0] = V_init\n",
        "\n",
        "  # Set current time course\n",
        "  Iinj = Iinj * np.ones(Lt)\n",
        "\n",
        "  # If current pulse, set beginning and end to 0\n",
        "  if stop:\n",
        "    Iinj[:int(len(Iinj) / 2) - 1000] = 0\n",
        "    Iinj[int(len(Iinj) / 2) + 1000:] = 0\n",
        "\n",
        "  # Loop over time\n",
        "  rec_spikes = []  # record spike times\n",
        "  tr = 0.  # the count for refractory duration\n",
        "\n",
        "  for it in range(Lt - 1):\n",
        "\n",
        "    if tr > 0:  # check if in refractory period\n",
        "      v[it] = V_reset  # set voltage to reset\n",
        "      tr = tr - 1 # reduce running counter of refractory period\n",
        "\n",
        "    elif v[it] >= V_th:  # if voltage over threshold\n",
        "      rec_spikes.append(it)  # record spike event\n",
        "      v[it] = V_reset  # reset voltage\n",
        "      tr = tref / dt  # set refractory time\n",
        "\n",
        "    ########################################################################\n",
        "    ## TODO for students: compute the membrane potential v, spike train sp #\n",
        "    # Fill out function and remove\n",
        "    # raise NotImplementedError('Student Exercise: calculate the dv/dt and the update step!')\n",
        "    ########################################################################\n",
        "\n",
        "    # Calculate the increment of the membrane potential\n",
        "    dv = (-(v[it]-E_L)+(Iinj[it]/g_L))*(dt/tau_m)\n",
        "\n",
        "    # Update the membrane potential\n",
        "    v[it + 1] = v[it] + dv\n",
        "\n",
        "  # Get spike times in ms\n",
        "  rec_spikes = np.array(rec_spikes) * dt\n",
        "\n",
        "  return v, rec_spikes\n",
        "\n",
        "\n",
        "# Get parameters\n",
        "pars = default_pars(T=500)\n",
        "\n",
        "# Simulate LIF model\n",
        "v, sp = run_LIF(pars, Iinj=100, stop=True)\n",
        "\n",
        "# Visualize\n",
        "plot_volt_trace(pars, v, sp)"
      ]
    },
    {
      "cell_type": "markdown",
      "metadata": {
        "execution": {},
        "id": "WoCcBDhrptoh"
      },
      "source": [
        "[*Click for solution*](https://github.com/NeuromatchAcademy/course-content/tree/main/tutorials/W2D3_BiologicalNeuronModels/solutions/W2D3_Tutorial1_Solution_60a1e954.py)\n",
        "\n",
        "*Example output:*\n",
        "\n",
        "<img alt='Solution hint' align='left' width=771.0 height=577.0 src=https://raw.githubusercontent.com/NeuromatchAcademy/course-content/main/tutorials/W2D3_BiologicalNeuronModels/static/W2D3_Tutorial1_Solution_60a1e954_0.png>\n",
        "\n"
      ]
    },
    {
      "cell_type": "code",
      "execution_count": null,
      "metadata": {
        "cellView": "form",
        "execution": {},
        "id": "sO0zrztxptoh"
      },
      "outputs": [],
      "source": [
        "# @title Submit your feedback\n",
        "content_review(f\"{feedback_prefix}_LIF_model_Exercise\")"
      ]
    },
    {
      "cell_type": "markdown",
      "metadata": {
        "execution": {},
        "id": "xYDzfonKptoh"
      },
      "source": [
        "---\n",
        "# Section 2: Response of an LIF model to different types of input currents\n",
        "\n",
        "*Estimated timing to here from start of tutorial: 20 min*\n",
        "\n",
        "In the following section, we will learn how to inject direct current and white noise to study the response of an LIF neuron."
      ]
    },
    {
      "cell_type": "code",
      "execution_count": 14,
      "metadata": {
        "cellView": "form",
        "execution": {},
        "colab": {
          "base_uri": "https://localhost:8080/",
          "height": 580,
          "referenced_widgets": [
            "fed626b7e989423ab9a39d83df072472",
            "4232d8b204554e9b820b725a8a838f57",
            "c1b1f0e60d5d4a99977d60163d051433",
            "7ebf41f29ae746e891eb86dd09ca72ba",
            "4fdd0dab03294180aae17446ef6f6152",
            "d8f65bcc35264a84ba0ffc9885135e74"
          ]
        },
        "id": "Dcv_Kh7Mptoh",
        "outputId": "7586d85f-23d5-426f-9eca-99c765a2d502"
      },
      "outputs": [
        {
          "output_type": "display_data",
          "data": {
            "text/plain": [
              "Tab(children=(Output(), Output()), _titles={'0': 'Youtube', '1': 'Bilibili'})"
            ],
            "application/vnd.jupyter.widget-view+json": {
              "version_major": 2,
              "version_minor": 0,
              "model_id": "fed626b7e989423ab9a39d83df072472"
            }
          },
          "metadata": {}
        }
      ],
      "source": [
        "# @title Video 2: Response of the LIF neuron to different inputs\n",
        "from ipywidgets import widgets\n",
        "from IPython.display import YouTubeVideo\n",
        "from IPython.display import IFrame\n",
        "from IPython.display import display\n",
        "\n",
        "\n",
        "class PlayVideo(IFrame):\n",
        "  def __init__(self, id, source, page=1, width=400, height=300, **kwargs):\n",
        "    self.id = id\n",
        "    if source == 'Bilibili':\n",
        "      src = f'https://player.bilibili.com/player.html?bvid={id}&page={page}'\n",
        "    elif source == 'Osf':\n",
        "      src = f'https://mfr.ca-1.osf.io/render?url=https://osf.io/download/{id}/?direct%26mode=render'\n",
        "    super(PlayVideo, self).__init__(src, width, height, **kwargs)\n",
        "\n",
        "\n",
        "def display_videos(video_ids, W=400, H=300, fs=1):\n",
        "  tab_contents = []\n",
        "  for i, video_id in enumerate(video_ids):\n",
        "    out = widgets.Output()\n",
        "    with out:\n",
        "      if video_ids[i][0] == 'Youtube':\n",
        "        video = YouTubeVideo(id=video_ids[i][1], width=W,\n",
        "                             height=H, fs=fs, rel=0)\n",
        "        print(f'Video available at https://youtube.com/watch?v={video.id}')\n",
        "      else:\n",
        "        video = PlayVideo(id=video_ids[i][1], source=video_ids[i][0], width=W,\n",
        "                          height=H, fs=fs, autoplay=False)\n",
        "        if video_ids[i][0] == 'Bilibili':\n",
        "          print(f'Video available at https://www.bilibili.com/video/{video.id}')\n",
        "        elif video_ids[i][0] == 'Osf':\n",
        "          print(f'Video available at https://osf.io/{video.id}')\n",
        "      display(video)\n",
        "    tab_contents.append(out)\n",
        "  return tab_contents\n",
        "\n",
        "\n",
        "video_ids = [('Youtube', 'preNGdab7Kk'), ('Bilibili', 'BV1Li4y137wS')]\n",
        "tab_contents = display_videos(video_ids, W=854, H=480)\n",
        "tabs = widgets.Tab()\n",
        "tabs.children = tab_contents\n",
        "for i in range(len(tab_contents)):\n",
        "  tabs.set_title(i, video_ids[i][0])\n",
        "display(tabs)"
      ]
    },
    {
      "cell_type": "code",
      "execution_count": 16,
      "metadata": {
        "execution": {},
        "colab": {
          "base_uri": "https://localhost:8080/",
          "height": 98,
          "referenced_widgets": [
            "47b35d1888d6453084b3fd82e270447a",
            "3a7c3f74edae48e2883fa03b6bce9312",
            "9a37ab99d2de4eacaa7fb69029f895ee",
            "73b8e907e507432da00176a42a81d77e",
            "7f90aa97448c4fbdb71e5a0d99e1ea64",
            "b7fc5b941cfa46058e90c10cd09cb619",
            "95f6f29961444a088f2029989f836af6",
            "93c13736434e4bc0b098ffd3a9306f7f",
            "210a89f3befb46329957a3198b028702",
            "0ae852cc054347fe921cd4410dee6760",
            "44bdc545a0e5468eacf05848158d9606",
            "455aca5876e34a25906bd9e1647d2976",
            "e5408d9ea0524f6d8022771e86119f58",
            "6f389642d38e40ffb9ad771d9e2d701a",
            "4d0eaf0edfe144bf8e0ded01f000f4ba",
            "952c4c4846a24804aed0253c6e56dd0a",
            "0a63377a73dd4dc6a1db1688d650245c",
            "8f8a6ac2e6a44cfb96e58966a106a555",
            "4f9f32fe3c35434f8394b9bc3bd5d4b9",
            "a897cc0b31ea4a43aeaa6b6d3b967c77",
            "a52e85be14c947a1b25a8032f7f0a2c7",
            "34ffd91c640a499c9b9857f8110ee7e9",
            "11dede810f64416c90a423c3b0ef0f90",
            "c938f1ac0d4f496c8551ba885bd3ea8b",
            "bfcb2afc479645eeaa48f0167928a3c5",
            "64c6b430c5d14ca6ac6dda21fe1fb39b"
          ]
        },
        "id": "RKqUcUmZptoh",
        "outputId": "3769db75-df7c-40dc-dd59-7e03b6896b70"
      },
      "outputs": [
        {
          "output_type": "display_data",
          "data": {
            "text/plain": [
              "VBox(children=(VBox(children=(HBox(children=(Button(description='🙂', layout=Layout(height='auto', padding='0.5…"
            ],
            "application/vnd.jupyter.widget-view+json": {
              "version_major": 2,
              "version_minor": 0,
              "model_id": "47b35d1888d6453084b3fd82e270447a"
            }
          },
          "metadata": {}
        }
      ],
      "source": [
        "# @title Submit your feedback\n",
        "content_review(f\"{feedback_prefix}_Response_LIF_model_Video\")"
      ]
    },
    {
      "cell_type": "markdown",
      "metadata": {
        "execution": {},
        "id": "txlXxiQ3ptoh"
      },
      "source": [
        "## Section 2.1: Direct current (DC)\n",
        "\n",
        "*Estimated timing to here from start of tutorial: 30 min*\n"
      ]
    },
    {
      "cell_type": "markdown",
      "metadata": {
        "execution": {},
        "id": "lDuvWr3optoh"
      },
      "source": [
        "### Interactive Demo 2.1: Parameter exploration of DC input amplitude\n",
        "Here's an interactive demo that shows how the LIF neuron behavior changes for DC input (constant current) with different amplitudes. We plot the membrane potential of an LIF neuron. You may notice that the neuron generates a spike. But this is just a cosmetic spike only for illustration purposes. In an LIF neuron, we only need to keep track of times when the neuron hits the threshold so the postsynaptic neurons can be informed of the spike.\n",
        "\n",
        "How much DC is needed to reach the threshold (rheobase current)? How does the membrane time constant affect the frequency of the neuron?"
      ]
    },
    {
      "cell_type": "code",
      "execution_count": 15,
      "metadata": {
        "cellView": "form",
        "execution": {},
        "colab": {
          "base_uri": "https://localhost:8080/",
          "height": 656,
          "referenced_widgets": [
            "f2e9f0769ce14db8af09e67ba413b94e",
            "b49f7ebab30b49a48db7bc2b7d400517",
            "ef0cf2fdf59343769d82797f5defc4d5",
            "f7af583bddc64e199abc51832a5993f1",
            "e3c48f94a7bc4d52b1cfe31a17e29640",
            "aa5cb5c57a85473b8135a610df1ba5a0",
            "5bc889ffbda44d5f842a7671b2d2b698",
            "a7304c69200046a28df62edbe7bd9dcd",
            "794834da7b534d70937d7bcf5c5d15a8"
          ]
        },
        "id": "3sB-cUdCptoh",
        "outputId": "b5400ef9-1adf-479c-acdd-af37c711ffe4"
      },
      "outputs": [
        {
          "output_type": "display_data",
          "data": {
            "text/plain": [
              "interactive(children=(FloatSlider(value=50.0, description='I_dc', layout=Layout(width='450px'), max=300.0, ste…"
            ],
            "application/vnd.jupyter.widget-view+json": {
              "version_major": 2,
              "version_minor": 0,
              "model_id": "f2e9f0769ce14db8af09e67ba413b94e"
            }
          },
          "metadata": {}
        }
      ],
      "source": [
        "# @markdown Make sure you execute this cell to enable the widget!\n",
        "my_layout.width = '450px'\n",
        "@widgets.interact(\n",
        "    I_dc=widgets.FloatSlider(50., min=0., max=300., step=10.,\n",
        "                             layout=my_layout),\n",
        "    tau_m=widgets.FloatSlider(10., min=2., max=20., step=2.,\n",
        "                              layout=my_layout)\n",
        ")\n",
        "\n",
        "def diff_DC(I_dc=200., tau_m=10.):\n",
        "  pars = default_pars(T=100.)\n",
        "  pars['tau_m'] = tau_m\n",
        "  v, sp = run_LIF(pars, Iinj=I_dc)\n",
        "  plot_volt_trace(pars, v, sp)\n",
        "  plt.show()"
      ]
    },
    {
      "cell_type": "markdown",
      "metadata": {
        "execution": {},
        "id": "fHUOo2pJptoh"
      },
      "source": [
        "[*Click for solution*](https://github.com/NeuromatchAcademy/course-content/tree/main/tutorials/W2D3_BiologicalNeuronModels/solutions/W2D3_Tutorial1_Solution_1058324c.py)\n",
        "\n"
      ]
    },
    {
      "cell_type": "code",
      "execution_count": null,
      "metadata": {
        "cellView": "form",
        "execution": {},
        "id": "6z8O44nCptoh"
      },
      "outputs": [],
      "source": [
        "# @title Submit your feedback\n",
        "content_review(f\"{feedback_prefix}_Parameter_exploration_of_DC_input_amplitude_Interactive_Demo_and_Discussion\")"
      ]
    },
    {
      "cell_type": "markdown",
      "metadata": {
        "execution": {},
        "id": "ewf9BYJnptoh"
      },
      "source": [
        "## Section 2.2: Gaussian white noise (GWN) current\n",
        "\n",
        "*Estimated timing to here from start of tutorial: 38 min*\n",
        "\n",
        "Given the noisy nature of neuronal activity _in vivo_, neurons usually receive complex, time-varying inputs.\n",
        "\n",
        "To mimic this, we will now investigate the neuronal response when the LIF neuron receives Gaussian white noise $\\xi(t)$ with mean 0 ($\\mu = 0$) and some standard deviation $\\sigma$.\n",
        "\n",
        "Note that the GWN has zero mean, that is, it describes only the fluctuations of the input received by a neuron. We can thus modify our definition of GWN to have a nonzero mean value $\\mu$ that equals the DC input, since this is the average input into the cell. The cell below defines the modified gaussian white noise currents with nonzero mean $\\mu$."
      ]
    },
    {
      "cell_type": "markdown",
      "metadata": {
        "execution": {},
        "id": "8f8-AJ8Mptoh"
      },
      "source": [
        "### Interactive Demo 2.2: LIF neuron Explorer for noisy input\n",
        "\n",
        "\n",
        "The mean of the Gaussian white noise (GWN) is the amplitude of DC. Indeed, when $\\sigma = 0$, GWN is just a DC.\n",
        "\n",
        "So the question arises how does $\\sigma$ of the GWN affect the spiking behavior of the neuron. For instance we may want to know\n",
        "1.  how does the minimum input (i.e., $\\mu$) needed to make a neuron spike change with increase in $\\sigma$\n",
        "2.  how does the spike regularity change with increase in $\\sigma$\n",
        "\n",
        "To get an intuition about these questions you can use the following interactive demo that shows how the LIF neuron behavior changes for noisy input with different amplitudes (the mean $\\mu$) and fluctuation sizes ($\\sigma$). We use a helper function to generate this noisy input current: `my_GWN(pars, mu, sig, myseed=False)`.  Note that fixing the value of the random seed (e.g., `myseed=2020`) will allow you to obtain the same result every time you run this. We then use our `run_LIF` function to simulate the LIF model.\n"
      ]
    },
    {
      "cell_type": "code",
      "execution_count": null,
      "metadata": {
        "cellView": "form",
        "execution": {},
        "id": "y9AHQcpaptoh"
      },
      "outputs": [],
      "source": [
        "# @markdown Execute to enable helper function `my_GWN`\n",
        "\n",
        "def my_GWN(pars, mu, sig, myseed=False):\n",
        "  \"\"\"\n",
        "  Function that generates Gaussian white noise input\n",
        "\n",
        "  Args:\n",
        "    pars       : parameter dictionary\n",
        "    mu         : noise baseline (mean)\n",
        "    sig        : noise amplitute (standard deviation)\n",
        "    myseed     : random seed. int or boolean\n",
        "                 the same seed will give the same\n",
        "                 random number sequence\n",
        "\n",
        "  Returns:\n",
        "    I          : Gaussian white noise input\n",
        "  \"\"\"\n",
        "\n",
        "  # Retrieve simulation parameters\n",
        "  dt, range_t = pars['dt'], pars['range_t']\n",
        "  Lt = range_t.size\n",
        "\n",
        "  # Set random seed\n",
        "  if myseed:\n",
        "      np.random.seed(seed=myseed)\n",
        "  else:\n",
        "      np.random.seed()\n",
        "\n",
        "  # Generate GWN\n",
        "  # we divide here by 1000 to convert units to sec.\n",
        "  I_gwn = mu + sig * np.random.randn(Lt) / np.sqrt(dt / 1000.)\n",
        "\n",
        "  return I_gwn\n",
        "\n",
        "help(my_GWN)"
      ]
    },
    {
      "cell_type": "code",
      "execution_count": null,
      "metadata": {
        "cellView": "form",
        "execution": {},
        "id": "j-nODVviptoh"
      },
      "outputs": [],
      "source": [
        "# @markdown Make sure you execute this cell to enable the widget!\n",
        "\n",
        "my_layout.width = '450px'\n",
        "@widgets.interact(\n",
        "    mu_gwn=widgets.FloatSlider(200., min=100., max=300., step=5.,\n",
        "                               layout=my_layout),\n",
        "    sig_gwn=widgets.FloatSlider(2.5, min=0., max=5., step=.5,\n",
        "                                layout=my_layout)\n",
        ")\n",
        "\n",
        "\n",
        "def diff_GWN_to_LIF(mu_gwn, sig_gwn):\n",
        "  pars = default_pars(T=100.)\n",
        "  I_GWN = my_GWN(pars, mu=mu_gwn, sig=sig_gwn)\n",
        "  v, sp = run_LIF(pars, Iinj=I_GWN)\n",
        "  plt.figure(figsize=(12, 4))\n",
        "  plt.subplot(121)\n",
        "  plt.plot(pars['range_t'][::3], I_GWN[::3], 'b')\n",
        "  plt.xlabel('Time (ms)')\n",
        "  plt.ylabel(r'$I_{GWN}$ (pA)')\n",
        "  plt.subplot(122)\n",
        "  plot_volt_trace(pars, v, sp)\n",
        "  plt.tight_layout()\n",
        "  plt.show()"
      ]
    },
    {
      "cell_type": "markdown",
      "metadata": {
        "execution": {},
        "id": "RyKhQ0uaptoh"
      },
      "source": [
        "[*Click for solution*](https://github.com/NeuromatchAcademy/course-content/tree/main/tutorials/W2D3_BiologicalNeuronModels/solutions/W2D3_Tutorial1_Solution_2de5d8a9.py)\n",
        "\n"
      ]
    },
    {
      "cell_type": "code",
      "execution_count": null,
      "metadata": {
        "cellView": "form",
        "execution": {},
        "id": "4KqWuHcaptoh"
      },
      "outputs": [],
      "source": [
        "# @title Submit your feedback\n",
        "content_review(f\"{feedback_prefix}_Gaussian_White_Noise_Interactive_Demo_and_Discussion\")"
      ]
    },
    {
      "cell_type": "markdown",
      "metadata": {
        "execution": {},
        "id": "lPFdqgQ4ptoi"
      },
      "source": [
        "### Think! 2.2: Analyzing GWN Effects on Spiking\n",
        "- As we increase the input average ($\\mu$) or the input fluctuation ($\\sigma$), the spike count changes. How much can we increase the spike count, and what might be the relationship between GWN mean/std or DC value and spike count?\n",
        "\n",
        "- We have seen above that when we inject DC, the neuron spikes in a regular manner (clock-like), and this regularity is reduced when GWN is injected. The question is, how irregular can we make the neurons spiking by changing the parameters of the GWN?\n",
        "\n",
        "We will see the answers to these questions in the next section but discuss first!\n"
      ]
    },
    {
      "cell_type": "code",
      "execution_count": null,
      "metadata": {
        "cellView": "form",
        "execution": {},
        "id": "El5oZvTuptoi"
      },
      "outputs": [],
      "source": [
        "# @title Submit your feedback\n",
        "content_review(f\"{feedback_prefix}_Analyzing_GWN_effects_on_spiking_Discussion\")"
      ]
    },
    {
      "cell_type": "markdown",
      "metadata": {
        "execution": {},
        "id": "HI76JE_iptoi"
      },
      "source": [
        "---\n",
        "# Section 3: Firing rate and spike time irregularity\n",
        "\n",
        "*Estimated timing to here from start of tutorial: 48 min*\n",
        "\n",
        "When we plot the output firing rate as a function of GWN mean or DC value, it is called the input-output transfer function of the neuron (so simply F-I curve).\n",
        "\n",
        "Spike regularity can be quantified as the **coefficient of variation (CV) of the interspike interval (ISI)**:\n",
        "\n",
        "\\begin{equation}\n",
        "\\text{CV}_{\\text{ISI}} = \\frac{std(\\text{ISI})}{mean(\\text{ISI})}\n",
        "\\end{equation}\n",
        "\n",
        "A Poisson train is an example of high irregularity, in which $\\textbf{CV}_{\\textbf{ISI}} \\textbf{= 1}$. And for a clocklike (regular) process we have $\\textbf{CV}_{\\textbf{ISI}} \\textbf{= 0}$ because of **std(ISI)=0**."
      ]
    },
    {
      "cell_type": "markdown",
      "metadata": {
        "execution": {},
        "id": "6eGMRbgOptoi"
      },
      "source": [
        "## Interactive Demo 3A: F-I Explorer for different `sig_gwn`\n",
        "\n",
        "How does the F-I curve of the LIF neuron change as we increase the $\\sigma$ of the GWN? We can already expect that the F-I curve will be stochastic and the results will vary from one trial to another. But will there be any other change compared to the F-I curved measured using DC?\n",
        "\n",
        "Here's an interactive demo that shows how the F-I curve of a LIF neuron changes for different levels of fluctuation $\\sigma$.\n"
      ]
    },
    {
      "cell_type": "code",
      "execution_count": null,
      "metadata": {
        "cellView": "form",
        "execution": {},
        "id": "e4Um-uAmptoi"
      },
      "outputs": [],
      "source": [
        "# @markdown Make sure you execute this cell to enable the widget!\n",
        "\n",
        "my_layout.width = '450px'\n",
        "@widgets.interact(\n",
        "    sig_gwn=widgets.FloatSlider(3.0, min=0., max=6., step=0.5,\n",
        "                                layout=my_layout)\n",
        ")\n",
        "\n",
        "\n",
        "def diff_std_affect_fI(sig_gwn):\n",
        "  pars = default_pars(T=1000.)\n",
        "  I_mean = np.arange(100., 400., 10.)\n",
        "  spk_count = np.zeros(len(I_mean))\n",
        "  spk_count_dc = np.zeros(len(I_mean))\n",
        "\n",
        "  for idx in range(len(I_mean)):\n",
        "      I_GWN = my_GWN(pars, mu=I_mean[idx], sig=sig_gwn, myseed=2020)\n",
        "      v, rec_spikes = run_LIF(pars, Iinj=I_GWN)\n",
        "      v_dc, rec_sp_dc = run_LIF(pars, Iinj=I_mean[idx])\n",
        "      spk_count[idx] = len(rec_spikes)\n",
        "      spk_count_dc[idx] = len(rec_sp_dc)\n",
        "\n",
        "  # Plot the F-I curve i.e. Output firing rate as a function of input mean.\n",
        "  plt.figure()\n",
        "  plt.plot(I_mean, spk_count, 'k',\n",
        "           label=r'$\\sigma_{\\mathrm{GWN}}=%.2f$' % sig_gwn)\n",
        "  plt.plot(I_mean, spk_count_dc, 'k--', alpha=0.5, lw=4, dashes=(2, 2),\n",
        "           label='DC input')\n",
        "  plt.ylabel('Spike count')\n",
        "  plt.xlabel('Average injected current (pA)')\n",
        "  plt.legend(loc='best')\n",
        "  plt.show()"
      ]
    },
    {
      "cell_type": "markdown",
      "metadata": {
        "execution": {},
        "id": "Z_o_K4nTptoi"
      },
      "source": [
        "[*Click for solution*](https://github.com/NeuromatchAcademy/course-content/tree/main/tutorials/W2D3_BiologicalNeuronModels/solutions/W2D3_Tutorial1_Solution_5aa4e3b0.py)\n",
        "\n"
      ]
    },
    {
      "cell_type": "code",
      "execution_count": null,
      "metadata": {
        "cellView": "form",
        "execution": {},
        "id": "IjhOqc4mptoi"
      },
      "outputs": [],
      "source": [
        "# @title Submit your feedback\n",
        "content_review(f\"{feedback_prefix}_F_I_explorer_Interactive_Demo_and_Discussion\")"
      ]
    },
    {
      "cell_type": "markdown",
      "metadata": {
        "execution": {},
        "id": "Vdl6tUuNptol"
      },
      "source": [
        "## Coding Exercise 3: Compute $CV_{ISI}$ values\n",
        "\n",
        "As shown above, the F-I curve becomes smoother while increasing the amplitude of the fluctuation ($\\sigma$). In addition, the fluctuation can also change the irregularity of the spikes. Let's investigate the effect of $\\mu=250$ with $\\sigma=0.5$ vs $\\sigma=3$.\n",
        "\n",
        "Fill in the code below to compute ISI, then plot the histogram of the ISI and compute the $CV_{ISI}$. Note that, you can use `np.diff` to calculate ISI."
      ]
    },
    {
      "cell_type": "code",
      "execution_count": null,
      "metadata": {
        "execution": {},
        "id": "44hO5y2qptol"
      },
      "outputs": [],
      "source": [
        "def isi_cv_LIF(spike_times):\n",
        "  \"\"\"\n",
        "  Calculates the interspike intervals (isi) and\n",
        "  the coefficient of variation (cv) for a given spike_train\n",
        "\n",
        "  Args:\n",
        "    spike_times : (n, ) vector with the spike times (ndarray)\n",
        "\n",
        "  Returns:\n",
        "    isi         : (n-1,) vector with the inter-spike intervals (ms)\n",
        "    cv          : coefficient of variation of isi (float)\n",
        "\n",
        "  \"\"\"\n",
        "  ########################################################################\n",
        "  ## TODO for students: compute the membrane potential v, spike train sp #\n",
        "  # Fill out function and remove\n",
        "  raise NotImplementedError('Student Exercise: calculate the isi and the cv!')\n",
        "  ########################################################################\n",
        "  if len(spike_times) >= 2:\n",
        "    # Compute isi\n",
        "    isi = ...\n",
        "    # Compute cv\n",
        "    cv = ...\n",
        "  else:\n",
        "    isi = np.nan\n",
        "    cv = np.nan\n",
        "\n",
        "  return isi, cv\n",
        "\n",
        "\n",
        "# Set parameters\n",
        "pars = default_pars(T=1000.)\n",
        "mu_gwn = 250\n",
        "sig_gwn1 = 0.5\n",
        "sig_gwn2 = 3.0\n",
        "\n",
        "# Run LIF model for sigma = 0.5\n",
        "I_GWN1 = my_GWN(pars, mu=mu_gwn, sig=sig_gwn1, myseed=2020)\n",
        "_, sp1 = run_LIF(pars, Iinj=I_GWN1)\n",
        "\n",
        "# Run LIF model for sigma = 3\n",
        "I_GWN2 = my_GWN(pars, mu=mu_gwn, sig=sig_gwn2, myseed=2020)\n",
        "_, sp2 = run_LIF(pars, Iinj=I_GWN2)\n",
        "\n",
        "# Compute ISIs/CV\n",
        "isi1, cv1 = isi_cv_LIF(sp1)\n",
        "isi2, cv2 = isi_cv_LIF(sp2)\n",
        "\n",
        "# Visualize\n",
        "my_hists(isi1, isi2, cv1, cv2, sig_gwn1, sig_gwn2)"
      ]
    },
    {
      "cell_type": "markdown",
      "metadata": {
        "execution": {},
        "id": "KahBbgB0ptol"
      },
      "source": [
        "[*Click for solution*](https://github.com/NeuromatchAcademy/course-content/tree/main/tutorials/W2D3_BiologicalNeuronModels/solutions/W2D3_Tutorial1_Solution_27d69c89.py)\n",
        "\n",
        "*Example output:*\n",
        "\n",
        "<img alt='Solution hint' align='left' width=1077.0 height=377.0 src=https://raw.githubusercontent.com/NeuromatchAcademy/course-content/main/tutorials/W2D3_BiologicalNeuronModels/static/W2D3_Tutorial1_Solution_27d69c89_0.png>\n",
        "\n"
      ]
    },
    {
      "cell_type": "code",
      "execution_count": null,
      "metadata": {
        "cellView": "form",
        "execution": {},
        "id": "rsx_7a4Bptol"
      },
      "outputs": [],
      "source": [
        "# @title Submit your feedback\n",
        "content_review(f\"{feedback_prefix}_Compute_CV_ISI_Exercise\")"
      ]
    },
    {
      "cell_type": "markdown",
      "metadata": {
        "execution": {},
        "id": "voA6bGBFptol"
      },
      "source": [
        "## Interactive Demo 3B: Spike irregularity explorer for different `sig_gwn`\n",
        "\n",
        "In the above illustration, we see that the CV of inter-spike-interval (ISI) distribution depends on $\\sigma$ of GWN. What about the mean of GWN, should that also affect the CV$_{\\rm ISI}$? If yes, how? Does the efficacy of $\\sigma$ in increasing the CV$_{\\rm ISI}$ depend on $\\mu$?\n",
        "\n",
        "In the following interactive demo, you will examine how different levels of fluctuation $\\sigma$ affect the CVs for different average injected currents ($\\mu$).\n",
        "\n",
        "1. Does the standard deviation of the injected current affect the F-I curve in any qualitative manner?\n",
        "2. Why does increasing the mean of GWN reduce the CV$_{\\rm ISI}$?\n",
        "3.  If you plot spike count (or rate) vs. CV$_{\\rm ISI}$, should there be a relationship between the two? Try out yourself."
      ]
    },
    {
      "cell_type": "code",
      "execution_count": null,
      "metadata": {
        "cellView": "form",
        "execution": {},
        "id": "esHm3Fsrptol"
      },
      "outputs": [],
      "source": [
        "# @markdown Make sure you execute this cell to enable the widget!\n",
        "\n",
        "my_layout.width = '450px'\n",
        "@widgets.interact(\n",
        "    sig_gwn=widgets.FloatSlider(0.0, min=0., max=10.,\n",
        "                                step=0.5, layout=my_layout)\n",
        ")\n",
        "\n",
        "\n",
        "def diff_std_affect_fI(sig_gwn):\n",
        "  pars = default_pars(T=1000.)\n",
        "  I_mean = np.arange(100., 400., 20)\n",
        "  spk_count = np.zeros(len(I_mean))\n",
        "  cv_isi = np.empty(len(I_mean))\n",
        "\n",
        "  for idx in range(len(I_mean)):\n",
        "    I_GWN = my_GWN(pars, mu=I_mean[idx], sig=sig_gwn)\n",
        "    v, rec_spikes = run_LIF(pars, Iinj=I_GWN)\n",
        "    spk_count[idx] = len(rec_spikes)\n",
        "    if len(rec_spikes) > 3:\n",
        "      isi = np.diff(rec_spikes)\n",
        "      cv_isi[idx] = np.std(isi) / np.mean(isi)\n",
        "\n",
        "  # Plot the F-I curve i.e. Output firing rate as a function of input mean.\n",
        "  plt.figure()\n",
        "  plt.plot(I_mean[spk_count > 5], cv_isi[spk_count > 5], 'bo', alpha=0.5)\n",
        "  plt.xlabel('Average injected current (pA)')\n",
        "  plt.ylabel(r'Spike irregularity ($\\mathrm{CV}_\\mathrm{ISI}$)')\n",
        "  plt.ylim(-0.1, 1.5)\n",
        "  plt.grid(True)\n",
        "  plt.show()"
      ]
    },
    {
      "cell_type": "markdown",
      "metadata": {
        "execution": {},
        "id": "Ob_HiXQbptol"
      },
      "source": [
        "[*Click for solution*](https://github.com/NeuromatchAcademy/course-content/tree/main/tutorials/W2D3_BiologicalNeuronModels/solutions/W2D3_Tutorial1_Solution_c6f1c4a2.py)\n",
        "\n"
      ]
    },
    {
      "cell_type": "code",
      "execution_count": null,
      "metadata": {
        "cellView": "form",
        "execution": {},
        "id": "bDXGZpu4ptol"
      },
      "outputs": [],
      "source": [
        "# @title Submit your feedback\n",
        "content_review(f\"{feedback_prefix}_Spike_Irregularity_Interactive_Demo_and_Discussion\")"
      ]
    },
    {
      "cell_type": "markdown",
      "metadata": {
        "execution": {},
        "id": "Z4-4mRu0ptol"
      },
      "source": [
        "---\n",
        "# Summary\n",
        "\n",
        "*Estimated timing of tutorial: 1 hour, 10 min*\n",
        "\n",
        "Congratulations! You've just built a leaky integrate-and-fire (LIF) neuron model from scratch, and studied its dynamics in response to various types of inputs, having:\n",
        "\n",
        "- simulated the LIF neuron model\n",
        "\n",
        "- driven the LIF neuron with external inputs, such as direct current and Gaussian white noise\n",
        "\n",
        "- studied how different inputs affect the  LIF neuron's output (firing rate and spike time irregularity),\n",
        "\n",
        "with a special focus on low rate and irregular firing regime to mimic real cortical neurons. The next tutorial will look at how spiking statistics may be influenced by a neuron's input statistics.\n",
        "\n",
        "If you have extra time, look at the bonus sections below to explore a different type of noise input and learn about extensions to integrate-and-fire models.\n"
      ]
    },
    {
      "cell_type": "markdown",
      "metadata": {
        "execution": {},
        "id": "gOYErmugptol"
      },
      "source": [
        "---\n",
        "# Bonus"
      ]
    },
    {
      "cell_type": "markdown",
      "metadata": {
        "execution": {},
        "id": "_TQORep2ptol"
      },
      "source": [
        "## Bonus Section 1: Ornstein-Uhlenbeck Process\n",
        "\n",
        "When a neuron receives spiking input, the synaptic current is Shot Noise -- which is a kind of colored noise and the spectrum of the noise determined by the synaptic kernel time constant. That is, a neuron is driven by **colored noise** and not GWN.\n",
        "\n",
        "We can model colored noise using the Ornstein-Uhlenbeck process - filtered white noise."
      ]
    },
    {
      "cell_type": "markdown",
      "metadata": {
        "execution": {},
        "id": "6xqmV7bAptol"
      },
      "source": [
        "We next study if the input current is temporally correlated and is modeled as an Ornstein-Uhlenbeck process $\\eta(t)$, i.e., low-pass filtered GWN with a time constant $\\tau_{\\eta}$:\n",
        "\n",
        "\\begin{equation}\n",
        "\\tau_\\eta \\frac{d}{dt}\\eta(t) = \\mu-\\eta(t) + \\sigma_\\eta\\sqrt{2\\tau_\\eta}\\xi(t)\n",
        "\\end{equation}\n",
        "\n",
        "**Hint:** An OU process as defined above has\n",
        "\n",
        "\\begin{equation}\n",
        "\\mathbb{E}[\\eta(t)]=\\mu\n",
        "\\end{equation}\n",
        "\n",
        "and autocovariance\n",
        "\n",
        "\\begin{equation}\n",
        "[\\eta(t)\\eta(t+\\tau)]=\\sigma_\\eta^2e^{-|t-\\tau|/\\tau_\\eta}\n",
        "\\end{equation}\n",
        "\n",
        "which can be used to check your code."
      ]
    },
    {
      "cell_type": "code",
      "execution_count": null,
      "metadata": {
        "cellView": "form",
        "execution": {},
        "id": "D8TWjzQZptol"
      },
      "outputs": [],
      "source": [
        "# @markdown Execute this cell to get helper function `my_OU`\n",
        "\n",
        "\n",
        "def my_OU(pars, mu, sig, myseed=False):\n",
        "  \"\"\"\n",
        "  Function that produces Ornstein-Uhlenbeck input\n",
        "\n",
        "  Args:\n",
        "    pars       : parameter dictionary\n",
        "    sig        : noise amplitute\n",
        "    myseed     : random seed. int or boolean\n",
        "\n",
        "  Returns:\n",
        "    I_ou       : Ornstein-Uhlenbeck input current\n",
        "  \"\"\"\n",
        "\n",
        "  # Retrieve simulation parameters\n",
        "  dt, range_t = pars['dt'], pars['range_t']\n",
        "  Lt = range_t.size\n",
        "  tau_ou = pars['tau_ou']  # [ms]\n",
        "\n",
        "  # set random seed\n",
        "  if myseed:\n",
        "    np.random.seed(seed=myseed)\n",
        "  else:\n",
        "    np.random.seed()\n",
        "\n",
        "  # Initialize\n",
        "  noise = np.random.randn(Lt)\n",
        "  I_ou = np.zeros(Lt)\n",
        "  I_ou[0] = noise[0] * sig\n",
        "\n",
        "  # generate OU\n",
        "  for it in range(Lt-1):\n",
        "    I_ou[it+1] = I_ou[it] + (dt / tau_ou) * (mu - I_ou[it]) + np.sqrt(2 * dt / tau_ou) * sig * noise[it + 1]\n",
        "\n",
        "  return I_ou\n",
        "\n",
        "\n",
        "help(my_OU)"
      ]
    },
    {
      "cell_type": "markdown",
      "metadata": {
        "execution": {},
        "id": "xZzmyl1fptol"
      },
      "source": [
        "### Bonus Interactive Demo 1: LIF Explorer with OU input\n",
        "In the following, we will check how a neuron responds to a noisy current that follows the statistics of an OU process.\n",
        "\n",
        "-  How does the OU type input change neuron responsiveness?\n",
        "-  What do you think will happen to the spike pattern and rate if you increased or decreased the time constant of the OU process?"
      ]
    },
    {
      "cell_type": "code",
      "execution_count": null,
      "metadata": {
        "cellView": "form",
        "execution": {},
        "id": "gam2l08Eptol"
      },
      "outputs": [],
      "source": [
        "# @markdown Remember to enable the widget by running the cell!\n",
        "\n",
        "my_layout.width = '450px'\n",
        "@widgets.interact(\n",
        "  tau_ou=widgets.FloatSlider(10.0, min=5., max=20.,\n",
        "                             step=2.5, layout=my_layout),\n",
        "  sig_ou=widgets.FloatSlider(10.0, min=5., max=40.,\n",
        "                             step=2.5, layout=my_layout),\n",
        "  mu_ou=widgets.FloatSlider(190.0, min=180., max=220.,\n",
        "                            step=2.5, layout=my_layout)\n",
        ")\n",
        "\n",
        "\n",
        "def LIF_with_OU(tau_ou=10., sig_ou=40., mu_ou=200.):\n",
        "  pars = default_pars(T=1000.)\n",
        "  pars['tau_ou'] = tau_ou  # [ms]\n",
        "\n",
        "  I_ou = my_OU(pars, mu_ou, sig_ou)\n",
        "  v, sp = run_LIF(pars, Iinj=I_ou)\n",
        "\n",
        "  plt.figure(figsize=(12, 4))\n",
        "  plt.subplot(121)\n",
        "  plt.plot(pars['range_t'], I_ou, 'b', lw=1.0)\n",
        "  plt.xlabel('Time (ms)')\n",
        "  plt.ylabel(r'$I_{\\mathrm{OU}}$ (pA)')\n",
        "  plt.subplot(122)\n",
        "  plot_volt_trace(pars, v, sp)\n",
        "  plt.tight_layout()\n",
        "  plt.show()"
      ]
    },
    {
      "cell_type": "markdown",
      "metadata": {
        "execution": {},
        "id": "B91zEW9Nptol"
      },
      "source": [
        "[*Click for solution*](https://github.com/NeuromatchAcademy/course-content/tree/main/tutorials/W2D3_BiologicalNeuronModels/solutions/W2D3_Tutorial1_Solution_a0f797af.py)\n",
        "\n"
      ]
    },
    {
      "cell_type": "code",
      "execution_count": null,
      "metadata": {
        "cellView": "form",
        "execution": {},
        "id": "ulTJnTWeptol"
      },
      "outputs": [],
      "source": [
        "# @title Submit your feedback\n",
        "content_review(f\"{feedback_prefix}_LIF_explorer_with_OU_input_Bonus_Interactive_Demo_and_Discussion\")"
      ]
    },
    {
      "cell_type": "markdown",
      "metadata": {
        "execution": {},
        "id": "VYwJoDKnptol"
      },
      "source": [
        "## Bonus Section 2: Generalized Integrate-and-Fire models\n",
        "\n",
        "LIF model is not the only abstraction of real neurons. If you want to learn about more realistic types of neuronal models, watch the Bonus Video!"
      ]
    },
    {
      "cell_type": "code",
      "execution_count": null,
      "metadata": {
        "cellView": "form",
        "execution": {},
        "id": "rXU8ybg9ptol"
      },
      "outputs": [],
      "source": [
        "# @title Video 3 (Bonus): Extensions to Integrate-and-Fire models\n",
        "from ipywidgets import widgets\n",
        "from IPython.display import YouTubeVideo\n",
        "from IPython.display import IFrame\n",
        "from IPython.display import display\n",
        "\n",
        "\n",
        "class PlayVideo(IFrame):\n",
        "  def __init__(self, id, source, page=1, width=400, height=300, **kwargs):\n",
        "    self.id = id\n",
        "    if source == 'Bilibili':\n",
        "      src = f'https://player.bilibili.com/player.html?bvid={id}&page={page}'\n",
        "    elif source == 'Osf':\n",
        "      src = f'https://mfr.ca-1.osf.io/render?url=https://osf.io/download/{id}/?direct%26mode=render'\n",
        "    super(PlayVideo, self).__init__(src, width, height, **kwargs)\n",
        "\n",
        "\n",
        "def display_videos(video_ids, W=400, H=300, fs=1):\n",
        "  tab_contents = []\n",
        "  for i, video_id in enumerate(video_ids):\n",
        "    out = widgets.Output()\n",
        "    with out:\n",
        "      if video_ids[i][0] == 'Youtube':\n",
        "        video = YouTubeVideo(id=video_ids[i][1], width=W,\n",
        "                             height=H, fs=fs, rel=0)\n",
        "        print(f'Video available at https://youtube.com/watch?v={video.id}')\n",
        "      else:\n",
        "        video = PlayVideo(id=video_ids[i][1], source=video_ids[i][0], width=W,\n",
        "                          height=H, fs=fs, autoplay=False)\n",
        "        if video_ids[i][0] == 'Bilibili':\n",
        "          print(f'Video available at https://www.bilibili.com/video/{video.id}')\n",
        "        elif video_ids[i][0] == 'Osf':\n",
        "          print(f'Video available at https://osf.io/{video.id}')\n",
        "      display(video)\n",
        "    tab_contents.append(out)\n",
        "  return tab_contents\n",
        "\n",
        "\n",
        "video_ids = [('Youtube', 'G0b6wLhuQxE'), ('Bilibili', 'BV1c54y1B7d7')]\n",
        "tab_contents = display_videos(video_ids, W=854, H=480)\n",
        "tabs = widgets.Tab()\n",
        "tabs.children = tab_contents\n",
        "for i in range(len(tab_contents)):\n",
        "  tabs.set_title(i, video_ids[i][0])\n",
        "display(tabs)"
      ]
    },
    {
      "cell_type": "code",
      "execution_count": null,
      "metadata": {
        "cellView": "form",
        "execution": {},
        "id": "rafQEvngptol"
      },
      "outputs": [],
      "source": [
        "# @title Submit your feedback\n",
        "content_review(f\"{feedback_prefix}_Extension_to_Integrate_and_Fire_Bonus_Video\")"
      ]
    }
  ],
  "metadata": {
    "colab": {
      "name": "W2D3_Tutorial1",
      "provenance": [],
      "toc_visible": true,
      "include_colab_link": true
    },
    "kernel": {
      "display_name": "Python 3",
      "language": "python",
      "name": "python3"
    },
    "kernelspec": {
      "display_name": "Python 3",
      "name": "python3"
    },
    "language_info": {
      "codemirror_mode": {
        "name": "ipython",
        "version": 3
      },
      "file_extension": ".py",
      "mimetype": "text/x-python",
      "name": "python",
      "nbconvert_exporter": "python",
      "pygments_lexer": "ipython3",
      "version": "3.9.21"
    },
    "widgets": {
      "application/vnd.jupyter.widget-state+json": {
        "8492d16a254847038c3369aadee86d30": {
          "model_module": "@jupyter-widgets/controls",
          "model_name": "TabModel",
          "model_module_version": "1.5.0",
          "state": {
            "_dom_classes": [],
            "_model_module": "@jupyter-widgets/controls",
            "_model_module_version": "1.5.0",
            "_model_name": "TabModel",
            "_titles": {
              "0": "Youtube",
              "1": "Bilibili"
            },
            "_view_count": null,
            "_view_module": "@jupyter-widgets/controls",
            "_view_module_version": "1.5.0",
            "_view_name": "TabView",
            "box_style": "",
            "children": [
              "IPY_MODEL_d6792cfc05a143b7a3dc8b64e0616fa4",
              "IPY_MODEL_d500731287c34ed78cf7285d1fef4e05"
            ],
            "layout": "IPY_MODEL_8b66ead3cac149aabbb1e1bbedd45622",
            "selected_index": 0
          }
        },
        "d6792cfc05a143b7a3dc8b64e0616fa4": {
          "model_module": "@jupyter-widgets/output",
          "model_name": "OutputModel",
          "model_module_version": "1.0.0",
          "state": {
            "_dom_classes": [],
            "_model_module": "@jupyter-widgets/output",
            "_model_module_version": "1.0.0",
            "_model_name": "OutputModel",
            "_view_count": null,
            "_view_module": "@jupyter-widgets/output",
            "_view_module_version": "1.0.0",
            "_view_name": "OutputView",
            "layout": "IPY_MODEL_8fc5215bbf3b4126bf2190a7ee3a8132",
            "msg_id": "",
            "outputs": [
              {
                "output_type": "stream",
                "name": "stdout",
                "text": [
                  "Video available at https://youtube.com/watch?v=rSExvwCVRYg\n"
                ]
              },
              {
                "output_type": "display_data",
                "data": {
                  "text/plain": "<IPython.lib.display.YouTubeVideo at 0x7cf9ac9dd810>",
                  "text/html": "\n        <iframe\n            width=\"854\"\n            height=\"480\"\n            src=\"https://www.youtube.com/embed/rSExvwCVRYg?fs=1&rel=0\"\n            frameborder=\"0\"\n            allowfullscreen\n            \n        ></iframe>\n        ",
                  "image/jpeg": "/9j/4AAQSkZJRgABAQAAAQABAAD/2wCEAAUDBAkKCAgICAgICAgICAgICAgICQgICAgICAgICAgICAgIChANCAgOCggIDRUNDhERExMTCAsWGBYSGBASExIBBQUFCAcIDwgIDhINDQ0SEhISEhISEhISEhISEhISEhISEhISEhISEhISEhISEhISEhISEhISEhISEhISEhISEv/AABEIAWgB4AMBIgACEQEDEQH/xAAdAAEAAQUBAQEAAAAAAAAAAAAABgMEBQcIAQIJ/8QAWBAAAQQBAQMHBQcRBQYFBAMAAQACAwQFEQYSIQcTFBYxUpIIIkFR0jJTYXGRsdEVGCMzNEJUVXKBk5ShssHi8DZzdLO0JDd1guHxCTVidsIXg6K1Q2SG/8QAGgEBAQEBAQEBAAAAAAAAAAAAAAECAwUEBv/EACwRAQEAAgECBQIFBQEAAAAAAAABAhEDBDESEyFBYTKBBTNRcbEVkaHB8BT/2gAMAwEAAhEDEQA/AOMkREBERAREQEREBERAREQEREBERAREQEREBERAREQEREBERAREQEREBERAREQEREBERAREQEREBERAREQEREBERAREQEREBERAREQEREBERAREQEREBERAREQEREBERAREQEREBERAREQEREBERAREQEREBERAREQEREBERAREQEREBERAREQEREBERAREQEREBERAREQEWf6qT9+HxP8AYTqpP34fE/2EGARZ/qpP34fE/wBhOqk/fh8T/YQYBFn+qk/fh8T/AGE6qT9+HxP9hBgEWf6qT9+HxP8AYTqpP34fE/2EGARZ/qpP34fE/wBhOqk/fh8T/YQYBFn+qk/fh8T/AGE6qT9+HxP9hBgEWf6qT9+HxP8AYTqpP34fE/2EGARZ/qpP34fE/wBhOqk/fh8T/YQYBFn+qk/fh8T/AGE6qT9+HxP9hBgEWf6qT9+HxP8AYTqpP34fE/2EGARZ/qpP34fE/wBhOqk/fh8T/YQYBFn+qk/fh8T/AGE6qT9+HxP9hBgEWf6qT9+HxP8AYTqpP34fE/2EGARZ/qpP34fE/wBhOqk/fh8T/YQYBFn+qk/fh8T/AGE6qT9+HxP9hBgEWf6qT9+HxP8AYTqpP34fE/2EGARZ/qpP34fE/wBhOqk/fh8T/YQYBFn+qk/fh8T/AGE6qT9+HxP9hBgEWf6qT9+HxP8AYTqpP34fE/2EGARZ/qpP34fE/wBhOqk/fh8T/YQYBFn+qk/fh8T/AGE6qT9+HxP9hBgEWf6qT9+HxP8AYTqpP34fE/2EGARZ/qpP34fE/wBhOqk/fh8T/YQYBFn+qk/fh8T/AGE6qT9+HxP9hBgEWf6qT9+HxP8AYTqpP34fE/2EGARZ/qpP34fE/wBhOqk/fh8T/YQYBFn+qk/fh8T/AGE6qT9+HxP9hBgEWf6qT9+HxP8AYTqpP34fE/2EGARZ/qpP34fE/wBhOqk/fh8T/YQYBFn+qk/fh8T/AGE6qT9+HxP9hBM0RFpkREQEREBERAREQEREBERAREQEREBERAREQEREBERAREQEREBERAREQEREBERAREQEREBERAREQEREBERAREQEREBERAREQEREBERARFGpdqwHObzBO6SNec9R07iipKii/W4fg5/S/wAidbh+Dn9L/IhpKEUX63D8HP6X+ROtw/Bz+l/kQ0lCKL9bh+Dn9L/InW4fg5/S/wAiGkoRRfrcPwc/pf5E63D8HP6X+RDSUIov1uH4Of0v8idbh+Dn9L/IhpKEUX63D8HP6X+ROtw/Bz+l/kQ0lCKL9bh+Dn9L/InW4fg5/S/yIaShFF+tw/Bz+l/kTrcPwc/pf5ENJQii/W4fg5/S/wAidbh+Dn9L/IhpKEUX63D8HP6X+ROtw/Bz+l/kQ0lCKL9bh+Dn9L/InW4fg5/S/wAiGkoRRfrcPwc/pf5E63D8HP6X+RDSUIov1uH4Of0v8idbh+Dn9L/IhpKEUX63D8HP6X+ROtw/Bz+l/kQ0lCKL9bh+Dn9L/InW4fg5/S/yIaShFHKe1AfJHHzBG+9jNec103nBuum5x7VI0BERVBERAREQEREBERAREQEREBERAREQEREBERAREQEREALWVv7Y/wDLd+8Vs0LWVv7Y/wDLd+8VKsUkRFFEREBERAW/X+SLtaASK1B2noF2LU/AN4AfKtBLtnywuTLaLK7W4y1galkiLEVIRkIpW1Y6s7b+Re4myXtMbmslY47urtHDQEnRByJt3sdkcRcdQy1OWlbaxsnNybjg+N+obLDLG50c8RLXt32OcNWPGurSBlOVDk1yWDdSZk2QsN+t0qvzMrZtYtQPO3fcu4jgtueXNtxTv3MNjqtuPIWcNTlhyN+HQwzXJxWEkbJG8JC013OO7q0Gct11a4DA+VlsFHiJcE2LIZS/0zFiw45Oy2y6A7zRzVctjbzcPH3PH40Gj0XRmU5JNmdnaNB+2l3Ly5jIQi0MNhRUD6cDxujpL7PB7mvDm74ewFzJGtEgYXmPcsnI/RrYWntRszfs5LA2pOjzC4xrL1GwHuj0n3I2NcwyMcwncboTHoXtka5BHM1yVug2Px21hvNe3IZF9AUOYLXRFjr7edNnnSH69BPm7g+2dvDjrddK7bf7nNm//cU/+Zn1H+TfkfxTNnute1t65Txc8pgx1LHNiN+/I1zwC107XNY1xhm0aQNWxueXtboSGikXQl3kiwGZwmRzGxdzKGxiWunv4bLtrmz0cNe8PrvqjTUshlc1u9IXbhb5rtAY55PfI/DmIclmMxdfjdncPG5121EA6zNI2PnDBWBY8Nc1ha4ndeSZImtY4v1YGnlJuTPYe7m8hHjMa2J1qSOWVomkETN2Fhe/V57DoFvjkv5Ldg9osm2lisntHTkjbM+SnfbSbLbhijAE9GzHFIyPR5a5zJRvODnaNaGlQzkF5P4bm20+D6dkqUEEuWiZaoTsr3tymZWs1m5st84MG9o0a6nsQagzeOkq2rNScATVZ5q0wad5olgkdFIGuHuhvNPFWa2bspyW2cxtZbwFKZ32K/fbPdtEyviqVbL45bc+7pz0x80aDd3pJWjVoJI2DtXslybY27Jh7eS2ot2oJDDbv0hQNStPH5ssWj4d4gOBBDGS6HUb3A6Bzii2Fyd4jZmS5knZzKX6uNrF3QG0oBJeyAdK8RtBfE5kDhE0OJe1o1cBqDoDsqxyV7LZfZzM5rZS1moLeBhE9ujmOiO5yBrJJXSf7K07jnxwzlrg8jWAtLG67yDX/IryTuztXPWW3m0/qHR6aWGuZ+k/Y7UnNhwlZzX3NpvaO932cOOs1075En/lW33/AAEf6bKLmJAREQEREBERBd4f7pr/AN/F/mNWx1rjD/dNf+/i/wAxq2OrEoiIqgiIgIiICIiAiIgIrea6xp0JJPZwGo+f9qqRSh3YdT6vSpuLpURERBERUEREBERAREQEREBERAC1lb+2P/Ld+8Vs0LWVv7Y/8t37xUqxSREUUREQEREBdf8AlybbZnHbXYxuIyWQqOOGpyNgqTTCKWc5HJtG/VaTHYc4MY3de128GgEFcgLfx8rva38IoD4qUX8SgmPlqYVkuA2W2hvVI6G0V+KKLJwsjEEk5dTZNI+xC4b7ZYZGtbo7zmCxuO13W6e+WxcZBldirErS+KDG1ppGgal0cViF72geklrSFzvyjcoGVzdhtrMXpbksbSyIOEcUULCQS2GCFrY49SBqWtBdujUnRXXKfyk5LOOpPyb4XmhW6LX5mJsOkWoOjt33TuA4oNzf+IZQlO0GOyTQZKF3D121LLfOhkdFNYfJGx44Ehk8MnxTtKu8RVfR5GsoL2sJzOaglxjJNQ6WPpOMcNxr9CA5uOuyjTtaN7sOq1tyeeUNtBiqTMbHLUv0IgBXrZOs22ysBroIX7zZA0a8GucWt0AaBx1jfKtypZfPzxzZa1zrYA4Vq0TGw1awdpvc1Cz746DV7i5xAA10AADb+23+5zZv/wBxT/5mfWT5ddbvJfsbdpB0lXHvjq3eba4iCdkEtN0k4A+xt5+FzA52gJsR6Hz266FyPKLkJsBU2bkfCcXStuuwMETRMJ3m0SXTdrm625uHwj1LI8kvLBmcBzzMZZZ0Wyd6xRtRixTlfu7nOGJ3GOQtDQXMLS4MaHahoADdXkDsNWLarM2g6PF1cXzc8zwRE+RnOWXsaSNJJGRRnVo1I5+PvjVyJ4+TKcle1OHxsYmyUOSjuPqRavsTwtfjLTHCJoLnSPZQssY0Al7qwA4lam5UuXbO5uo3H25q9bHBzXuoY6AVK0rmO32GYBznytDtHBjnFu81rtN5oIv/ACZtmNprVi9d2TvxVL2PjgEsT7DYX247Jm3Y2wzRugssaYCS2bRoJjI46EBsfyFeTrLw7SNylvHWaVKvVtQumuxPq87PNGWshrsmaHTv0a9x3QQ0RnUgloNr5Ln+9G7/AIraH9+wtqcnp2nx1mTajlGysdenjKlplGg6bH781uZobvxVsbpBJMYudY3iZCZdOA1XIOyPKRfxualz1AxR3ZZLcn2WMTRjpheZRuu7fdnQoOhvJEykEPKRtJBKWNlu/VuGsXHRz5Y8rHZfCwekmKCV/wAUC5p5QdmbuPy1zHX45umw2ZI3l7X79gukO5Yj3uMjJQQ9rhrvB4I11VlPtBaOQflGTPhvPtvvCeAmF8dl8pmMkRYdYyHuJGnYt0Q+VttSIWRufjJZ2M3W3ZKLDa7NC7zXCIO+KPT4EFTyeeTbGuwm0O1Gco2MmzBF8UWGZJLW5yxDGyWV9t0f2RkTOcj19DWsmLmv03Vs3ka2o+qWyPKDPDs7jMHTZhZWVpMZUnhFwihlTMyxakeW25IBzZ80N3eknUeeFzxyactecwt27eo2Y3vyUrp78NmJslazM975DM6Jm7zcgdI86xlvutOzgpNX8qLaluQdeNqtIw131hjX1wMYyJ5a47taNzSZN5uvOOcXaEt13fNQTDyJP/Ktvv8AgI/02UXMSn2zPK1lKMmdkp9Eh6wiZuQjbXZzQZM6wXMrM7K7B0qUADsG76lAUBERAREQEREF3h/umv8A38X+Y1bHWuMP901/7+L/ADGrY6sSiIiqCIiAiIgIiIKVmw1g1cdPQB6SfUFZWMkNzeAHbwB473q7PmVPaOEjddoS4t0aBqdNeOmg++PDh8S3Nyc8lrYoIZbjN+09jXOaRvCDVo+xs9G963fBwXz83POObr6un6e8l9GjXCw//wDik07S0tO7r3tdOB7e31q4q880t32Pbp2OAO98BB9fArrCDZuu0ac031aaD9vrX07ZSo8t3q8fA6jQAen1L4b+IfD0P6d6fV/hy5HM4aE6kffA6gg6akj06cVeafAuksvyfULETon12RkjzZI/New+sEdvxFaB2xwb8Zb6FZcXNcDJVn7Gyxa6aHuvadAR8IPAEL6eDqpn6Pj6jpLx+veMUi9e3QrxfZHxCIiqCIiAiIgIiICIiAFrK39sf+W794rZoWsrf2x/5bv3ipVikiIorK4PZy/cZPJRoXbjKrQ+y+pWnsMrscHua+d0LCIWkRyHV2n2t3qKxS63/wDD6zsOPo7Z5GzvdHpQYizPuDeeIYhl3yua375wYHHT06aLXHldclUeHyUeSxgY/AZsdLx8kGjq8EkjWyyVWPZ5vNEPEsWmgMb9Brzbig1BlMFcrxVp7VO1WguMMlOaeCaGK1G0MJkrSSNDZ2ASRnVhI89vrCxy6P8AKr/snyZ/8Ftf6bCKNbE8gjpsZVy+dzmN2apZDjjRf8+zdZoDzzYC9m5AQ5hDt4khwdoGuYXBpVFPOWjkuu7P24YLUkFqtch6Tj8hUcX1blckaPjcRweA5hc3jpzjSC4Oa41eVLkvmw2P2eyE1qGwzaHHjIQxxse11dhgpz83KXcHu0uNGo7hQa+RbHfyTzjZJu1vS4ejuudD6HuSc9vc8Yd/nPc6ajXRZ7kx8nrJZvCNzGPs1iX3+g9Fl34+ba10fPWprHFsdeNj3SHgXERkNDnFrSGmkWzNvuSgVsnjcThctS2mt5FugGKdC9kNjnHMMD3tne1oDW75e8sAbq46AEqev8mavFMzHXNs9n6ucfuMGLLy7dnlAMMD5nSNc2R+9Ho3mtTvt0DtRqHOyKR8o+xV/C5GfF5OHmbMOhBad+KeJ/GKxXk00kheBwPAghzXBrmuaN15ryT7tO29uRzmKx+JihhfLmbjjXrmed0zW1II5nN56cCJjjq5o0lboSeCDnFX2CxFq3O2vRq2bllwc5sFSGWxO4MG85zYoWlxAAJJA4ALYHLtyOWtnnUZTcrZPG5OIy0MlT+1Tta2N5DmguDCWyse0tc5r2uBBOjg2U+Qf/bWj/hch/pJEGmNocfcr2HwZCC1WtsDOchuRyw2GhzGvj345wHtBY5pGo4ggr3Z/BXLspgx9O1enDDIYacE1mURtLWukMcLXODAXNBOmnnD1rpzy88RFchwe1lQDmrkcmKubpBEdqs+Z8cbiB50rXMvxOP/APUaFIvIDwsVCm/NWmaWM9kmYPF6jzjFWhmu23scNdI3GvJrr99QA9IQccZGlLBLJBYilgnhe6OaGZjopYpGHR0ckbwHMeCCCCAQrdbP5ZsHav7c5uhQgfZt2s9dhggj03nvdZk9LiGsYAC4vcQ1rWuJIAJU6f5M1eKZmOubZ7P1c4/cYMWXl2k8oBhrvmdI1zZH70ejea1O+3QO1Goc7IpJyjbE38NkpsXk4OatQkEbp34p4n/ap68gH2WF47D2ghzXBrmuaNtxeTZ0atWftBtPhdnr9yITVsbdeDMGO4NNqQyMFfztQSA9o0I11BADWG0vJvkqWIx2ctRRNx+Udu05GzRvked17/Piad5nBju1Q9db+Vbs/PjtgNkMdaMTp6lt0L3wPEsMmkFktlhkHu4ntLXAkA6OGoB1A1Pybch0l3GNzmWy+P2dw80pgqWsgd6W5KC4EVq+8zfZ9jl47wP2JxDSAXANQKYbQ8nGSp4bH56zFE3HZR5jqSNmY+RzgJT58QO8waQv7fUPWsvy18kdvAupzGzWyeLyUfO4/K0nb1awAAXMcNTzcoa5rhxc1zXAtcSHhu1+XD/dbsR/i3f5d9BzCi3TsByCmziIM7ms7jtncdde6Og66DJPaLHPa54hL4wyM824t84khpdoG7pdAuVTZOvi74qVctRzULoI523ce9r4fsheDE7de7cmbucW66jeCCJoiILvD/dNf+/i/wAxq2OtcYf7pr/38X+Y1bHViUREVQREQEREBAi9aeIJ7PT/AEFKrKbA4sT5SrvjfZHIJnajVriw+YwAjiNdD+b5en4B8Ho/7rS3IPihLNYsuA3YXbo4AauPZp/XpW3bmarVzu2JmRuI1DXHQ6dmp4cF4vVZeLPU9nt9HjMePd913M8a/wBfnXsUo9fasbDnKsn2uaJ4Pdc0kfIVWM8YOocNPh07fSviuNejLLPRmqp1HHj6v6K1X5TeGbLjIren2SnZjIcO3mpvsUrfi1Mbv/thbMo2Gbvuh+cj9ijPLHDzmFu6AENiMnoI0bx1C7cFuOcvy4dRJlhZ8OY6kjvcPIJb2OHY5vwK4VKtFo3Xh6NPj0OunwfSVVXv4dn5vLuIiLbIiIgIiICIiAiIgBayt/bH/lu/eK2aFrK39sf+W794qVYpIiKK6P8AJU/snymf8Fq/6bNrO+TFtFV2jwVzk/zcoEnNPsbP25NHyQviDpeaj1Ic58Dt6RrQfOhdYZq1rQDpnkr5UDiMTtLixRFobRUoqZnM5h6Hzcd2PnBHzTuf16Zru7zPtfbx4QbBZWepar3KkroLVWaOeCZmm9HLE4OY4Agg6EdhBB7CCEHSflpYWejgOT7H2mhtmljsjUna07zRLXiw8T9133zNWkg+kELZnla39koLOGbn8XmrkJxgGLlxk0MdJsDZNHxNa6ww88GmuSdNN2SHjwOnOflH8uMm1LMSJccyhJjG2w90dh1hth9sU99zWOiaYGg1SQ3ef9s014anI7G8vcX1GgwG02Cr7R42oGMovfYkp3acTWlgjjssY5xa1mjG7hjcGjdLiNAAqeUPyq4PLYbB4nDUclXGEdJHDJkOjuc2m+JrOZbLHO9zjrFD2gDSJvqWe8rv+zXJp/7bb/oMKtY8qm3GHvVq1TDbMVsDHXmfK6dtqS9cstc3cayWxNG1+4Pdbpc7ip9s75Q9E4XGYraDZWln5MLE2DG2ZrAhDIWNjjZHJGa8nARxRNdod2TmY95uo3kEjv1pI+RiDnI3x85mBLHvtLd+N12Tdkbr2sOh0Pp0TZi7LFyM5QwyviMmY5mQxuLC6GW1RZLES3juPaS1w9IcQdQSFDOU7yjLOZ2flwdrGwROkux2I7Febm4K1eBw6PSgpCHzY2Rhrd7nOOhOnFRqlyslmxtjZHoAIsXm3fqh0jQs0mgl5vovM+d9o03ucHuuzhxCcf8Ah+RwnbAGYNMjMXedV3tNROTAxxZr2O5h1gcPQXLTXKY+Z2bzDrOvSDlcgZ973XPG3MZdfh395W2xe0tvGZCrk6Epht05RLC/TUa6Fr2Pb9/G9jnsc30te4elbytcvuz9i4zM39hKdjOtMb32WZKeKnNOwfdElEwOjc/e0PniRx0Gr9QCgznl/t1GyMk4H1Rfh5BdJ0506dFcwP8AToJn29NfSX/Crf8A8RrJTu2joVHTSGtDiIZ4oCTzTJp7Vxk0rW9m+5sEIJ7dI2+paO5WuUG9n8nLlMk5hme1sUUUQLYa1eMuMdeFriSIwXvdxJJdI8niVnPKI5UztLlosoaIx/NUYqXMCx0rURTWJuc5zmY9Nekabu79528eAbY8ok68m+wRPHgB+YVXgD5APkUV8g/+2tH/AAuQ/wBJIovyh8rRyWzmB2f6AK4wnZb6Rzps/YnR/aOZbzPbr7tyxfITyhnZ/NQZgVBe5mKxF0czdG3ufidFvc7zUmmm9rpunXT0IOiOTZjtoNm9utkvOlvY/JXcpiI9Yw9xdblnZXhL9A0G1BIxznaaDJdo9GZhsx0duNgtjqr2mDZylObZjJayXKX8bZmsSPjHAuLd2UOPEG7IOGp15f2H5U8hic3bzmL5qGxbNsPimaZ4uZtzCd0Thq3f3XtjIPDjGD8CrbG8qlmrtVHtXchF+2LVm3NDzhrtkfZhmh3GSbj+ajYJQGjdOgjaEHQXINHCeV3aMyhpkZLnXVd7TUTm1GxxZr2O5h1gcPQXLlzlLfM7NZh1nXpDspkDPve65425jLr8O/vLLZDlItjaafaegOg3JMjPkIYw/nhEZ3vL4HvLW89GWSPjd5o3mucNBqtp2uX3Z+xdZmb2wlOxnWmN77LMlPFTmnYPumSiYHRufvaHzxI46DV+oBQbV8oCrDLtXyYG9oLsrqQvbwaZHuZaovgil1B1Y6y6y3Q9960X5b0sztuMuJi/dYzHtrh2u6IPqdVdpHr94ZHSk6ffOf6dVB+UrlLyWYzH1btzCO4x0XRRX3o46TK7zJBHWBcSxrHlz9SSS5znE6lbiyflM46/HXsZ3YrF5bL1oWwtvSzMbDLu751lrPqvJiDnb3NF7m6ySabmqC+8oBjhyZbChwcDzjTo4EHddWsuYeP3paQQfUQp/wAt1zZaHZrYk5zHZe9QOIiGOfi5GxQxE0seXizzk0Z557Awt3tT5k3p3loLlt5erG0WIx2Ot0Y4Z6VqS1Jbjm1jnMjZWiKOrzI6PExsga0b7zpGNSe1ffJny7mpiDs9ncPW2jwrX79avZlNexTcS4nmLIjeQ0b8hboGvbzjgHhp3QGT5Z+VXZ65srj9msDQy1SPHZPpsJyBryNEcjb5nj51k73kmW7vAaacO3gFI+XD/dbsR/i3f5d9as5UNucFboR0MHsrBg9y2yy6667NkLszGxTx9HMtiPfjhLpg8t33DWFnqGn3tvysm/svhNmugCEYaUy9N6RzhsatsN3ej8y3mvt/bvu9z8PANgcm/Kzs7kMDR2W21qWWwY5zhjszTLzJVa4ShvPRwjfBjY8MG6yZrwI96PVm+YP5SXJGNnbtUV7gv4zJwOtY615ge6JpbvRybh3Xua2SIiRujXiQEBvEDKbPcq2zfQaFbLbDVL9rH14om3q9+XHyXHwNDY3XI68A57UDiZHSdgG6R2Rnl25VrW0V2GxNXhpVKcArUKFc70VWDUEjf3W78h0aCQ1o0jYA0aINdoiILvD/AHTX/v4v8xq2OtcYf7pr/wB/F/mNWx1YlERFUEREBERAV7RxU8sNieOKR8NZm9NI1pLWakAAnTt0OpHoAJVktuckZgFCZ873CBkM0bo26kSWJ5XDR8YcOcJgY1uh9BXz9Ry+XjvW/V9fR9PObO4261LV5yB6/Uu2/wBduTR3Zruxs14/GVgdsL9VrpxLvzvjAfMW77ms3iGtDnek6kDh6/SdVtLZTDMgoMhhaWskknsBu7uFjLEr5Yoy0HgWxOjZ6fcLF57ZwOYWczC4HiWvaNO0E8QOPEa/IvIvLPHbe1etjw5eCY/o1ZstdhdMwxxGMP0LXNLuI3i3XQgcNQfR6Dx4Kd7YQyVqzHvmdo4u7O0k6H8y9wOybI5Gvdze8PMYyNgAjZrr2/CfnUr2mxjLNfmHaAOYWg+ga+bx0Uyy3dzs+jj4bMPlpfFzMml3ZL8jH66iN03uteIHN9uvwaaqekTMw+The8SwNo2JYn6hwDebcSGkdrfmIKw+N2CY2w908BdJuOjJDgQ6Ms5slof/AOg6at19fapzT2fa3GZCs3eDZqdtjA4l5aXwyaAudxdxPp1K3lnNzV2+by8pLuac1VHfYmD4Br8YA7Pg4lfazVrZ0wY6tYl5xk8uknNuADOjOJYxw472+XDXiNNHBYVezxZTKejxOXjywusprc39qIiLo5CIiAiIgIiICIiAFrK39sf+W794rZoWsrf2x/5bv3ipVikiIooiIgIiICIiAiKXcmPKFewk89jHtqOksQiCTpdaK0zcD2yea2UaNdq0cQgiKLsTL8sOTj5P6G0TYMV9UrG0L8dI846qYuitq3ZQ0RbugdvQR+d29q0rSr5XbbJ25ZJMbXs4vBz23lsHRIX1KU4c5jWVo3b1gvunznAcG6a8Ag1KimPJzyfWctBmZ601eJuExdjK2BOZA6WCuxz3xwc2xwMpDDpvFo7OK2pyaciuMv7F3MxPlcZVyBuwxw2rNyaKpjYueijfXyDGRENtSDfLR5w0ni4jVBz0i2RsHyQW8nPlDFdxtfFYeV0d3O2p3RYvdEpjY6vJub07pGjfY0NGoczeLC9utblD5HZ6GNGao5LHZ3D8+Ks17GSPealghpbHdge0Or72+zQ6n3bNd3fZvBrFFujZzyer1jG4zNWMrh8diMhDNM+9dsOhZT5uVkMUEokYOcszFzyxrCRpBJq4HdDvn6kZCLYbMczLh7GGr7UGs+w2OZ2TmtRw1Gslqzj7F9T3s5pwB87zn+sINMq5xlCaxKyCtDNYnk1EcMEb5pXlrS4hkcYLnaNaTwHYCtp7B8i8V6Gk+fajZ6hZyLY+hY+WxJLcL5XFkUdqONmlV7zu7oJcTvjh6FIPJv2VtYnlLxuKvta21Ss3opebdvxuBxVt8ckbtATG+N7HjUA6PGoB1ADQ08TmOcx7XMexxY9jwWuY5p0c1zTxa4EEEH1L4Ui5Tv8AzvM/8VyP+rmUdQEREBERAREQEREF3h/umv8A38X+Y1bHWuMP901/7+L/ADGrY6sSiIiqCIiAiIgLZXIvA2aO5XdJubktazr2nhzjAQ0jRzddARw92Drw0OtVf4DMT1JhPWfuSAFp1Ac17CQSx7Twc0kA/mBXHn4/MwuMfT0nP5PJM/b3+7qmS4SwOduhxEYIbqW724Gu3dQCW7wOnD1KP5i+Q0g9vHQDtPZpp+1Yjkvzc13Hy2J90yR3S3RgLWhjY4HgAEnvO+VZbNhzXAsjc/fJLiwB0m76GtBI4cRwC8PPG45eGvf4eaWbx7VZ0LTWGPnnc25xLY2kO0cPdEucBoD6NT/FZCxk4gGtMukjnubGNC7ePutDujgPjWLvXqwO6+bmyNQA9hY74SGyEEpi5IG671iI8QQdCGjQeaSSOB7flXTXpp9UyvfTLYnJAuIc08DxY7tb8Wqkdh7ZK84a8Rl0Mjd8gERkxuAdx7dNexRVj4pZ2tjcx7uAMsR10du6+6HBw7NRx7fQVdZjPVaEXPW3lkckojYAwybzmtc7TcAOuu64/IuPhty1O7hycmPv6NT8s2Te/orZeE0teNz26Bu6yOWYtO4B5u+XtP8A9la3Wc27zvTr89prTHG47sLDpq2NupG9p985xe8/C8rBr3uDj8GExfnus5/N5blO3aftBERdnyiIiAiIgIiICIiAFrK39sf+W794rZoWsrf2x/5bv3ipVikiIooiIgIiICIiAiIg6A2i/wB0eJ/94Sf6LJr3yGIXSZjPQRjelsbJ5aGFmoBklfYx+6xuva46H5CtHSZy46mzHuuWnUI5jYjounlNNlgtc0zsrF3Ntm3XvG+Bro93HiV84HL2admK5SsTVLUDi6GxXkdFNGS0tduvYQQC1zmkekOIPAlB0r5OWwGUoYHbq9kqU+PisbK5atXjusdWs2Hx1JnzSR1pQJOYj1jBkIDdZmAF2jt3D8leOmtcl+1danDLastzWPmNeux00/NB+P1kEUYLi0COQkgcBG89jStO5jlFzdmWeazmcnLJZrOp2CblgCam/XfqSMa8NdVdvO1i03TvHUcSrPY7bHJ4uV82KyFuhJI0NlNaZ8QlaNd1srWndkA3iRvA6E6jRBvTk8xli7yZ7RYijDLJlKO0MN27j42vdcfV5unEHGvpv+bJXl1aBw6K70rzk2xVjFcn22k+ZgmqQZaTG0cXVuRvgksXYnSvfNXgnDS8ASRv32g8KMvbzZ00TiNrMjWuvyVXIXK9+V8kktyGxLHYldK/nJjLK129KHv4uDtQ49uqqbY7ZZPKSMlyuRuX3xgiLpU8krYg4NDhCxx3Yg7cbrugaloJ1KDcHL9O8bEcnEYe4Rvq5t7ow4hjnxz0mxvc3XQuaJZACeIEjvWV7s7/ALpMt/7vi/0WNWkMhm7c8NatYt2p69JsjadeaeWWGo2UtMra0T3FsDXFjCQwDXdbr2JHnLjab8e25abQkmFiSi2eUU32A1rRO+sHc26bdYwb5GujG8eAQdS43k1q4iTZOOjstY2kt5SDHZKxnny5B+PqOnlY97K8VF7IWthZuy85MfcuYTqCdMpcpys5cInyRSMZNIHwvc1zWSsbszuOdE4jR7Q5rmkjXQtI7QuXIuUHMtxxxLcvkW40hzDSFqcV+beCHQ82HadHOp1i9wSSdNeK+sjyiZuaxUtTZnJPtUInQ0rPS7DbFWN7Sx4hma8OY57CWucDq4cCSgo8p3/neZ/4rkP9XMo6qtqw+SR8sr3ySyPdJJJI4vkkkeS573vcSXPLiSSeJJKpICIiAiIgIiICIiC7w/3TX/v4v8xq2OtcYb7pr/38X+Y1bHViUREVQREQEREBERBt3yebDjHkYu1jXVpdNNdHPEzHO+SNvyLaNsgbju30ej5Vq7ybW6uyg/8ART+e0tjW5CNQ4cB2H1fR2rxeqx3y2ft/D2Oly1xy/wDd3zlpA6M6Na7h2OaHA/GCFbYWnATq+vXaNdRpFH7OuuqsLN4anU66fm1/69n7VWp22vAaHacOOjtSOHbqeIK5+VlJ6V93nzXdIYnsc9zm6AN8wacAR8HwLS3LxnOdtxUWAiOk3efrw3p52Mdrp6Q2PcGv/rct1YWMOII9wOOnbvOAHDj6FzlyozF+ZyLi0tJskbrtN5u4xjADoSNQG+grv0OM8y/Eed1ud8H71G0RF67yhERAREQEREBERAREQF8cy3uN8I+hfaIqnzLO43wj6FNuRLYOHNZePGSyurMfBYm52KON7wYWtIbuv4aHVQ1bi8jn+1df/BXv3GKDZ31olD8b2/1aqn1olD8b2/1aqulkUVzT9aJQ/G9v9Wqp9aJQ/G9v9WqrpZEHNP1olD8b2/1aqn1olD8b2/1aqulkQc0/WiUPxvb/AFaqn1olD8b2/wBWqrpZEHNP1olD8b2/1aqn1olD8b2/1aquiMTmalkztqW61p1WZ9ayK80Uxr2IyRJBOI3HmpmkEFjtCNOxXyDmn60Sh+N7f6tVT60Sh+N7f6tVXSyIOafrRKH43t/q1VPrRKH43t/q1VdLIg5p+tEofje3+rVU+tEofje3+rVV0RiszVsunbVtVrLqsz69lteaKZ1exGS2SCcRuJhmaQQWO0IIPBXyDmn60Sh+N7f6tVT60Sh+N7f6tVXSyIOafrRKH43t/q1VPrRKH43t/q1VdLIg5p+tEofje3+rVU+tEofje3+rVV0siDmn60Sh+N7f6tVT60Sh+N7f6tVXRORzFWCSCKxarwS2n81VjmmiiksyjTWOBj3AzP8AOb5rdTxCvUHNP1olD8b2/wBWqp9aJQ/G9v8AVqq6WRByFyqeTZSxeHvZSPI2J304myNikr12seXSxx6Oc3iBo8nh6lzlzLO43wj6F+gflNf2TzX+Hj/1MC4AVSvgRN7rfkC+0RVBERAREQEReOOnbwQeorWW60cBq4+oL1s5Pwejh6/Tx+RWSm26/JmHnZV3qbSb2jXUm0Rw/MfkW1JIRq4ka6/F+383BaY8mLJAXMnUcRvTVak8Y9J6NJYZNp6/uqL5FvF5Hb6+C8TrPTmv2/h6/SflT7/yh2a2eY77JFrG/UcAfNPwAH3J+LRfWE2eib58oLncPNJIGvbxHp7ew6rP32akBpA4gu+L4Vc82NOGh49vb2D1rhc7ru7+GL/Gwgbug/ormHlfhLM9lGHt6Q1+nHsmginZ29vmyNXUdEDQA/0Fy/5QF9sm0V/c4cyypCT6TIyuxzjr/wA4b/yL6fw78yz4/wBx8vXfRL8okitm2ezX+j8f/RVmyD1hezcbHl7faLwFeqAiIgIiICIiAiIgIiIC3F5HP9q6/wDgr37jFp1bi8jn+1df/BXv3GKK7kREUUXP3l0yyDCYVkcs0PPbUY6CR0Ej4XuilqZJr2b8ZBAP8AugVzt5fEHOYLCR774+c2qxrN+J25Izfp5Ju/G7Q7rxrqD6CAgiflDbJHZQYbL7M5PLR3p8vXpfUqfIWLdfIxyRzPcwwTOc6TzmRRnUlv2ZvY7dJ3D5R1nGsgwX1Vmy0LH7RY9lQ4l0DHyXXMsczHc5/wB1QID98N87UN09K03tHsxFsjtdiMxl57udwd5ooRZbN2H3ruDyLiXtlL3BsfNkM3g/dDg3pBHGP7JPfLMcDU2TIIIO2WGII4ggxXNCD6Qg2XyqcpOMwNWO1lJ3M5+QxVa0LDNbtygamOvC33RGo1c4taN5oJBc3XFcnXKs3KXDTOz+0+JdzL52T5nGdCrSNjdG0sjm552sv2QHd07AePBau5bdGcp2w8uQMYxbqtplUzac0MoBdDd3e4c7z8mJ3fTvc38C6WQcocjPKZRw1zbSOeO5evW9tMx0TF4uubuSsMjldzkkddrhpE0dr3Fo4EDUjRb65IuUyhn6s9mi21BJUsPqXKV6IQXKk7CfMnia9wGoGoIcexwOjmuaNYeSTjYPqrt7c5lnSnbW5OsZ9NZOjssSyiEOPuY997nEDtOmuug0t+QG7HW2p5UbEmrYa92hZk3Rro1jMtLK4NHa4hpPwoJNtB5RFCrzspwe1M2PgeWTZeHEOGMYA8xulFiaVhdCHDi4N04jTXUAzraPlBoVME7aMulsYwVYLrX1mb0stewYxE5kcrmaEiVhLXFpHHXiNFo/ObX7Q7QbG5zONlw+KwdjF5jo9J1axeyVirXitVpmz2zZjirzvfDI1pZG7d1adD6fraH/AHNM/wCAUP8AUV0G0dieWXH5TIx0MbUylmN8POSZRlUfUmvMIRO6lNdEmnS2ghpawObvHTeOh0xmX5fcdHetU6eM2gzLKEvMZC9hsa69QpSgkSxzTNkDi6PQl2413AO03tCFI+TymK+yeNioRNidHga7q8cQ0+zOotkDuHF0jpXFxcdSXOJOpJWv/IQkr9SaRhMfOMtZHppaW6tsdJe5vPadj+jGqeP3pZ6NEFn5GuShtT7b3KsglrW9rL9mvKA5olgne+WKQB4BAcx7ToQDxWB8tc5d2Z2RiwM00eR3c3brxwvc3npMfFTuiMxjzZ3lsD2tjcCHF26eDipD5HtuKa1tzPXkjmrzbXZGWCWJzXxSwySSPikiew6PjcwtII4EELI8sn9veTv/AP0v/wCtiQSTk95R6+f2UmytfSOU0bcVyBrtXVL0Vd3PQ6667vFr2E8SySM8CdBhfJ22kZU5P8Tkrz55GQ1JpJXNbLasSE3p42NYxur5ZHOc1oA9YWuOVyu/Y7PW8xXY/qztXFPUysETd5tDLSRSmK0xg4hrnOkk0GvB1oAcIgs3yd8orNnuS/D5V0HSpBEa9aAvETJLE96y1nOSkHm4mgPcTp95pw11QTPFeUBQdfpUL2H2kwpyUwrUbWZxhp1LM7nBkcTH865wc5zmaat0G+0uLQVM9suUCnjslhcXZZZdZz0tmGk6FjHRMfVEBk6Q50jSxulhmm6Hdjuz08/eUbW2hEGyc2eu4d+/tXiNKOLp2YhBPpOd4XbNp7p42t3mkc23UvadeGhl3lHPA2y5NS4gD6o5dupOg1czFtaPjLiB8ZQbU2/2+p4qbEwW2WHvzOSr4qpzDI3tbZsvaxjpy+Ru5CC4alu8eB4FW/Knyl4/CR1jcFmxavSmGhjsfCbWQvSjd3m1q4cN7d326kkDV7Rrq4A6r8rDM1vq5sBj+fjN3rXi7ZrA6ytrC3DCJntH2tjpDutLtN4sfpruO0+9opWf/VvEttEaDZeb6mh583pLprvPGIHgJjCLIJHEtaPgQRflN5Ra2W2k2DhbTymMu1M6ZJ8fmKUlG2yGbmWw2GtJcyWB7oZQHMedNziBqNerVz75S1yE7VcnlcSRmy3NSTGEOaZmQvNVjZHMHFsbnscATwJjdprunToJAREQa48pr+yea/w8f+pgXAC7/wDKa/snmv8ADx/6mBcAKxKIiKoIiIC+C/8ArsVRvzcVYg6jX16n5TqtY47ZuT7lscdB2evsVrPMXcB/1+Vfbm+tfB4dnaV0mMibUwN3sHnEdvq/6r7gk00aWnh6dQR6zr6QdUbHp28TqNfl4r0NV0m1qzIz17cNivPJXmZvbksTixzTw9I7QeAIPAjgdVtbZHlyuRDcyFdl1mn26IivYHwloHNyn4gxamyDfssXZx3v/iqprgdnD4jp+xcuTgw5Pqm3bDlyw+m6b4byy457tXx2oR6Q6Pe/N9hc7VZT/wCtmIY06NtzEDg2Ovu6/AXTPaB8fFc6c0e9r8YB/b+ZBCdPdafEAF81/D+K/r/d2/8AZyfDb+e5e7R3hj6cUGuuktomZwHwQxlrWns7XOHwLUrsjNZlntWZDNNPK98kjg0bztdOAYAAB2aADsVNsTQCT53o4neHyL3GgbvZw3nfJqV34uDj4/omnHk5cs/qqrJ8PZpwJ0HH418h+navt8ILgSNT6NdTp6PNHoXzI3UfEu7krQy/Crpsw9Py+hY2FyuApcdrtftGo1Gh9f8AR7UVjvEDt9B+ZXzTq0O+X+H9fAueWOllERFlRERAREQEREBbi8jn+1df/BXv3GLTq3B5HjwNqq5cQB0K9xJAHuGekqK7mRUelR++R+Nv0p0qP3yPxt+lRVZRblK2Co5qvWrZFsroql6HIQ8zIYnCzAyaOMucB5zNJ3+b8SkfSo/fI/G36U6VH75H42/SgxW3eylPLY+zjMjCJ6lpgbIzUtc0tcHxyRvHFkjHta4OHpb+ZRy7yS4yXG4jFTG5LUwdutcx+/YcZY5KgkbWjfLprJDGyQsDT2Na0ehTjpUfvkfjb9KdKj98j8bfpQRzlM5P8ZnKXQctVFiEPEkbg50c0EoBAlhmYQ6N2hIPoIOhBHBYTk95IqOLtMuMvZrIWIopIIXZXIz3WwRS7u+yGIhrGcGtGu7roFPulR++R+Nv0p0qP3yPxt+lBH9hthqWLkyctJsrXZbITZO5zkhkDrVhxdI6MEeYzU+5VLZfk+x9G7mb9eOQz56SKXIiZ5likMInDGsjcNGM0sSgj06hSXpUfvkfjb9KdKj98j8bfpQajwnk3bO13yNDMhPQfI6ZmHs37E2IilcNOcbT1HOP7NDK5+m609oBWZwfIxjK+Bt7N8/k7OLtvLjHatmWSvGZGS9HqPDB0euHxg7oHa55JJcSth9Kj98j8bfpTpUfvkfjb9KClhcfHWrV6kO9zNWCGvFvHedzcMbY2bzvvnbrRxWp8r5Nuz012zbDcjWivPMl/G0789XG3XucXuM8EWjg0lz/ADWPa0b50AW3elR++R+Nv0p0qP3yPxt+lBGuTzk9x2HOQ+pkToG5K5JesR72sTZpCdWwRgAQwgHQMHAAAK4z+xVO3k8Vl52ym5hul9Cc2Qtjb02JsM/ORgaSasaNNexZ3pUfvkfjb9KdKj98j8bfpQYvbjZenlcfZxmRhE9S3HuSs13XDRweySNw4slY9rXtcOwtCj03JLh37PM2YlryS4mNu7Gx80nPxls7rLJGWGkOEjZHEg9hGrSC0kGa9Kj98j8bfpTpUfvkfjb9KDT0vk14CSk+pZky1yXdjZXyNy/JYv0GQva+NmPke3mqjBugaNj4jQHXQaSnbvkmxuWxlLGZF96b6nmJ9TIm0/6qRTxR82LJuEEyzuHFxeHBzgHEataROOlR++R+Nv0p0qP3yPxt+lBq/F+T/gIXU5hFbmuU8lWy3T7NqSe9ZuVN3o5t2JNTLCwNAEQ3WcSdNSSs7ys8leLzzK4yMczJ6bzJTu05TXuVXktJMMoBHaxh0cHAFoI0I1Uz6VH75H42/SnSo/fI/G36UGsMHyA4GtPRtsjuS3qN1uQF+zaknuWrLGsZGbk7+M0bGxgNjG60bzyBq4k7VVHpUfvkfjb9KdKj98j8bfpQVkVHpUfvkfjb9KdKj98j8bfpQa+8pr+yea/w8f8AqYFwAu+/KXsMOymaAewno8fAOaT90wegFcCKxKIiKoIiIPiV3BWsJ1aPiVW6/Q8FZ1ZOOnq1+dd5NTTn3VJF4xq8PaqrGqo+ZW6DX1fw/or1o4lfb28NF5H2A+sfwCIxuUGjoT6nH/4q7cP6+QKhlx7j4z/D6Fc7vAfEo3OzzTh2/wBfSvCF96f0V8gKj4I9S8x480/lOGvb6Tr8yqHQAn1L4xX2oH1l/wC1xKgqxg68Tr+wrxrfN+MKo/TR3xHT49NB869h7ACqysyNCqgcqliNWwKNLknh+z5eCvoHa8OPH5/QsY93Z8Y+cK7pv0IPapUq6RfUzN1xHb6QfWCAQfkK+VwdBERAREQEREBfL2AjQgEeogEftX0iCl0aP3tnhb9CdGj97Z4W/QqqIKXRo/e2eFv0J0aP3tnhb9CqogpdGj97Z4W/QnRo/e2eFv0KqiCl0aP3tnhb9CdGj97Z4W/QqqIKXRo/e2eFv0J0aP3tnhb9CqogpdGj97Z4W/QnRo/e2eFv0KqiCl0aP3tnhb9CdGj97Z4W/QqqIKXRo/e2eFv0J0aP3tnhb9CqogpdGj97Z4W/QnRo/e2eFv0KqiCl0aP3tnhb9CdGj97Z4W/QqqIKXRo/e2eFv0J0aP3tnhb9CqogpdGj97Z4W/QnRo/e2eFv0KqiCl0aP3tnhb9CdGj97Z4W/QqqIKbYGA6hjAR6Q0A/LoqiIgIiIC+ou3U9gBcfzDgPl0XyviZ+jT6zoPza6/wCuPdL2WVmTUn41Z0n/ZXD4/k0P8Qq03rVlj3f7Rp62O/Zp9JXZllGM4q5avIwNF6qy8eviuOA+DUfISqhVOL0/AT+3QoLXJjUN+M/MvuMeaOI7F85I8GflgfKHL7b2AI1HgHD+v4r1unZw1+Bea+peg+j+vz+v/sg8sHzD8ITGt0jA+P5yvZvc6dnw9i+6TfMahX1MOHxkD+P8F61vBfUg9z8v8B/FfTgjL5c3ULHTcHceAKyTPlVtdh3gdO35iixaWXaNb+V/AlXVJ6xtlx3Wgjjv6fsKuaz9NFFZ2Qnh6QANPiOpHzn5F8KmJPcHvN3D/ykEfOPkKqLln3ax7CIiyoiIgIiICIiAiIgIiICIiAiIgIiICIiAiIgIiICIiAiIgIiICIiAiIgIiICIiArS4fkV2rLIHTTt1IB+X1reE9UyWUrlZUD/tI/u3/wCuZHDQq1x/3SPhjePmP8F1Rm43KoTp8KotXu8jCuHL4Z7p3w6H+Cpgr1p874wR/H+BQijlPcD4HA/OF608Bx4ej6Uyf2s8PS351ThPmj+viRpVavW9vxr5Hr/r4l6w/1og8mPD9n8e1Vqh81v5IVpaf5pV3XHmt+IfMgqH3fxAft1KOeqQcN4/GRpx9A09HxftX0WD4UTT1rlSkc4H0ftX2x44cB/Xwry12AorE5qch7G/8APwGnrbw+Dt+RfcDvSrTMP1nZ/dj8+r3qvCVn3VmIHasI9I0cPzdv/wCJJ/MrxYzFyaOGvZrx+I8D+xZJvYPTwHH1/CsZrHqIiwoiIgIs/sPs6y/LbhNyOpJXx16/A18Mk7rj6MLp31ImxkFsjoo53b3nECF2jXdgtsDsxkbjOco43IXY+P2WpUs2YgW8COdhjLd4H0a68EGJRXGRozQSmGzBPWnaA50NmKSvM0EkAuimaHAEg8SPQVboCIiAiIgIiICIiAiIgIiaoCIrirQnkZNJFBPLHXYJLEkUUkkdeNx3WyTvY0iFhPAOcQNUFuiIgIiICIiAiIgIiICIiAiIgIiIGmvD18Fjcg/VxPo9HxDsWQkfoNfkWItes/IumDN7rSV/qVtUd/tUXw7w+Vj/AOOiqzHsVtUP+1Q/lj5nfStqkJK80QhetKrOgIHcWn4f2dnzL0qlJ2IPvJD7G/8AN84VrU9yFd3DrET62En49OP7dVZ1uwfP+b0Iulz8XycP69S9aPV/H414zsI9fw/GvBw1/wC5RFvdfqP67FkIewfEsVad6Oz5Pg0WVJ0afRw+fh/FRVKE+n1nX5VXJ1VvGFXaVUU3jRVIyHNLT6fn9C+HO9BXsfbqEGEzDCJIwRpoH/JqNP4/KvGPVbaR3nxn07rvnborGNyy1OzK0n+lZqM8P69PH+KwFR/Zr6Vm6p4f1/XpWc+xFZERc1EREG++SDb3olajlc3Lj7tWgGYLEUq9OlNnqr9GA2GyBrJYqTapka7V7jISwbu84F9ly+7WMdcy1WYZ/G5SlbhrY+tHkA7CmnFJ91tqsZG6sZq27I0N39TJF5wAcFDNha0drCZ+jHUrS5KAU8tUm5kOvuq1ZdzJw15vdAMidHKI28XB0/A8NIiZLN20zeknu3LcsMLHzSvmnsTSFkEDDNM4l7iTGwbx7N0dgRU22K2tfefBg89PLdx9uRtetbsOM97D253ble5UtSayGDnHRtkhe4sLNdANCHQXNUJatizVnAE9SeetM0a6CWvI+KQNJHFu8w6H0jRbR2c5LsiaVxrMLfZtHi8tjpGOsFkdCSlK2Tgwy/YLQjnr7z3NcRuTMIJAc1RDljsMmzN+ePI1MsbBZLJdo13VKkszoWB7YIXSSasaWgb4e/f4u1JJQS7O8lOOx5pOzG0kVOK/SrWoGxY6zasb8rSZucihkIhqxkx6TOOshLwGt3CTjrnI/dZtA7AtsV3htYZB2RdrHWZjN3V96Rm8SwB32PcBPnkDe3Tvit5Td2Ge7iXV5op2t2WxUbnQvZK1sgkvuMZLCQH7r2Hd7dHt9a2lkttqFfaoc7dqx1clsbUxgv8A2GzWqWXvnmhdZDt6Mw7um814Lfske95pJRGn7uwmPmpX7eDzn1WfioBZvVpcfPjpDU3i2S7UdNI4TRM7XMOjmt0JOpa12J5QtjjjYMPMbAsfVbEV8puiLmujmdocYNd93OhoLfP83Xj5oWydoos7VoZB93M7KVIJ6Fqtu4+LDm1lY5o9H06Yp0mylko4b5LN3zXEDTVvztls+3O4jZu1RyeIgZjMJBjMmL91lV9GasyNjnyRuaXOjOkhHYSAwt3g/UFYWryMufnaGEGRG9dwkeY6R0UkRmRs46MIjON/z4ftm83g/wBzw42uO5K4LNuLHUM7Vt3YmzTZhzatmPHYqtXa3n5m5CQht8NlcIxzYbvFwJ3AHEbcrZugNu8PNFfqvps2QhhZaM0TIyR0+RrXuLtI5TEWv3DoQHDgtM+Tzm6kD8ljshYZSr5vCWcX02TzY6k8se7G+Zx4MiIdIC4kAEM10BJAXEnJtQs1bs2AzzcvYxtd1q1Skx9nHzS1ozpLYpGZ7ufa3uAa8W8dXNDvqHkypRYrE5nKZ5lCnk45nc2yhYuWmyxyaRxQRQPJmYYw575SGhhDG6PLxpJuT3BdWXZDL5a/invdirVLH0qFxl2a/YsuhLXMaxoLareabq9w4CTUhu7xjPKlchfszsRDFNFJJXp5dkzGPY98TjYpNaJWNOsZJjfpvaa7rvUiL7PckmPx80X1W2mrVqV1scmLsQUbNmW3BIxjjZngjfu0a7DIwb7nuDuJG7odMe3kcufV+5g5LMEUdCubtrKSNcKseP5tkgtGPe1DjvhvNlw0cyTzt1pevfKKuxTVtmRBNFMY9k8fHIIntkMcm48GN4YTuSag+aePBbU2v2lx0u020OOlyFaCvn9nK2NhyPOMkqwWuYlMTZ5WO3WRubYJJJA81g+/CDXOz/JRjsibjsPtIy3HRpT2Z2zY2zUsh8bdYebinkAlrSODwZAdYyGAtdvgjO1NlsE7YqN783FGx2da9+W+olySaOw6gA7Gcw13PPja0l3Oh3Nkjs1V3yNbIjC28rLlcph47EuByEFatWvxWHSRuMUs1iR2jRFGOYjDA7Rz9+Q7o5sqOcn9VmT2PnwVe3SgykGcZkmV7tiOp0iqaccBdA+Tg9zXl+o9G4NdN5uoYbGcnVOPH1snnM03FVsg6b6mQx0Z79y5BEQDbdBE8GvX4tdx14SR8QXNBm3JPszAyrtrQrZehbqzYXHPblW78NWKKU5B0j7cbtXV5Imte58eriAG+k6Czz2GbtBiMAzH3sbFkMFROJyFC5birP0g5qKO3WfqWT138yXb7SQRI3jq0hW+x1GvjcdttRdlMdckfg6IElOcPgfZc+62WpXkfu9KfG58TS5g01laNAdQAjmW5PKT8Rcy2FzgyzMY+BuRgkx9jHSxMsO3I7ELbDyXxak8CBwjk46tLVrpbP5J70Mezm20ck0Uck9LEthY+RjHzOFi4CImOOshBkZru66b7fWtYICIiAiIgIiICIiAiIgIiICIiD5m0DSe066AafKfmWCuu9fyBZXITkN3fz+o+rT9iws2p/r+K6zsz7reRyo1PumH8sfMUmcvMa7/AGiL8v8AgU91qR6IFU00CoPK2y93l8uC9AX04Io7jE4eoOHyjUKxrH+v4fMrz71w9Y+lWFd3Z+1Fi+9Hp/h+1eH4F6w/18ui8ePnRFjb90PjCy0h80D16fsH/ZYayfOHr1Hz/Ass48R+SD8v/ZZncr4BVUDgqT+1VYStI8KRqo5qpByDEbS+7iPra4f/AJD6VYxngsntO3zInep7mn/mbvD9z9qxTFj3bjJVjwCzNB3DT8/8PkWErOWXxzxqQfVwVs9EZBERcVEREF3hsnPVsQ26kz69qvIJYJ4yA+N4BGo1BBBaXNLXAtc1zmkEEgzKXanCWnc/kMHPVuFwkksYG82lDPLrqX9AtQSx1XE6EmFwBJJ0BUCRBv8A5KeVx4snEUG1sRTtQZF7b+ayNrIzRZHocj6lqa1be2GOIzRRB0DYt0mRxBLj52n9rdo23I6bBjcVRlqtnZNPjKsdMXnSvY5sk8cIDNWBmjd0AfZH6aAhowCIrwBAF6iI8DR6AAhaO3Qar1EHmg9S9REHgaB2AD4k0XqIM1itk8hYrm1XpyywDniHt5sOl5hu9OYInOElrcHujE127oddNFTbsxe6GcgKkvQhG6YzeYPsDZOadYEW9zjqwk80zBu4CCC7gVO+TvabF1W4mSaWOGSqLjLokxrr9x0lmS02OanckJbRpthngLmQBku9DP5shl3lg8lfx0tevM69dZYrYKrhjRqxOhfO+pXbSLjbfrH9TJ4mmV8ThvkyPZu8d5BhMpsdkK0LZrFCaKNz4o+xjnslnaXwRzQRuMleV4B3WSNa52nAFZDKcn9+Cn0izXljmdkqmMhqCNs0k81qC7KWtdDI7dsxuqMjNct39bLNd3gHTobcYqvJanrvhlacthsnVqx4t9ed8GMyJsurXslM581zIGKQfZJXui3oXuD9ZN0YvZrabF4x0LobdnJaZ+DJSA1HwFtP6m5ig92k79JMgx2Qje4cGOLGAPPEtCG2Nick2eGq6hM6ewyeSvHHzc/PNqsc+yInwucySSNrSXMBLm6tBALgDVv7CZWGKSeWhK2GGF1h0ofA9hgjbvyzwmOQ9IiY3i90W8GDXe3VKRtdTgjjqwzV3Rtr555fjsZ9S6rbOQwc2LqBsTtZpJ3PLOckO6xrREBv7pcsZhtpqsbsQXueG0tn85jptIyd21kOsHMNYPvmH6o1dXDgNXa+5RUXtYC3HJajkrSMkoxMmttdu/7PFI6Bkb3nXTdcbNcDQnXnW6arHLY+22R3MFjWSRzQ5LKVqcd9szCx0mOwMlqti592TR+7YbJAd8jzvqU0gkEa64RBERAREQEREBERAREQEREBERBYZEt11dx4dnxcOPyLDWrGvBo0H7flWZzMO84doBY3s4DXdAPH4wsBYljbwHnH4Oz/AKrtOwtnqphxrYjPqJPyAj+KtZZtf+ivtnRq95P3rQPEfoaVJPUqSSj0KjuqtJ6PhC+AFth4F8r6cvkFB56f69Tliq54gLMMb2n1D+BWGrlS3TUZOM/1+ZevOo1/7f12KjGV5IeH9a/OirOx7sfGPnWXb2n8w+QaLCzO4/Bqs8W6E/GkSqcoXxE/0L7kVIKsrtrgvl7V5GVV3UGLz7PsB+B7D+0t/wDksA1yk2db/s0vwNB+R7VFI+Px/Cs1uMjBMFmsYQSC0/Boo7CSODmlZvERjfaW/nB9CQrOIvXdp/ivFxBFDOtc/ch8L/bTrXP3IfC/21F0maKGda5+5D4X+2nWufuQ+F/toaTNFDOtc/ch8L/bTrXP3IfC/wBtDSZooZ1rn7kPhf7ada5+5D4X+2hpM0UM61z9yHwv9tOtc/ch8L/bQ0maKGda5+5D4X+2nWufuQ+F/toaTNFDOtc/ch8L/bTrXP3IfC/20NJmihnWufuQ+F/tp1rn7kPhf7aGkzRQzrXP3IfC/wBtOtc/ch8L/bQ0maKGda5+5D4X+2nWufuQ+F/toaTRxJOpJJ4DUnU6ABoGp9AAA+IBeKGda5+5D4X+2nWufuQ+F/toaTNFDOtc/ch8L/bTrXP3IfC/20NJmihnWufuQ+F/tp1rn7kPhf7aGkzRQzrXP3IfC/2061z9yHwv9tDSZooZ1rn7kPhf7ada5+5D4X+2hpM0UM61z9yHwv8AbTrXP3IfC/20NJmihnWufuQ+F/tp1rn7kPhf7aGkzQlQzrXP3IfC/wBtOtc/ch8L/bQ0kmVk1c4NHA69uoHH8yxM1R26fNG8ezdafl10Vj1rn7kPhf7ada5+5D4X+2t+M0ozwP103JD69GO01+DgsxgK7mxlxaQXOPAgg6DQdhHwH5VjetdjuQ+F/tp1rn7kPhf7aeM0lQHDsTc9OiivWufuQ+F/tp1rn7kPhf7avmJ4Ulew+o/t0XjmeoH5FG+tc/ch8L/bTrXP3IfC/wBtPMPCkkTiGyHQnzCR8YBWJghdp7l3yH6FY9a5+5D4X+2nWux3IfC/21LyLIzETXd0/IV7K06cGnX4lhutc/ch8L/bTrXP3IfC/wBtPGaXNiJ3dce370/QpH2tadDxaD+fQKJ9a5+5D4X+2nWufuQ+F/tpOTRZtJpG/AfkVHcOvYfkKj/WufuQ+F/tp1qn7kPhf7avmJ4UnY0+oqozX+vQop1rn7kPhf7adap+5D4X+2nmHhSm3DvRSNP3zHD19o4cPSooamhIdE/XUjVodpwOnDhoQvrrXP3IfC/20612O5D4X+2peRdLquw6aFjyPQXNOo/YspjXaHsIPwtKwPWufuQ+F/tp1rn7kPhf7aeM0mQK9UM61z9yHwv9tOtc/ch8L/bWNmmAREUUREQEREBERAREQEREBERAREQEREBERAREQEREBERAREQEREBERAREQEREBERAREQEREBERAREQEREBERAREQEREBERAREQEREBERAREQEREBERAREQEREBERAREQEREBERAREQEREBERAREQEREBERAREQEREBERAREQEREBERAREQEREBERAREQEREBERAREQEREBERAREQEREBERAREQEREBERAREQEREBERAREQEREBERAREQEREBERAREQEREBERAREQEREBERAREQEREBERAREQEREBERAREQEREH//Z\n"
                },
                "metadata": {}
              }
            ]
          }
        },
        "d500731287c34ed78cf7285d1fef4e05": {
          "model_module": "@jupyter-widgets/output",
          "model_name": "OutputModel",
          "model_module_version": "1.0.0",
          "state": {
            "_dom_classes": [],
            "_model_module": "@jupyter-widgets/output",
            "_model_module_version": "1.0.0",
            "_model_name": "OutputModel",
            "_view_count": null,
            "_view_module": "@jupyter-widgets/output",
            "_view_module_version": "1.0.0",
            "_view_name": "OutputView",
            "layout": "IPY_MODEL_bbb965772260420292d48c2627bba2bf",
            "msg_id": "",
            "outputs": [
              {
                "output_type": "stream",
                "name": "stdout",
                "text": [
                  "Video available at https://www.bilibili.com/video/BV1m5411h7Jv\n"
                ]
              },
              {
                "output_type": "display_data",
                "data": {
                  "text/plain": "<__main__.PlayVideo at 0x7cf972746610>",
                  "text/html": "\n        <iframe\n            width=\"854\"\n            height=\"480\"\n            src=\"https://player.bilibili.com/player.html?bvid=BV1m5411h7Jv&page=1?fs=1&autoplay=False\"\n            frameborder=\"0\"\n            allowfullscreen\n            \n        ></iframe>\n        "
                },
                "metadata": {}
              }
            ]
          }
        },
        "8b66ead3cac149aabbb1e1bbedd45622": {
          "model_module": "@jupyter-widgets/base",
          "model_name": "LayoutModel",
          "model_module_version": "1.2.0",
          "state": {
            "_model_module": "@jupyter-widgets/base",
            "_model_module_version": "1.2.0",
            "_model_name": "LayoutModel",
            "_view_count": null,
            "_view_module": "@jupyter-widgets/base",
            "_view_module_version": "1.2.0",
            "_view_name": "LayoutView",
            "align_content": null,
            "align_items": null,
            "align_self": null,
            "border": null,
            "bottom": null,
            "display": null,
            "flex": null,
            "flex_flow": null,
            "grid_area": null,
            "grid_auto_columns": null,
            "grid_auto_flow": null,
            "grid_auto_rows": null,
            "grid_column": null,
            "grid_gap": null,
            "grid_row": null,
            "grid_template_areas": null,
            "grid_template_columns": null,
            "grid_template_rows": null,
            "height": null,
            "justify_content": null,
            "justify_items": null,
            "left": null,
            "margin": null,
            "max_height": null,
            "max_width": null,
            "min_height": null,
            "min_width": null,
            "object_fit": null,
            "object_position": null,
            "order": null,
            "overflow": null,
            "overflow_x": null,
            "overflow_y": null,
            "padding": null,
            "right": null,
            "top": null,
            "visibility": null,
            "width": null
          }
        },
        "8fc5215bbf3b4126bf2190a7ee3a8132": {
          "model_module": "@jupyter-widgets/base",
          "model_name": "LayoutModel",
          "model_module_version": "1.2.0",
          "state": {
            "_model_module": "@jupyter-widgets/base",
            "_model_module_version": "1.2.0",
            "_model_name": "LayoutModel",
            "_view_count": null,
            "_view_module": "@jupyter-widgets/base",
            "_view_module_version": "1.2.0",
            "_view_name": "LayoutView",
            "align_content": null,
            "align_items": null,
            "align_self": null,
            "border": null,
            "bottom": null,
            "display": null,
            "flex": null,
            "flex_flow": null,
            "grid_area": null,
            "grid_auto_columns": null,
            "grid_auto_flow": null,
            "grid_auto_rows": null,
            "grid_column": null,
            "grid_gap": null,
            "grid_row": null,
            "grid_template_areas": null,
            "grid_template_columns": null,
            "grid_template_rows": null,
            "height": null,
            "justify_content": null,
            "justify_items": null,
            "left": null,
            "margin": null,
            "max_height": null,
            "max_width": null,
            "min_height": null,
            "min_width": null,
            "object_fit": null,
            "object_position": null,
            "order": null,
            "overflow": null,
            "overflow_x": null,
            "overflow_y": null,
            "padding": null,
            "right": null,
            "top": null,
            "visibility": null,
            "width": null
          }
        },
        "bbb965772260420292d48c2627bba2bf": {
          "model_module": "@jupyter-widgets/base",
          "model_name": "LayoutModel",
          "model_module_version": "1.2.0",
          "state": {
            "_model_module": "@jupyter-widgets/base",
            "_model_module_version": "1.2.0",
            "_model_name": "LayoutModel",
            "_view_count": null,
            "_view_module": "@jupyter-widgets/base",
            "_view_module_version": "1.2.0",
            "_view_name": "LayoutView",
            "align_content": null,
            "align_items": null,
            "align_self": null,
            "border": null,
            "bottom": null,
            "display": null,
            "flex": null,
            "flex_flow": null,
            "grid_area": null,
            "grid_auto_columns": null,
            "grid_auto_flow": null,
            "grid_auto_rows": null,
            "grid_column": null,
            "grid_gap": null,
            "grid_row": null,
            "grid_template_areas": null,
            "grid_template_columns": null,
            "grid_template_rows": null,
            "height": null,
            "justify_content": null,
            "justify_items": null,
            "left": null,
            "margin": null,
            "max_height": null,
            "max_width": null,
            "min_height": null,
            "min_width": null,
            "object_fit": null,
            "object_position": null,
            "order": null,
            "overflow": null,
            "overflow_x": null,
            "overflow_y": null,
            "padding": null,
            "right": null,
            "top": null,
            "visibility": null,
            "width": null
          }
        },
        "fed626b7e989423ab9a39d83df072472": {
          "model_module": "@jupyter-widgets/controls",
          "model_name": "TabModel",
          "model_module_version": "1.5.0",
          "state": {
            "_dom_classes": [],
            "_model_module": "@jupyter-widgets/controls",
            "_model_module_version": "1.5.0",
            "_model_name": "TabModel",
            "_titles": {
              "0": "Youtube",
              "1": "Bilibili"
            },
            "_view_count": null,
            "_view_module": "@jupyter-widgets/controls",
            "_view_module_version": "1.5.0",
            "_view_name": "TabView",
            "box_style": "",
            "children": [
              "IPY_MODEL_4232d8b204554e9b820b725a8a838f57",
              "IPY_MODEL_c1b1f0e60d5d4a99977d60163d051433"
            ],
            "layout": "IPY_MODEL_7ebf41f29ae746e891eb86dd09ca72ba",
            "selected_index": 0
          }
        },
        "4232d8b204554e9b820b725a8a838f57": {
          "model_module": "@jupyter-widgets/output",
          "model_name": "OutputModel",
          "model_module_version": "1.0.0",
          "state": {
            "_dom_classes": [],
            "_model_module": "@jupyter-widgets/output",
            "_model_module_version": "1.0.0",
            "_model_name": "OutputModel",
            "_view_count": null,
            "_view_module": "@jupyter-widgets/output",
            "_view_module_version": "1.0.0",
            "_view_name": "OutputView",
            "layout": "IPY_MODEL_4fdd0dab03294180aae17446ef6f6152",
            "msg_id": "",
            "outputs": [
              {
                "output_type": "stream",
                "name": "stdout",
                "text": [
                  "Video available at https://youtube.com/watch?v=preNGdab7Kk\n"
                ]
              },
              {
                "output_type": "display_data",
                "data": {
                  "text/plain": "<IPython.lib.display.YouTubeVideo at 0x7cf97322a3d0>",
                  "text/html": "\n        <iframe\n            width=\"854\"\n            height=\"480\"\n            src=\"https://www.youtube.com/embed/preNGdab7Kk?fs=1&rel=0\"\n            frameborder=\"0\"\n            allowfullscreen\n            \n        ></iframe>\n        ",
                  "image/jpeg": "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\n"
                },
                "metadata": {}
              }
            ]
          }
        },
        "c1b1f0e60d5d4a99977d60163d051433": {
          "model_module": "@jupyter-widgets/output",
          "model_name": "OutputModel",
          "model_module_version": "1.0.0",
          "state": {
            "_dom_classes": [],
            "_model_module": "@jupyter-widgets/output",
            "_model_module_version": "1.0.0",
            "_model_name": "OutputModel",
            "_view_count": null,
            "_view_module": "@jupyter-widgets/output",
            "_view_module_version": "1.0.0",
            "_view_name": "OutputView",
            "layout": "IPY_MODEL_d8f65bcc35264a84ba0ffc9885135e74",
            "msg_id": "",
            "outputs": [
              {
                "output_type": "stream",
                "name": "stdout",
                "text": [
                  "Video available at https://www.bilibili.com/video/BV1Li4y137wS\n"
                ]
              },
              {
                "output_type": "display_data",
                "data": {
                  "text/plain": "<__main__.PlayVideo at 0x7cf9731e2810>",
                  "text/html": "\n        <iframe\n            width=\"854\"\n            height=\"480\"\n            src=\"https://player.bilibili.com/player.html?bvid=BV1Li4y137wS&page=1?fs=1&autoplay=False\"\n            frameborder=\"0\"\n            allowfullscreen\n            \n        ></iframe>\n        "
                },
                "metadata": {}
              }
            ]
          }
        },
        "7ebf41f29ae746e891eb86dd09ca72ba": {
          "model_module": "@jupyter-widgets/base",
          "model_name": "LayoutModel",
          "model_module_version": "1.2.0",
          "state": {
            "_model_module": "@jupyter-widgets/base",
            "_model_module_version": "1.2.0",
            "_model_name": "LayoutModel",
            "_view_count": null,
            "_view_module": "@jupyter-widgets/base",
            "_view_module_version": "1.2.0",
            "_view_name": "LayoutView",
            "align_content": null,
            "align_items": null,
            "align_self": null,
            "border": null,
            "bottom": null,
            "display": null,
            "flex": null,
            "flex_flow": null,
            "grid_area": null,
            "grid_auto_columns": null,
            "grid_auto_flow": null,
            "grid_auto_rows": null,
            "grid_column": null,
            "grid_gap": null,
            "grid_row": null,
            "grid_template_areas": null,
            "grid_template_columns": null,
            "grid_template_rows": null,
            "height": null,
            "justify_content": null,
            "justify_items": null,
            "left": null,
            "margin": null,
            "max_height": null,
            "max_width": null,
            "min_height": null,
            "min_width": null,
            "object_fit": null,
            "object_position": null,
            "order": null,
            "overflow": null,
            "overflow_x": null,
            "overflow_y": null,
            "padding": null,
            "right": null,
            "top": null,
            "visibility": null,
            "width": null
          }
        },
        "4fdd0dab03294180aae17446ef6f6152": {
          "model_module": "@jupyter-widgets/base",
          "model_name": "LayoutModel",
          "model_module_version": "1.2.0",
          "state": {
            "_model_module": "@jupyter-widgets/base",
            "_model_module_version": "1.2.0",
            "_model_name": "LayoutModel",
            "_view_count": null,
            "_view_module": "@jupyter-widgets/base",
            "_view_module_version": "1.2.0",
            "_view_name": "LayoutView",
            "align_content": null,
            "align_items": null,
            "align_self": null,
            "border": null,
            "bottom": null,
            "display": null,
            "flex": null,
            "flex_flow": null,
            "grid_area": null,
            "grid_auto_columns": null,
            "grid_auto_flow": null,
            "grid_auto_rows": null,
            "grid_column": null,
            "grid_gap": null,
            "grid_row": null,
            "grid_template_areas": null,
            "grid_template_columns": null,
            "grid_template_rows": null,
            "height": null,
            "justify_content": null,
            "justify_items": null,
            "left": null,
            "margin": null,
            "max_height": null,
            "max_width": null,
            "min_height": null,
            "min_width": null,
            "object_fit": null,
            "object_position": null,
            "order": null,
            "overflow": null,
            "overflow_x": null,
            "overflow_y": null,
            "padding": null,
            "right": null,
            "top": null,
            "visibility": null,
            "width": null
          }
        },
        "d8f65bcc35264a84ba0ffc9885135e74": {
          "model_module": "@jupyter-widgets/base",
          "model_name": "LayoutModel",
          "model_module_version": "1.2.0",
          "state": {
            "_model_module": "@jupyter-widgets/base",
            "_model_module_version": "1.2.0",
            "_model_name": "LayoutModel",
            "_view_count": null,
            "_view_module": "@jupyter-widgets/base",
            "_view_module_version": "1.2.0",
            "_view_name": "LayoutView",
            "align_content": null,
            "align_items": null,
            "align_self": null,
            "border": null,
            "bottom": null,
            "display": null,
            "flex": null,
            "flex_flow": null,
            "grid_area": null,
            "grid_auto_columns": null,
            "grid_auto_flow": null,
            "grid_auto_rows": null,
            "grid_column": null,
            "grid_gap": null,
            "grid_row": null,
            "grid_template_areas": null,
            "grid_template_columns": null,
            "grid_template_rows": null,
            "height": null,
            "justify_content": null,
            "justify_items": null,
            "left": null,
            "margin": null,
            "max_height": null,
            "max_width": null,
            "min_height": null,
            "min_width": null,
            "object_fit": null,
            "object_position": null,
            "order": null,
            "overflow": null,
            "overflow_x": null,
            "overflow_y": null,
            "padding": null,
            "right": null,
            "top": null,
            "visibility": null,
            "width": null
          }
        },
        "47b35d1888d6453084b3fd82e270447a": {
          "model_module": "@jupyter-widgets/controls",
          "model_name": "VBoxModel",
          "model_module_version": "1.5.0",
          "state": {
            "_dom_classes": [],
            "_model_module": "@jupyter-widgets/controls",
            "_model_module_version": "1.5.0",
            "_model_name": "VBoxModel",
            "_view_count": null,
            "_view_module": "@jupyter-widgets/controls",
            "_view_module_version": "1.5.0",
            "_view_name": "VBoxView",
            "box_style": "",
            "children": [
              "IPY_MODEL_3a7c3f74edae48e2883fa03b6bce9312"
            ],
            "layout": "IPY_MODEL_9a37ab99d2de4eacaa7fb69029f895ee"
          }
        },
        "3a7c3f74edae48e2883fa03b6bce9312": {
          "model_module": "@jupyter-widgets/controls",
          "model_name": "VBoxModel",
          "model_module_version": "1.5.0",
          "state": {
            "_dom_classes": [],
            "_model_module": "@jupyter-widgets/controls",
            "_model_module_version": "1.5.0",
            "_model_name": "VBoxModel",
            "_view_count": null,
            "_view_module": "@jupyter-widgets/controls",
            "_view_module_version": "1.5.0",
            "_view_name": "VBoxView",
            "box_style": "",
            "children": [
              "IPY_MODEL_73b8e907e507432da00176a42a81d77e",
              "IPY_MODEL_7f90aa97448c4fbdb71e5a0d99e1ea64",
              "IPY_MODEL_b7fc5b941cfa46058e90c10cd09cb619"
            ],
            "layout": "IPY_MODEL_95f6f29961444a088f2029989f836af6"
          }
        },
        "9a37ab99d2de4eacaa7fb69029f895ee": {
          "model_module": "@jupyter-widgets/base",
          "model_name": "LayoutModel",
          "model_module_version": "1.2.0",
          "state": {
            "_model_module": "@jupyter-widgets/base",
            "_model_module_version": "1.2.0",
            "_model_name": "LayoutModel",
            "_view_count": null,
            "_view_module": "@jupyter-widgets/base",
            "_view_module_version": "1.2.0",
            "_view_name": "LayoutView",
            "align_content": null,
            "align_items": null,
            "align_self": null,
            "border": null,
            "bottom": null,
            "display": null,
            "flex": null,
            "flex_flow": null,
            "grid_area": null,
            "grid_auto_columns": null,
            "grid_auto_flow": null,
            "grid_auto_rows": null,
            "grid_column": null,
            "grid_gap": null,
            "grid_row": null,
            "grid_template_areas": null,
            "grid_template_columns": null,
            "grid_template_rows": null,
            "height": null,
            "justify_content": null,
            "justify_items": null,
            "left": null,
            "margin": null,
            "max_height": null,
            "max_width": null,
            "min_height": null,
            "min_width": null,
            "object_fit": null,
            "object_position": null,
            "order": null,
            "overflow": null,
            "overflow_x": null,
            "overflow_y": null,
            "padding": null,
            "right": null,
            "top": null,
            "visibility": null,
            "width": null
          }
        },
        "73b8e907e507432da00176a42a81d77e": {
          "model_module": "@jupyter-widgets/controls",
          "model_name": "HBoxModel",
          "model_module_version": "1.5.0",
          "state": {
            "_dom_classes": [],
            "_model_module": "@jupyter-widgets/controls",
            "_model_module_version": "1.5.0",
            "_model_name": "HBoxModel",
            "_view_count": null,
            "_view_module": "@jupyter-widgets/controls",
            "_view_module_version": "1.5.0",
            "_view_name": "HBoxView",
            "box_style": "",
            "children": [
              "IPY_MODEL_93c13736434e4bc0b098ffd3a9306f7f",
              "IPY_MODEL_210a89f3befb46329957a3198b028702",
              "IPY_MODEL_0ae852cc054347fe921cd4410dee6760"
            ],
            "layout": "IPY_MODEL_44bdc545a0e5468eacf05848158d9606"
          }
        },
        "7f90aa97448c4fbdb71e5a0d99e1ea64": {
          "model_module": "@jupyter-widgets/controls",
          "model_name": "HBoxModel",
          "model_module_version": "1.5.0",
          "state": {
            "_dom_classes": [],
            "_model_module": "@jupyter-widgets/controls",
            "_model_module_version": "1.5.0",
            "_model_name": "HBoxModel",
            "_view_count": null,
            "_view_module": "@jupyter-widgets/controls",
            "_view_module_version": "1.5.0",
            "_view_name": "HBoxView",
            "box_style": "",
            "children": [
              "IPY_MODEL_455aca5876e34a25906bd9e1647d2976",
              "IPY_MODEL_e5408d9ea0524f6d8022771e86119f58"
            ],
            "layout": "IPY_MODEL_6f389642d38e40ffb9ad771d9e2d701a"
          }
        },
        "b7fc5b941cfa46058e90c10cd09cb619": {
          "model_module": "@jupyter-widgets/controls",
          "model_name": "LabelModel",
          "model_module_version": "1.5.0",
          "state": {
            "_dom_classes": [],
            "_model_module": "@jupyter-widgets/controls",
            "_model_module_version": "1.5.0",
            "_model_name": "LabelModel",
            "_view_count": null,
            "_view_module": "@jupyter-widgets/controls",
            "_view_module_version": "1.5.0",
            "_view_name": "LabelView",
            "description": "",
            "description_tooltip": null,
            "layout": "IPY_MODEL_4d0eaf0edfe144bf8e0ded01f000f4ba",
            "placeholder": "​",
            "style": "IPY_MODEL_952c4c4846a24804aed0253c6e56dd0a",
            "value": "Thanks for your feedback!"
          }
        },
        "95f6f29961444a088f2029989f836af6": {
          "model_module": "@jupyter-widgets/base",
          "model_name": "LayoutModel",
          "model_module_version": "1.2.0",
          "state": {
            "_model_module": "@jupyter-widgets/base",
            "_model_module_version": "1.2.0",
            "_model_name": "LayoutModel",
            "_view_count": null,
            "_view_module": "@jupyter-widgets/base",
            "_view_module_version": "1.2.0",
            "_view_name": "LayoutView",
            "align_content": null,
            "align_items": null,
            "align_self": null,
            "border": null,
            "bottom": null,
            "display": null,
            "flex": null,
            "flex_flow": null,
            "grid_area": null,
            "grid_auto_columns": null,
            "grid_auto_flow": null,
            "grid_auto_rows": null,
            "grid_column": null,
            "grid_gap": null,
            "grid_row": null,
            "grid_template_areas": null,
            "grid_template_columns": null,
            "grid_template_rows": null,
            "height": null,
            "justify_content": null,
            "justify_items": null,
            "left": null,
            "margin": null,
            "max_height": null,
            "max_width": null,
            "min_height": null,
            "min_width": null,
            "object_fit": null,
            "object_position": null,
            "order": null,
            "overflow": null,
            "overflow_x": null,
            "overflow_y": null,
            "padding": null,
            "right": null,
            "top": null,
            "visibility": null,
            "width": null
          }
        },
        "93c13736434e4bc0b098ffd3a9306f7f": {
          "model_module": "@jupyter-widgets/controls",
          "model_name": "ButtonModel",
          "model_module_version": "1.5.0",
          "state": {
            "_dom_classes": [
              "happy"
            ],
            "_model_module": "@jupyter-widgets/controls",
            "_model_module_version": "1.5.0",
            "_model_name": "ButtonModel",
            "_view_count": null,
            "_view_module": "@jupyter-widgets/controls",
            "_view_module_version": "1.5.0",
            "_view_name": "ButtonView",
            "button_style": "",
            "description": "🙂",
            "disabled": false,
            "icon": "",
            "layout": "IPY_MODEL_0a63377a73dd4dc6a1db1688d650245c",
            "style": "IPY_MODEL_8f8a6ac2e6a44cfb96e58966a106a555",
            "tooltip": "happy"
          }
        },
        "210a89f3befb46329957a3198b028702": {
          "model_module": "@jupyter-widgets/controls",
          "model_name": "ButtonModel",
          "model_module_version": "1.5.0",
          "state": {
            "_dom_classes": [
              "medium"
            ],
            "_model_module": "@jupyter-widgets/controls",
            "_model_module_version": "1.5.0",
            "_model_name": "ButtonModel",
            "_view_count": null,
            "_view_module": "@jupyter-widgets/controls",
            "_view_module_version": "1.5.0",
            "_view_name": "ButtonView",
            "button_style": "",
            "description": "😐",
            "disabled": false,
            "icon": "",
            "layout": "IPY_MODEL_4f9f32fe3c35434f8394b9bc3bd5d4b9",
            "style": "IPY_MODEL_a897cc0b31ea4a43aeaa6b6d3b967c77",
            "tooltip": "medium"
          }
        },
        "0ae852cc054347fe921cd4410dee6760": {
          "model_module": "@jupyter-widgets/controls",
          "model_name": "ButtonModel",
          "model_module_version": "1.5.0",
          "state": {
            "_dom_classes": [
              "sad"
            ],
            "_model_module": "@jupyter-widgets/controls",
            "_model_module_version": "1.5.0",
            "_model_name": "ButtonModel",
            "_view_count": null,
            "_view_module": "@jupyter-widgets/controls",
            "_view_module_version": "1.5.0",
            "_view_name": "ButtonView",
            "button_style": "",
            "description": "🙁",
            "disabled": false,
            "icon": "",
            "layout": "IPY_MODEL_a52e85be14c947a1b25a8032f7f0a2c7",
            "style": "IPY_MODEL_34ffd91c640a499c9b9857f8110ee7e9",
            "tooltip": "sad"
          }
        },
        "44bdc545a0e5468eacf05848158d9606": {
          "model_module": "@jupyter-widgets/base",
          "model_name": "LayoutModel",
          "model_module_version": "1.2.0",
          "state": {
            "_model_module": "@jupyter-widgets/base",
            "_model_module_version": "1.2.0",
            "_model_name": "LayoutModel",
            "_view_count": null,
            "_view_module": "@jupyter-widgets/base",
            "_view_module_version": "1.2.0",
            "_view_name": "LayoutView",
            "align_content": null,
            "align_items": null,
            "align_self": null,
            "border": null,
            "bottom": null,
            "display": null,
            "flex": null,
            "flex_flow": null,
            "grid_area": null,
            "grid_auto_columns": null,
            "grid_auto_flow": null,
            "grid_auto_rows": null,
            "grid_column": null,
            "grid_gap": null,
            "grid_row": null,
            "grid_template_areas": null,
            "grid_template_columns": null,
            "grid_template_rows": null,
            "height": null,
            "justify_content": null,
            "justify_items": null,
            "left": null,
            "margin": null,
            "max_height": null,
            "max_width": null,
            "min_height": null,
            "min_width": null,
            "object_fit": null,
            "object_position": null,
            "order": null,
            "overflow": null,
            "overflow_x": null,
            "overflow_y": null,
            "padding": null,
            "right": null,
            "top": null,
            "visibility": null,
            "width": null
          }
        },
        "455aca5876e34a25906bd9e1647d2976": {
          "model_module": "@jupyter-widgets/controls",
          "model_name": "TextareaModel",
          "model_module_version": "1.5.0",
          "state": {
            "_dom_classes": [],
            "_model_module": "@jupyter-widgets/controls",
            "_model_module_version": "1.5.0",
            "_model_name": "TextareaModel",
            "_view_count": null,
            "_view_module": "@jupyter-widgets/controls",
            "_view_module_version": "1.5.0",
            "_view_name": "TextareaView",
            "continuous_update": true,
            "description": "",
            "description_tooltip": null,
            "disabled": false,
            "layout": "IPY_MODEL_11dede810f64416c90a423c3b0ef0f90",
            "placeholder": "We want your feedback!",
            "rows": null,
            "style": "IPY_MODEL_c938f1ac0d4f496c8551ba885bd3ea8b",
            "value": ""
          }
        },
        "e5408d9ea0524f6d8022771e86119f58": {
          "model_module": "@jupyter-widgets/controls",
          "model_name": "ButtonModel",
          "model_module_version": "1.5.0",
          "state": {
            "_dom_classes": [],
            "_model_module": "@jupyter-widgets/controls",
            "_model_module_version": "1.5.0",
            "_model_name": "ButtonModel",
            "_view_count": null,
            "_view_module": "@jupyter-widgets/controls",
            "_view_module_version": "1.5.0",
            "_view_name": "ButtonView",
            "button_style": "",
            "description": "Submit",
            "disabled": false,
            "icon": "",
            "layout": "IPY_MODEL_bfcb2afc479645eeaa48f0167928a3c5",
            "style": "IPY_MODEL_64c6b430c5d14ca6ac6dda21fe1fb39b",
            "tooltip": ""
          }
        },
        "6f389642d38e40ffb9ad771d9e2d701a": {
          "model_module": "@jupyter-widgets/base",
          "model_name": "LayoutModel",
          "model_module_version": "1.2.0",
          "state": {
            "_model_module": "@jupyter-widgets/base",
            "_model_module_version": "1.2.0",
            "_model_name": "LayoutModel",
            "_view_count": null,
            "_view_module": "@jupyter-widgets/base",
            "_view_module_version": "1.2.0",
            "_view_name": "LayoutView",
            "align_content": null,
            "align_items": null,
            "align_self": null,
            "border": null,
            "bottom": null,
            "display": "none",
            "flex": null,
            "flex_flow": null,
            "grid_area": null,
            "grid_auto_columns": null,
            "grid_auto_flow": null,
            "grid_auto_rows": null,
            "grid_column": null,
            "grid_gap": null,
            "grid_row": null,
            "grid_template_areas": null,
            "grid_template_columns": null,
            "grid_template_rows": null,
            "height": null,
            "justify_content": null,
            "justify_items": null,
            "left": null,
            "margin": null,
            "max_height": null,
            "max_width": null,
            "min_height": null,
            "min_width": null,
            "object_fit": null,
            "object_position": null,
            "order": null,
            "overflow": null,
            "overflow_x": null,
            "overflow_y": null,
            "padding": null,
            "right": null,
            "top": null,
            "visibility": null,
            "width": null
          }
        },
        "4d0eaf0edfe144bf8e0ded01f000f4ba": {
          "model_module": "@jupyter-widgets/base",
          "model_name": "LayoutModel",
          "model_module_version": "1.2.0",
          "state": {
            "_model_module": "@jupyter-widgets/base",
            "_model_module_version": "1.2.0",
            "_model_name": "LayoutModel",
            "_view_count": null,
            "_view_module": "@jupyter-widgets/base",
            "_view_module_version": "1.2.0",
            "_view_name": "LayoutView",
            "align_content": null,
            "align_items": null,
            "align_self": null,
            "border": null,
            "bottom": null,
            "display": "block",
            "flex": null,
            "flex_flow": null,
            "grid_area": null,
            "grid_auto_columns": null,
            "grid_auto_flow": null,
            "grid_auto_rows": null,
            "grid_column": null,
            "grid_gap": null,
            "grid_row": null,
            "grid_template_areas": null,
            "grid_template_columns": null,
            "grid_template_rows": null,
            "height": null,
            "justify_content": null,
            "justify_items": null,
            "left": null,
            "margin": null,
            "max_height": null,
            "max_width": null,
            "min_height": null,
            "min_width": null,
            "object_fit": null,
            "object_position": null,
            "order": null,
            "overflow": null,
            "overflow_x": null,
            "overflow_y": null,
            "padding": null,
            "right": null,
            "top": null,
            "visibility": null,
            "width": null
          }
        },
        "952c4c4846a24804aed0253c6e56dd0a": {
          "model_module": "@jupyter-widgets/controls",
          "model_name": "DescriptionStyleModel",
          "model_module_version": "1.5.0",
          "state": {
            "_model_module": "@jupyter-widgets/controls",
            "_model_module_version": "1.5.0",
            "_model_name": "DescriptionStyleModel",
            "_view_count": null,
            "_view_module": "@jupyter-widgets/base",
            "_view_module_version": "1.2.0",
            "_view_name": "StyleView",
            "description_width": ""
          }
        },
        "0a63377a73dd4dc6a1db1688d650245c": {
          "model_module": "@jupyter-widgets/base",
          "model_name": "LayoutModel",
          "model_module_version": "1.2.0",
          "state": {
            "_model_module": "@jupyter-widgets/base",
            "_model_module_version": "1.2.0",
            "_model_name": "LayoutModel",
            "_view_count": null,
            "_view_module": "@jupyter-widgets/base",
            "_view_module_version": "1.2.0",
            "_view_name": "LayoutView",
            "align_content": null,
            "align_items": null,
            "align_self": null,
            "border": null,
            "bottom": null,
            "display": null,
            "flex": null,
            "flex_flow": null,
            "grid_area": null,
            "grid_auto_columns": null,
            "grid_auto_flow": null,
            "grid_auto_rows": null,
            "grid_column": null,
            "grid_gap": null,
            "grid_row": null,
            "grid_template_areas": null,
            "grid_template_columns": null,
            "grid_template_rows": null,
            "height": "auto",
            "justify_content": null,
            "justify_items": null,
            "left": null,
            "margin": null,
            "max_height": null,
            "max_width": null,
            "min_height": null,
            "min_width": null,
            "object_fit": null,
            "object_position": null,
            "order": null,
            "overflow": null,
            "overflow_x": null,
            "overflow_y": null,
            "padding": "0.5em",
            "right": null,
            "top": null,
            "visibility": null,
            "width": "auto"
          }
        },
        "8f8a6ac2e6a44cfb96e58966a106a555": {
          "model_module": "@jupyter-widgets/controls",
          "model_name": "ButtonStyleModel",
          "model_module_version": "1.5.0",
          "state": {
            "_model_module": "@jupyter-widgets/controls",
            "_model_module_version": "1.5.0",
            "_model_name": "ButtonStyleModel",
            "_view_count": null,
            "_view_module": "@jupyter-widgets/base",
            "_view_module_version": "1.2.0",
            "_view_name": "StyleView",
            "button_color": "#aaffaa",
            "font_weight": ""
          }
        },
        "4f9f32fe3c35434f8394b9bc3bd5d4b9": {
          "model_module": "@jupyter-widgets/base",
          "model_name": "LayoutModel",
          "model_module_version": "1.2.0",
          "state": {
            "_model_module": "@jupyter-widgets/base",
            "_model_module_version": "1.2.0",
            "_model_name": "LayoutModel",
            "_view_count": null,
            "_view_module": "@jupyter-widgets/base",
            "_view_module_version": "1.2.0",
            "_view_name": "LayoutView",
            "align_content": null,
            "align_items": null,
            "align_self": null,
            "border": "2px solid #666666",
            "bottom": null,
            "display": null,
            "flex": null,
            "flex_flow": null,
            "grid_area": null,
            "grid_auto_columns": null,
            "grid_auto_flow": null,
            "grid_auto_rows": null,
            "grid_column": null,
            "grid_gap": null,
            "grid_row": null,
            "grid_template_areas": null,
            "grid_template_columns": null,
            "grid_template_rows": null,
            "height": "auto",
            "justify_content": null,
            "justify_items": null,
            "left": null,
            "margin": null,
            "max_height": null,
            "max_width": null,
            "min_height": null,
            "min_width": null,
            "object_fit": null,
            "object_position": null,
            "order": null,
            "overflow": null,
            "overflow_x": null,
            "overflow_y": null,
            "padding": "0.5em",
            "right": null,
            "top": null,
            "visibility": null,
            "width": "auto"
          }
        },
        "a897cc0b31ea4a43aeaa6b6d3b967c77": {
          "model_module": "@jupyter-widgets/controls",
          "model_name": "ButtonStyleModel",
          "model_module_version": "1.5.0",
          "state": {
            "_model_module": "@jupyter-widgets/controls",
            "_model_module_version": "1.5.0",
            "_model_name": "ButtonStyleModel",
            "_view_count": null,
            "_view_module": "@jupyter-widgets/base",
            "_view_module_version": "1.2.0",
            "_view_name": "StyleView",
            "button_color": "#dddd77",
            "font_weight": ""
          }
        },
        "a52e85be14c947a1b25a8032f7f0a2c7": {
          "model_module": "@jupyter-widgets/base",
          "model_name": "LayoutModel",
          "model_module_version": "1.2.0",
          "state": {
            "_model_module": "@jupyter-widgets/base",
            "_model_module_version": "1.2.0",
            "_model_name": "LayoutModel",
            "_view_count": null,
            "_view_module": "@jupyter-widgets/base",
            "_view_module_version": "1.2.0",
            "_view_name": "LayoutView",
            "align_content": null,
            "align_items": null,
            "align_self": null,
            "border": null,
            "bottom": null,
            "display": null,
            "flex": null,
            "flex_flow": null,
            "grid_area": null,
            "grid_auto_columns": null,
            "grid_auto_flow": null,
            "grid_auto_rows": null,
            "grid_column": null,
            "grid_gap": null,
            "grid_row": null,
            "grid_template_areas": null,
            "grid_template_columns": null,
            "grid_template_rows": null,
            "height": "auto",
            "justify_content": null,
            "justify_items": null,
            "left": null,
            "margin": null,
            "max_height": null,
            "max_width": null,
            "min_height": null,
            "min_width": null,
            "object_fit": null,
            "object_position": null,
            "order": null,
            "overflow": null,
            "overflow_x": null,
            "overflow_y": null,
            "padding": "0.5em",
            "right": null,
            "top": null,
            "visibility": null,
            "width": "auto"
          }
        },
        "34ffd91c640a499c9b9857f8110ee7e9": {
          "model_module": "@jupyter-widgets/controls",
          "model_name": "ButtonStyleModel",
          "model_module_version": "1.5.0",
          "state": {
            "_model_module": "@jupyter-widgets/controls",
            "_model_module_version": "1.5.0",
            "_model_name": "ButtonStyleModel",
            "_view_count": null,
            "_view_module": "@jupyter-widgets/base",
            "_view_module_version": "1.2.0",
            "_view_name": "StyleView",
            "button_color": "#ffaaaa",
            "font_weight": ""
          }
        },
        "11dede810f64416c90a423c3b0ef0f90": {
          "model_module": "@jupyter-widgets/base",
          "model_name": "LayoutModel",
          "model_module_version": "1.2.0",
          "state": {
            "_model_module": "@jupyter-widgets/base",
            "_model_module_version": "1.2.0",
            "_model_name": "LayoutModel",
            "_view_count": null,
            "_view_module": "@jupyter-widgets/base",
            "_view_module_version": "1.2.0",
            "_view_name": "LayoutView",
            "align_content": null,
            "align_items": null,
            "align_self": null,
            "border": null,
            "bottom": null,
            "display": null,
            "flex": null,
            "flex_flow": null,
            "grid_area": null,
            "grid_auto_columns": null,
            "grid_auto_flow": null,
            "grid_auto_rows": null,
            "grid_column": null,
            "grid_gap": null,
            "grid_row": null,
            "grid_template_areas": null,
            "grid_template_columns": null,
            "grid_template_rows": null,
            "height": "auto",
            "justify_content": null,
            "justify_items": null,
            "left": null,
            "margin": null,
            "max_height": null,
            "max_width": null,
            "min_height": null,
            "min_width": null,
            "object_fit": null,
            "object_position": null,
            "order": null,
            "overflow": null,
            "overflow_x": null,
            "overflow_y": null,
            "padding": null,
            "right": null,
            "top": null,
            "visibility": null,
            "width": "auto"
          }
        },
        "c938f1ac0d4f496c8551ba885bd3ea8b": {
          "model_module": "@jupyter-widgets/controls",
          "model_name": "DescriptionStyleModel",
          "model_module_version": "1.5.0",
          "state": {
            "_model_module": "@jupyter-widgets/controls",
            "_model_module_version": "1.5.0",
            "_model_name": "DescriptionStyleModel",
            "_view_count": null,
            "_view_module": "@jupyter-widgets/base",
            "_view_module_version": "1.2.0",
            "_view_name": "StyleView",
            "description_width": ""
          }
        },
        "bfcb2afc479645eeaa48f0167928a3c5": {
          "model_module": "@jupyter-widgets/base",
          "model_name": "LayoutModel",
          "model_module_version": "1.2.0",
          "state": {
            "_model_module": "@jupyter-widgets/base",
            "_model_module_version": "1.2.0",
            "_model_name": "LayoutModel",
            "_view_count": null,
            "_view_module": "@jupyter-widgets/base",
            "_view_module_version": "1.2.0",
            "_view_name": "LayoutView",
            "align_content": null,
            "align_items": null,
            "align_self": null,
            "border": null,
            "bottom": null,
            "display": null,
            "flex": null,
            "flex_flow": null,
            "grid_area": null,
            "grid_auto_columns": null,
            "grid_auto_flow": null,
            "grid_auto_rows": null,
            "grid_column": null,
            "grid_gap": null,
            "grid_row": null,
            "grid_template_areas": null,
            "grid_template_columns": null,
            "grid_template_rows": null,
            "height": "auto",
            "justify_content": null,
            "justify_items": null,
            "left": null,
            "margin": null,
            "max_height": null,
            "max_width": null,
            "min_height": null,
            "min_width": null,
            "object_fit": null,
            "object_position": null,
            "order": null,
            "overflow": null,
            "overflow_x": null,
            "overflow_y": null,
            "padding": null,
            "right": null,
            "top": null,
            "visibility": null,
            "width": "auto"
          }
        },
        "64c6b430c5d14ca6ac6dda21fe1fb39b": {
          "model_module": "@jupyter-widgets/controls",
          "model_name": "ButtonStyleModel",
          "model_module_version": "1.5.0",
          "state": {
            "_model_module": "@jupyter-widgets/controls",
            "_model_module_version": "1.5.0",
            "_model_name": "ButtonStyleModel",
            "_view_count": null,
            "_view_module": "@jupyter-widgets/base",
            "_view_module_version": "1.2.0",
            "_view_name": "StyleView",
            "button_color": null,
            "font_weight": ""
          }
        },
        "f2e9f0769ce14db8af09e67ba413b94e": {
          "model_module": "@jupyter-widgets/controls",
          "model_name": "VBoxModel",
          "model_module_version": "1.5.0",
          "state": {
            "_dom_classes": [
              "widget-interact"
            ],
            "_model_module": "@jupyter-widgets/controls",
            "_model_module_version": "1.5.0",
            "_model_name": "VBoxModel",
            "_view_count": null,
            "_view_module": "@jupyter-widgets/controls",
            "_view_module_version": "1.5.0",
            "_view_name": "VBoxView",
            "box_style": "",
            "children": [
              "IPY_MODEL_b49f7ebab30b49a48db7bc2b7d400517",
              "IPY_MODEL_ef0cf2fdf59343769d82797f5defc4d5",
              "IPY_MODEL_f7af583bddc64e199abc51832a5993f1"
            ],
            "layout": "IPY_MODEL_e3c48f94a7bc4d52b1cfe31a17e29640"
          }
        },
        "b49f7ebab30b49a48db7bc2b7d400517": {
          "model_module": "@jupyter-widgets/controls",
          "model_name": "FloatSliderModel",
          "model_module_version": "1.5.0",
          "state": {
            "_dom_classes": [],
            "_model_module": "@jupyter-widgets/controls",
            "_model_module_version": "1.5.0",
            "_model_name": "FloatSliderModel",
            "_view_count": null,
            "_view_module": "@jupyter-widgets/controls",
            "_view_module_version": "1.5.0",
            "_view_name": "FloatSliderView",
            "continuous_update": true,
            "description": "I_dc",
            "description_tooltip": null,
            "disabled": false,
            "layout": "IPY_MODEL_aa5cb5c57a85473b8135a610df1ba5a0",
            "max": 300,
            "min": 0,
            "orientation": "horizontal",
            "readout": true,
            "readout_format": ".2f",
            "step": 10,
            "style": "IPY_MODEL_5bc889ffbda44d5f842a7671b2d2b698",
            "value": 50
          }
        },
        "ef0cf2fdf59343769d82797f5defc4d5": {
          "model_module": "@jupyter-widgets/controls",
          "model_name": "FloatSliderModel",
          "model_module_version": "1.5.0",
          "state": {
            "_dom_classes": [],
            "_model_module": "@jupyter-widgets/controls",
            "_model_module_version": "1.5.0",
            "_model_name": "FloatSliderModel",
            "_view_count": null,
            "_view_module": "@jupyter-widgets/controls",
            "_view_module_version": "1.5.0",
            "_view_name": "FloatSliderView",
            "continuous_update": true,
            "description": "tau_m",
            "description_tooltip": null,
            "disabled": false,
            "layout": "IPY_MODEL_aa5cb5c57a85473b8135a610df1ba5a0",
            "max": 20,
            "min": 2,
            "orientation": "horizontal",
            "readout": true,
            "readout_format": ".2f",
            "step": 2,
            "style": "IPY_MODEL_a7304c69200046a28df62edbe7bd9dcd",
            "value": 10
          }
        },
        "f7af583bddc64e199abc51832a5993f1": {
          "model_module": "@jupyter-widgets/output",
          "model_name": "OutputModel",
          "model_module_version": "1.0.0",
          "state": {
            "_dom_classes": [],
            "_model_module": "@jupyter-widgets/output",
            "_model_module_version": "1.0.0",
            "_model_name": "OutputModel",
            "_view_count": null,
            "_view_module": "@jupyter-widgets/output",
            "_view_module_version": "1.0.0",
            "_view_name": "OutputView",
            "layout": "IPY_MODEL_794834da7b534d70937d7bcf5c5d15a8",
            "msg_id": "",
            "outputs": [
              {
                "output_type": "display_data",
                "data": {
                  "text/plain": "<Figure size 800x600 with 1 Axes>",
                  "image/png": "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\n"
                },
                "metadata": {
                  "image/png": {
                    "width": 767,
                    "height": 575
                  }
                }
              }
            ]
          }
        },
        "e3c48f94a7bc4d52b1cfe31a17e29640": {
          "model_module": "@jupyter-widgets/base",
          "model_name": "LayoutModel",
          "model_module_version": "1.2.0",
          "state": {
            "_model_module": "@jupyter-widgets/base",
            "_model_module_version": "1.2.0",
            "_model_name": "LayoutModel",
            "_view_count": null,
            "_view_module": "@jupyter-widgets/base",
            "_view_module_version": "1.2.0",
            "_view_name": "LayoutView",
            "align_content": null,
            "align_items": null,
            "align_self": null,
            "border": null,
            "bottom": null,
            "display": null,
            "flex": null,
            "flex_flow": null,
            "grid_area": null,
            "grid_auto_columns": null,
            "grid_auto_flow": null,
            "grid_auto_rows": null,
            "grid_column": null,
            "grid_gap": null,
            "grid_row": null,
            "grid_template_areas": null,
            "grid_template_columns": null,
            "grid_template_rows": null,
            "height": null,
            "justify_content": null,
            "justify_items": null,
            "left": null,
            "margin": null,
            "max_height": null,
            "max_width": null,
            "min_height": null,
            "min_width": null,
            "object_fit": null,
            "object_position": null,
            "order": null,
            "overflow": null,
            "overflow_x": null,
            "overflow_y": null,
            "padding": null,
            "right": null,
            "top": null,
            "visibility": null,
            "width": null
          }
        },
        "aa5cb5c57a85473b8135a610df1ba5a0": {
          "model_module": "@jupyter-widgets/base",
          "model_name": "LayoutModel",
          "model_module_version": "1.2.0",
          "state": {
            "_model_module": "@jupyter-widgets/base",
            "_model_module_version": "1.2.0",
            "_model_name": "LayoutModel",
            "_view_count": null,
            "_view_module": "@jupyter-widgets/base",
            "_view_module_version": "1.2.0",
            "_view_name": "LayoutView",
            "align_content": null,
            "align_items": null,
            "align_self": null,
            "border": null,
            "bottom": null,
            "display": null,
            "flex": null,
            "flex_flow": null,
            "grid_area": null,
            "grid_auto_columns": null,
            "grid_auto_flow": null,
            "grid_auto_rows": null,
            "grid_column": null,
            "grid_gap": null,
            "grid_row": null,
            "grid_template_areas": null,
            "grid_template_columns": null,
            "grid_template_rows": null,
            "height": null,
            "justify_content": null,
            "justify_items": null,
            "left": null,
            "margin": null,
            "max_height": null,
            "max_width": null,
            "min_height": null,
            "min_width": null,
            "object_fit": null,
            "object_position": null,
            "order": null,
            "overflow": null,
            "overflow_x": null,
            "overflow_y": null,
            "padding": null,
            "right": null,
            "top": null,
            "visibility": null,
            "width": "450px"
          }
        },
        "5bc889ffbda44d5f842a7671b2d2b698": {
          "model_module": "@jupyter-widgets/controls",
          "model_name": "SliderStyleModel",
          "model_module_version": "1.5.0",
          "state": {
            "_model_module": "@jupyter-widgets/controls",
            "_model_module_version": "1.5.0",
            "_model_name": "SliderStyleModel",
            "_view_count": null,
            "_view_module": "@jupyter-widgets/base",
            "_view_module_version": "1.2.0",
            "_view_name": "StyleView",
            "description_width": "",
            "handle_color": null
          }
        },
        "a7304c69200046a28df62edbe7bd9dcd": {
          "model_module": "@jupyter-widgets/controls",
          "model_name": "SliderStyleModel",
          "model_module_version": "1.5.0",
          "state": {
            "_model_module": "@jupyter-widgets/controls",
            "_model_module_version": "1.5.0",
            "_model_name": "SliderStyleModel",
            "_view_count": null,
            "_view_module": "@jupyter-widgets/base",
            "_view_module_version": "1.2.0",
            "_view_name": "StyleView",
            "description_width": "",
            "handle_color": null
          }
        },
        "794834da7b534d70937d7bcf5c5d15a8": {
          "model_module": "@jupyter-widgets/base",
          "model_name": "LayoutModel",
          "model_module_version": "1.2.0",
          "state": {
            "_model_module": "@jupyter-widgets/base",
            "_model_module_version": "1.2.0",
            "_model_name": "LayoutModel",
            "_view_count": null,
            "_view_module": "@jupyter-widgets/base",
            "_view_module_version": "1.2.0",
            "_view_name": "LayoutView",
            "align_content": null,
            "align_items": null,
            "align_self": null,
            "border": null,
            "bottom": null,
            "display": null,
            "flex": null,
            "flex_flow": null,
            "grid_area": null,
            "grid_auto_columns": null,
            "grid_auto_flow": null,
            "grid_auto_rows": null,
            "grid_column": null,
            "grid_gap": null,
            "grid_row": null,
            "grid_template_areas": null,
            "grid_template_columns": null,
            "grid_template_rows": null,
            "height": null,
            "justify_content": null,
            "justify_items": null,
            "left": null,
            "margin": null,
            "max_height": null,
            "max_width": null,
            "min_height": null,
            "min_width": null,
            "object_fit": null,
            "object_position": null,
            "order": null,
            "overflow": null,
            "overflow_x": null,
            "overflow_y": null,
            "padding": null,
            "right": null,
            "top": null,
            "visibility": null,
            "width": null
          }
        }
      }
    }
  },
  "nbformat": 4,
  "nbformat_minor": 0
}