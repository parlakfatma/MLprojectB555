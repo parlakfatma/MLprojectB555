{
  "cells": [
    {
      "cell_type": "markdown",
      "metadata": {
        "id": "view-in-github",
        "colab_type": "text"
      },
      "source": [
        "<a href=\"https://colab.research.google.com/github/parlakfatma/MLprojectB555/blob/main/tutorials/W1D2_ModelFitting/student/W1D2_Tutorial2.ipynb\" target=\"_parent\"><img src=\"https://colab.research.google.com/assets/colab-badge.svg\" alt=\"Open In Colab\"/></a>"
      ]
    },
    {
      "cell_type": "markdown",
      "metadata": {
        "execution": {},
        "id": "Fiy4KHctn-x5"
      },
      "source": [
        "# Tutorial 2: Linear regression with MLE\n",
        "\n",
        "**Week 1, Day 2: Model Fitting**\n",
        "\n",
        "**By Neuromatch Academy**\n",
        "\n",
        "**Content creators**: Pierre-Étienne Fiquet, Anqi Wu, Alex Hyafil  with help from Byron Galbraith\n",
        "\n",
        "**Content reviewers**: Lina Teichmann, Madineh Sarvestani, Patrick Mineault, Ella Batty, Michael Waskomlis\n",
        "\n",
        "**Production editors:** Spiros Chavlis"
      ]
    },
    {
      "cell_type": "markdown",
      "metadata": {
        "execution": {},
        "id": "sWgabuicn-x6"
      },
      "source": [
        "---\n",
        "# Tutorial Objectives\n",
        "\n",
        "*Estimated timing of tutorial: 30 minutes*\n",
        "\n",
        "This is Tutorial 2 of a series on fitting models to data. We start with simple linear regression, using least squares optimization (Tutorial 1) and Maximum Likelihood Estimation (Tutorial 2). We will use bootstrapping to build confidence intervals around the inferred linear model parameters (Tutorial 3). We'll finish our exploration of regression models by generalizing to multiple linear regression and polynomial regression (Tutorial 4). We end by learning how to choose between these various models. We discuss the bias-variance trade-off (Tutorial 5) and Cross Validation for model selection (Tutorial 6).\n",
        "\n",
        "In this tutorial, we will use a different approach to fit linear models that incorporates the random 'noise' in our data.\n",
        "- Learn about probability distributions and probabilistic models\n",
        "- Learn how to calculate the likelihood of our model parameters\n",
        "- Learn how to implement the maximum likelihood estimator, to find the model parameter with the maximum likelihood\n",
        "\n"
      ]
    },
    {
      "cell_type": "code",
      "execution_count": 34,
      "metadata": {
        "cellView": "form",
        "execution": {},
        "id": "THJa7Rehn-x6",
        "outputId": "0b897832-60e5-4169-abe7-bc92d50ab4d7",
        "colab": {
          "base_uri": "https://localhost:8080/",
          "height": 518
        }
      },
      "outputs": [
        {
          "output_type": "stream",
          "name": "stdout",
          "text": [
            "If you want to download the slides: https://osf.io/download/2mkq4/\n"
          ]
        },
        {
          "output_type": "execute_result",
          "data": {
            "text/plain": [
              "<IPython.lib.display.IFrame at 0x7af9bf0496d0>"
            ],
            "text/html": [
              "\n",
              "        <iframe\n",
              "            width=\"854\"\n",
              "            height=\"480\"\n",
              "            src=\"https://mfr.ca-1.osf.io/render?url=https://osf.io/2mkq4/?direct%26mode=render%26action=download%26mode=render\"\n",
              "            frameborder=\"0\"\n",
              "            allowfullscreen\n",
              "            \n",
              "        ></iframe>\n",
              "        "
            ]
          },
          "metadata": {},
          "execution_count": 34
        }
      ],
      "source": [
        "# @title Tutorial slides\n",
        "# @markdown These are the slides for the videos in all tutorials today\n",
        "from IPython.display import IFrame\n",
        "link_id = \"2mkq4\"\n",
        "print(f\"If you want to download the slides: https://osf.io/download/{link_id}/\")\n",
        "IFrame(src=f\"https://mfr.ca-1.osf.io/render?url=https://osf.io/{link_id}/?direct%26mode=render%26action=download%26mode=render\", width=854, height=480)"
      ]
    },
    {
      "cell_type": "markdown",
      "metadata": {
        "execution": {},
        "id": "HXmYj0lKn-x7"
      },
      "source": [
        "---\n",
        "# Setup"
      ]
    },
    {
      "cell_type": "code",
      "execution_count": 35,
      "metadata": {
        "execution": {},
        "id": "NVdeQnPkn-x7"
      },
      "outputs": [],
      "source": [
        "# @title Install and import feedback gadget\n",
        "\n",
        "!pip3 install vibecheck datatops --quiet\n",
        "\n",
        "from vibecheck import DatatopsContentReviewContainer\n",
        "def content_review(notebook_section: str):\n",
        "    return DatatopsContentReviewContainer(\n",
        "        \"\",  # No text prompt\n",
        "        notebook_section,\n",
        "        {\n",
        "            \"url\": \"https://pmyvdlilci.execute-api.us-east-1.amazonaws.com/klab\",\n",
        "            \"name\": \"neuromatch_cn\",\n",
        "            \"user_key\": \"y1x3mpx5\",\n",
        "        },\n",
        "    ).render()\n",
        "\n",
        "\n",
        "feedback_prefix = \"W1D2_T2\""
      ]
    },
    {
      "cell_type": "code",
      "execution_count": 36,
      "metadata": {
        "execution": {},
        "id": "FVwAqX1pn-x7"
      },
      "outputs": [],
      "source": [
        "import numpy as np\n",
        "import matplotlib.pyplot as plt\n",
        "from scipy import stats"
      ]
    },
    {
      "cell_type": "code",
      "execution_count": 39,
      "metadata": {
        "execution": {},
        "id": "-CprhbF8n-x7"
      },
      "outputs": [],
      "source": [
        "# @title Figure Settings\n",
        "import logging\n",
        "logging.getLogger('matplotlib.font_manager').disabled = True\n",
        "\n",
        "import ipywidgets as widgets  # interactive display\n",
        "%config InlineBackend.figure_format = 'retina'\n",
        "plt.style.use(\"https://raw.githubusercontent.com/NeuromatchAcademy/course-content/main/nma.mplstyle\")"
      ]
    },
    {
      "cell_type": "code",
      "execution_count": 40,
      "metadata": {
        "execution": {},
        "id": "XOdXSi5Rn-x7"
      },
      "outputs": [],
      "source": [
        "# @title Plotting Functions\n",
        "def plot_density_image(x, y, theta, sigma=1, ax=None):\n",
        "  \"\"\" Plots probability distribution of y given x, theta, and sigma\n",
        "\n",
        "  Args:\n",
        "\n",
        "    x (ndarray): An array of shape (samples,) that contains the input values.\n",
        "    y (ndarray): An array of shape (samples,) that contains the corresponding\n",
        "      measurement values to the inputs.\n",
        "    theta (float): Slope parameter\n",
        "    sigma (float): standard deviation of Gaussian noise\n",
        "\n",
        "  \"\"\"\n",
        "\n",
        "  # plot the probability density of p(y|x,theta)\n",
        "  if ax is None:\n",
        "    fig, ax = plt.subplots()\n",
        "\n",
        "  xmin, xmax = np.floor(np.min(x)), np.ceil(np.max(x))\n",
        "  ymin, ymax = np.floor(np.min(y)), np.ceil(np.max(y))\n",
        "  xx = np.linspace(xmin, xmax, 50)\n",
        "  yy = np.linspace(ymin, ymax, 50)\n",
        "\n",
        "  surface = np.zeros((len(yy), len(xx)))\n",
        "  for i, x_i in enumerate(xx):\n",
        "    surface[:, i] = stats.norm(theta * x_i, sigma).pdf(yy)\n",
        "\n",
        "  ax.set(xlabel='x', ylabel='y')\n",
        "\n",
        "  return ax.imshow(surface, origin='lower', aspect='auto', vmin=0, vmax=None,\n",
        "            cmap=plt.get_cmap('Wistia'),\n",
        "            extent=[xmin, xmax, ymin, ymax])"
      ]
    },
    {
      "cell_type": "markdown",
      "metadata": {
        "execution": {},
        "id": "oCEDCxBhn-x7"
      },
      "source": [
        "---\n",
        "# Section 1: Maximum Likelihood Estimation (MLE)\n"
      ]
    },
    {
      "cell_type": "code",
      "execution_count": 23,
      "metadata": {
        "cellView": "form",
        "execution": {},
        "id": "5e7SekCjn-x7",
        "outputId": "f0d21f79-f5ed-40e9-cf82-4397fcd13b46",
        "colab": {
          "base_uri": "https://localhost:8080/",
          "height": 579,
          "referenced_widgets": [
            "7e5c2bf27cce4087af83aba67e2c8437",
            "eda219dfa82c4ded993e0bf6eb1a58d1",
            "1a451f6a795841b6a7ef3e5e43845c6b",
            "a92ea938ed624f4593e9ca113a7d382f",
            "f412b2259a594c53beb7badef8d496cb",
            "7ad7e941fc56464c861a4a69371fbabb"
          ]
        }
      },
      "outputs": [
        {
          "output_type": "display_data",
          "data": {
            "text/plain": [
              "Tab(children=(Output(), Output()), _titles={'0': 'Youtube', '1': 'Bilibili'})"
            ],
            "application/vnd.jupyter.widget-view+json": {
              "version_major": 2,
              "version_minor": 0,
              "model_id": "7e5c2bf27cce4087af83aba67e2c8437"
            }
          },
          "metadata": {}
        }
      ],
      "source": [
        "# @title Video 1: Maximum Likelihood Estimation\n",
        "from ipywidgets import widgets\n",
        "from IPython.display import YouTubeVideo\n",
        "from IPython.display import IFrame\n",
        "from IPython.display import display\n",
        "\n",
        "\n",
        "class PlayVideo(IFrame):\n",
        "  def __init__(self, id, source, page=1, width=400, height=300, **kwargs):\n",
        "    self.id = id\n",
        "    if source == 'Bilibili':\n",
        "      src = f'https://player.bilibili.com/player.html?bvid={id}&page={page}'\n",
        "    elif source == 'Osf':\n",
        "      src = f'https://mfr.ca-1.osf.io/render?url=https://osf.io/download/{id}/?direct%26mode=render'\n",
        "    super(PlayVideo, self).__init__(src, width, height, **kwargs)\n",
        "\n",
        "\n",
        "def display_videos(video_ids, W=400, H=300, fs=1):\n",
        "  tab_contents = []\n",
        "  for i, video_id in enumerate(video_ids):\n",
        "    out = widgets.Output()\n",
        "    with out:\n",
        "      if video_ids[i][0] == 'Youtube':\n",
        "        video = YouTubeVideo(id=video_ids[i][1], width=W,\n",
        "                             height=H, fs=fs, rel=0)\n",
        "        print(f'Video available at https://youtube.com/watch?v={video.id}')\n",
        "      else:\n",
        "        video = PlayVideo(id=video_ids[i][1], source=video_ids[i][0], width=W,\n",
        "                          height=H, fs=fs, autoplay=False)\n",
        "        if video_ids[i][0] == 'Bilibili':\n",
        "          print(f'Video available at https://www.bilibili.com/video/{video.id}')\n",
        "        elif video_ids[i][0] == 'Osf':\n",
        "          print(f'Video available at https://osf.io/{video.id}')\n",
        "      display(video)\n",
        "    tab_contents.append(out)\n",
        "  return tab_contents\n",
        "\n",
        "\n",
        "video_ids = [('Youtube', '8mpNmzLKNfU'), ('Bilibili', 'BV1Mg4y1i7WH')]\n",
        "tab_contents = display_videos(video_ids, W=854, H=480)\n",
        "tabs = widgets.Tab()\n",
        "tabs.children = tab_contents\n",
        "for i in range(len(tab_contents)):\n",
        "  tabs.set_title(i, video_ids[i][0])\n",
        "display(tabs)"
      ]
    },
    {
      "cell_type": "code",
      "execution_count": 24,
      "metadata": {
        "cellView": "form",
        "execution": {},
        "id": "ZGiHEnlWn-x8",
        "outputId": "44dffc85-6cb0-4c7a-8fa0-02d0926061f5",
        "colab": {
          "base_uri": "https://localhost:8080/",
          "height": 97,
          "referenced_widgets": [
            "937113356b0f489c92576f7adc72da09",
            "d1218b2077ce4c24b96bed3ab61e0f70",
            "87666489e36c4340afd0357347d78e91",
            "a3a912b305f94746b2b19e0be04993dc",
            "de0e0dbc5e9d4aecae3e07bfbef635ef",
            "c13acae0a9254ca49feacf5a7f6d0dd7",
            "032cd3d8b4f84a88b35fe0665cc14ec6",
            "63ee5900e9d64597888ba61f1f2e6b60",
            "c0ec096ea55241ce91cc8cb9353a187f",
            "cf2190424f5f41458c5ffb00cb63761f",
            "d9104e521723442aaa6d57cda8886f01",
            "f397af36e3c84c1782f2fad8c678e2c9",
            "b11c290c6f984cb1888af53262ba8318",
            "1fcf6bb3f06b451cac864e488ad07837",
            "1db038275bc0438f97449e4a614bf365",
            "a00171ab22304269bc57cc1b87401372",
            "9cc66083c1d04012a1c9a06443cdead5",
            "bdce70c1d34b4e579128afd9420e680b",
            "d0c167ccaf3044eeafbdd62bc688945c",
            "5eb7659deba24435aa269024e501a92a",
            "1789d011a4c14b6aa2c152c9424b0e79",
            "f6fbb4a04cc54c55b2b1474ea16687b0",
            "150230ba149645d593d7dacfc150ba1a",
            "efb105f509574613aac44d6b343e931b",
            "cccb1eab85e54bb5bfeb929694998150",
            "9227c9464c2946ec92b3d19bae7c7d44"
          ]
        }
      },
      "outputs": [
        {
          "output_type": "display_data",
          "data": {
            "text/plain": [
              "VBox(children=(VBox(children=(HBox(children=(Button(description='🙂', layout=Layout(height='auto', padding='0.5…"
            ],
            "application/vnd.jupyter.widget-view+json": {
              "version_major": 2,
              "version_minor": 0,
              "model_id": "937113356b0f489c92576f7adc72da09"
            }
          },
          "metadata": {}
        }
      ],
      "source": [
        "# @title Submit your feedback\n",
        "content_review(f\"{feedback_prefix}_Maximum_Likelihood_Estimation_Video\")"
      ]
    },
    {
      "cell_type": "markdown",
      "metadata": {
        "execution": {},
        "id": "fDeACuR2n-x8"
      },
      "source": [
        "This video covers Maximum Likelihood Estimation (MLE) in the context of a 1D linear regression.\n"
      ]
    },
    {
      "cell_type": "markdown",
      "metadata": {
        "execution": {},
        "id": "RpPUw9Fhn-x8"
      },
      "source": [
        "## Section 1.1: Gaussian noise"
      ]
    },
    {
      "cell_type": "markdown",
      "metadata": {
        "execution": {},
        "id": "bP_g2wRxn-x8"
      },
      "source": [
        "\n",
        "<details>\n",
        "<summary> <font color='blue'>Click here for text recap of relevant part of video </font></summary>\n",
        "\n",
        "In the previous tutorial we made the assumption that the data was drawn from a linear relationship with noise added, and found an effective approach for estimating model parameters based on minimizing the mean squared error.\n",
        "\n",
        "In that case we treated the noise as simply a nuisance, but what if we factored it directly into our model?\n",
        "\n",
        "Recall our linear model:\n",
        "\n",
        "\\begin{align}\n",
        "y = \\theta x + \\epsilon.\n",
        "\\end{align}\n",
        "\n",
        "The noise component $\\epsilon$ is often modeled as a random variable drawn from a Gaussian distribution (also called the normal distribution).\n",
        "\n",
        "The Gaussian distribution is described by its [probability density function](https://en.wikipedia.org/wiki/Probability_density_function) (pdf)\n",
        "\\begin{align}\n",
        "\\mathcal{N}(x; \\mu, \\sigma^2) = \\frac{1}{\\sqrt{2\\pi\\sigma^2}}e^{-\\frac{1}{2\\sigma^2}(x-\\mu)^2}\n",
        "\\end{align}\n",
        "\n",
        "and is dependent on two parameters: the mean $\\mu$ and the variance $\\sigma^2$. We often consider the noise signal to be Gaussian \"white noise\", with zero mean and unit variance:\n",
        "\n",
        "\\begin{align}\n",
        "\\epsilon \\sim \\mathcal{N}(0, 1).\n",
        "\\end{align}\n",
        "\n"
      ]
    },
    {
      "cell_type": "markdown",
      "metadata": {
        "execution": {},
        "id": "NzlRenQfn-x8"
      },
      "source": [
        "### Interactive Demo 1.1: Gaussian Distribution Explorer\n",
        "\n",
        "Use the explorer widget below to see how varying the $\\mu$ and $\\sigma$ parameters change the location and shape of the samples.\n",
        "\n",
        "\n",
        "1.   What effect does varying $\\mu$ have on the pdf?\n",
        "2.   What effect does varying $\\sigma$ have on the pdf?\n",
        "\n"
      ]
    },
    {
      "cell_type": "code",
      "execution_count": 25,
      "metadata": {
        "cellView": "form",
        "execution": {},
        "id": "uwk943p8n-x8",
        "outputId": "c89b3edf-597a-4166-e2f4-d49c9a5790f7",
        "colab": {
          "base_uri": "https://localhost:8080/",
          "height": 656,
          "referenced_widgets": [
            "5d3082f53f2644508768e214d9a0f9cb",
            "8f3716fe0b48414aa4d442f80e535779",
            "cea0357e4f384198bf94aee3b498759f",
            "fa88c9d432774675bfc9524e921c4bd0",
            "91f7784a50a6490cb4d59e6f247bf151",
            "c816d648961e4af1acbcac6eaecd9bde",
            "7d9dd2a4456e4cc4b0b13fd6e2ad5a4d",
            "ed0ec13b1a8c4c63b82dc3a06d74d7ad",
            "98126ae97b3d49f4b54089eb840fc1e8",
            "ac931ef70b0e461bb277dae42ef14f8f"
          ]
        }
      },
      "outputs": [
        {
          "output_type": "display_data",
          "data": {
            "text/plain": [
              "interactive(children=(FloatSlider(value=0.0, description='mu', max=2.0, min=-2.0), FloatSlider(value=1.0, desc…"
            ],
            "application/vnd.jupyter.widget-view+json": {
              "version_major": 2,
              "version_minor": 0,
              "model_id": "5d3082f53f2644508768e214d9a0f9cb"
            }
          },
          "metadata": {}
        }
      ],
      "source": [
        "# @markdown Make sure you execute this cell to enable the widget!\n",
        "\n",
        "@widgets.interact(mu=widgets.FloatSlider(0.0, min=-2.0, max=2.0),\n",
        "                  sigma=widgets.FloatSlider(1.0, min=0.5, max=2.0))\n",
        "def plot_normal_dist(mu=0, sigma=1):\n",
        "\n",
        "  # Generate pdf & samples from normal distribution with mu/sigma\n",
        "  rv = stats.norm(mu, sigma)\n",
        "  x = np.linspace(-5, 5, 100)\n",
        "  y = rv.pdf(x)\n",
        "  samples = rv.rvs(1000)\n",
        "\n",
        "  # Plot\n",
        "  fig, ax = plt.subplots()\n",
        "  ax.hist(samples, 20, density=True, color='g', histtype='stepfilled',\n",
        "          alpha=0.8, label='histogram')\n",
        "  ax.plot(x, y, color='orange', linewidth=3, label='pdf')\n",
        "  ax.vlines(mu, 0, rv.pdf(mu), color='y', linewidth=3, label='$\\mu$')\n",
        "  ax.vlines([mu-sigma, mu+sigma], 0, rv.pdf([mu-sigma, mu+sigma]), colors='red',\n",
        "            color='b', linewidth=3, label='$\\sigma$')\n",
        "  ax.set(xlabel='x', ylabel='probability density', xlim=[-5, 5], ylim=[0, 1.0])\n",
        "  ax.legend()\n",
        "  plt.show()"
      ]
    },
    {
      "cell_type": "markdown",
      "metadata": {
        "execution": {},
        "id": "2mU-dF7Vn-x8"
      },
      "source": [
        "[*Click for solution*](https://github.com/NeuromatchAcademy/course-content/tree/main/tutorials/W1D2_ModelFitting/solutions/W1D2_Tutorial2_Solution_5f94b40f.py)\n",
        "\n"
      ]
    },
    {
      "cell_type": "code",
      "execution_count": 26,
      "metadata": {
        "cellView": "form",
        "execution": {},
        "id": "CTaYXSwjn-x8",
        "outputId": "7cd1d379-4372-4004-f645-e80b972a3d7d",
        "colab": {
          "base_uri": "https://localhost:8080/",
          "height": 62,
          "referenced_widgets": [
            "2a88df908d1d44c78a997e080c200d4b",
            "27484a54ca9344a9ba78ced3d4d9f044",
            "6c88275dd6154cac98e678e973a94cff",
            "da0de9901f214bc48607be1eb8ba845d",
            "d39669def2d24597ad1f0ce848fa37a4",
            "48d0baaf475448e1bc4e4b1650340712",
            "ce3beefac0904375ac9cdb888b14c377",
            "62657e2ceaf943b5a0ddeb9164d29a73",
            "4948e61a5c8f495093bf05e8b987dbf7",
            "1ec7023244904da49be3fe0dcb7269f2",
            "940eb3d16ba540e284242c0d4a30cf3d",
            "1c9167e094304acfbbac463a1974f423",
            "299c245267c44468bca6c6788c621dfa",
            "233e64e8e6d04792a94327af3ba7618f",
            "3eab37ed0ecb435d94658f3c7aa538c0",
            "8813cf54e940430c947fc9156de25c59",
            "451290d6c5db4d678d26d70f2538d6f3",
            "312cd09471fe4688ae682201f0b72da3",
            "1c5c9fb467e7451a802aacc0c79ccebf",
            "320bacb703384b299c081d899f914c55",
            "54e6de3f9ba44d0480527d4d82b5e13e",
            "3f6e3aa8eda0467c9262b8926f91b8bf",
            "92dfa1811d8f4ed9bf66af7264ee432d",
            "6a16abc0cf594f7ea27d02eef9e72ad8",
            "a2a2c3fce24b49bfaf866d6940d4020a",
            "091ca77199bb4b39a1c64af19bffd4f7"
          ]
        }
      },
      "outputs": [
        {
          "output_type": "display_data",
          "data": {
            "text/plain": [
              "VBox(children=(VBox(children=(HBox(children=(Button(description='🙂', layout=Layout(height='auto', padding='0.5…"
            ],
            "application/vnd.jupyter.widget-view+json": {
              "version_major": 2,
              "version_minor": 0,
              "model_id": "2a88df908d1d44c78a997e080c200d4b"
            }
          },
          "metadata": {}
        }
      ],
      "source": [
        "# @title Submit your feedback\n",
        "content_review(f\"{feedback_prefix}_Gaussian_Distribution_Explorer_Interactive_Demo_and_Discussion\")"
      ]
    },
    {
      "cell_type": "markdown",
      "metadata": {
        "execution": {},
        "id": "Brp_8raKn-x8"
      },
      "source": [
        "## Section 1.2: Probabilistic Models\n",
        "\n",
        "*Estimated timing to here from start of tutorial: 11 min*\n",
        "\n",
        "Now that we have a model of our noise component $\\epsilon$ as random variable, how do we incorporate this back into our original linear model from before? Consider again our simplified model $y = \\theta x + \\epsilon$ where the noise has zero mean and unit variance $\\epsilon \\sim \\mathcal{N}(0, 1)$. We can now also treat $y$ as a random variable drawn from a Gaussian distribution where $\\mu = \\theta x$ and $\\sigma^2 = 1$:\n",
        "\n",
        "\\begin{equation}\n",
        "y \\sim \\mathcal{N}(\\theta x, 1)\n",
        "\\end{equation}\n",
        "\n",
        "which is to say that the probability of observing $y$ given $x$ and parameter $\\theta$ is\n",
        "\n",
        "\\begin{equation}\n",
        "p(y|x,\\theta) = \\frac{1}{\\sqrt{2\\pi}}e^{-\\frac{1}{2}(y-\\theta x)^2}\n",
        "\\end{equation}\n",
        "\n",
        "\n",
        "Note that in this and the following sections, we will focus on a single data point (a single pairing of $x$ and $y$). We have dropped the subscript $i$ just for simplicity (that is, we use $x$ for a single data point, instead of $x_i$).\n",
        "\n",
        "Now, let's revisit our original sample dataset where the true underlying model has $\\theta = 1.2$."
      ]
    },
    {
      "cell_type": "code",
      "execution_count": 27,
      "metadata": {
        "cellView": "form",
        "execution": {},
        "id": "Hjfae1b_n-x8"
      },
      "outputs": [],
      "source": [
        "# @markdown Execute this cell to generate some simulated data\n",
        "\n",
        "# setting a fixed seed to our random number generator ensures we will always\n",
        "# get the same psuedorandom number sequence\n",
        "\n",
        "np.random.seed(121)\n",
        "theta = 1.2\n",
        "n_samples = 30\n",
        "x = 10 * np.random.rand(n_samples) # sample from a uniform distribution over [0,10)\n",
        "noise = np.random.randn(n_samples) # sample from a standard normal distribution\n",
        "y = theta * x + noise"
      ]
    },
    {
      "cell_type": "markdown",
      "metadata": {
        "execution": {},
        "id": "ktLSwKl0n-x8"
      },
      "source": [
        "This time we can plot the density of $p(y|x,\\theta=1.2)$ and see how $p(y)$ changes for different values of $x$."
      ]
    },
    {
      "cell_type": "code",
      "execution_count": 28,
      "metadata": {
        "cellView": "form",
        "execution": {},
        "id": "vR6piNLwn-x8",
        "outputId": "7b2ae55e-9424-40dc-a4fa-e796b04fd897",
        "colab": {
          "base_uri": "https://localhost:8080/",
          "height": 492
        }
      },
      "outputs": [
        {
          "output_type": "display_data",
          "data": {
            "text/plain": [
              "<Figure size 1000x500 with 3 Axes>"
            ],
            "image/png": "[encoded data removed]"
          },
          "metadata": {
            "image/png": {
              "width": 974,
              "height": 475
            }
          }
        }
      ],
      "source": [
        "# @markdown Execute this cell to visualize p(y|x, theta=1.2)\n",
        "\n",
        "fig, (ax1, ax2) = plt.subplots(ncols=2, figsize=(10, 5))\n",
        "\n",
        "# Invokes helper function to generate density image plots from data and parameters\n",
        "im = plot_density_image(x, y, 1.2, ax=ax1)\n",
        "plt.colorbar(im, ax=ax1)\n",
        "ax1.axvline(8, color='k')\n",
        "ax1.set(title=r'p(y | x, $\\theta$=1.2)')\n",
        "\n",
        "# Plot pdf for given x\n",
        "ylim = ax1.get_ylim()\n",
        "yy = np.linspace(ylim[0], ylim[1], 50)\n",
        "ax2.plot(yy, stats.norm(theta * 8, 1).pdf(yy), color='orange', linewidth=2)\n",
        "ax2.set(\n",
        "    title=r'p(y|x=8, $\\theta$=1.2)',\n",
        "    xlabel='y',\n",
        "    ylabel='probability density')\n",
        "plt.show()"
      ]
    },
    {
      "cell_type": "markdown",
      "metadata": {
        "execution": {},
        "id": "AGPOZA6-n-x8"
      },
      "source": [
        "## Section 1.3: Likelihood Estimation\n",
        "\n",
        "*Estimated timing to here from start of tutorial: 15 min*\n",
        "\n",
        "Now that we have our probabilistic model, we turn back to our original challenge of finding a good estimate for $\\theta$ that fits our data. Given the inherent uncertainty when dealing in probabilities, we talk about the [likelihood](https://en.wikipedia.org/wiki/Likelihood_function) that some estimate $\\hat{\\theta}$ fits our data. The likelihood function $\\mathcal{L}(\\theta)$ is equal to the probability density function parameterized by that $\\theta$:\n",
        "\n",
        "\\begin{equation}\n",
        "\\mathcal{L}(\\theta|x,y) = p(y|x,\\theta) = \\frac{1}{\\sqrt{2\\pi\\sigma^2}}e^{-\\frac{1}{2\\sigma^2}(y-\\theta x)^2}\n",
        "\\end{equation}"
      ]
    },
    {
      "cell_type": "markdown",
      "metadata": {
        "execution": {},
        "id": "z-IxgoIDn-x8"
      },
      "source": [
        "### Coding Exercise 1.3: Likelihood Function\n",
        "\n",
        "In this exercise you will implement the likelihood function $\\mathcal{L}(\\theta|x, y)$ for our linear model where $\\sigma = 1$.\n",
        "\n",
        "After implementing this function, we can produce probabilities that our estimate $\\hat{\\theta}$ generated the provided observations. We will try with one of the samples from our dataset.\n",
        "\n",
        "TIP: Use `np.exp` and `np.sqrt` for the exponential and square root functions, respectively."
      ]
    },
    {
      "cell_type": "code",
      "execution_count": 29,
      "metadata": {
        "execution": {},
        "id": "PXbfGYWGn-x8",
        "outputId": "185d6c50-5b89-4a0b-d367-8b236dc4616a",
        "colab": {
          "base_uri": "https://localhost:8080/",
          "height": 297
        }
      },
      "outputs": [
        {
          "output_type": "error",
          "ename": "NotImplementedError",
          "evalue": "Student exercise: implement the likelihood function",
          "traceback": [
            "\u001b[0;31m---------------------------------------------------------------------------\u001b[0m",
            "\u001b[0;31mNotImplementedError\u001b[0m                       Traceback (most recent call last)",
            "\u001b[0;32m/tmp/ipython-input-29-2937329151.py\u001b[0m in \u001b[0;36m<cell line: 0>\u001b[0;34m()\u001b[0m\n\u001b[1;32m     25\u001b[0m \u001b[0;34m\u001b[0m\u001b[0m\n\u001b[1;32m     26\u001b[0m \u001b[0;34m\u001b[0m\u001b[0m\n\u001b[0;32m---> 27\u001b[0;31m \u001b[0mprint\u001b[0m\u001b[0;34m(\u001b[0m\u001b[0mlikelihood\u001b[0m\u001b[0;34m(\u001b[0m\u001b[0;36m1.0\u001b[0m\u001b[0;34m,\u001b[0m \u001b[0mx\u001b[0m\u001b[0;34m[\u001b[0m\u001b[0;36m1\u001b[0m\u001b[0;34m]\u001b[0m\u001b[0;34m,\u001b[0m \u001b[0my\u001b[0m\u001b[0;34m[\u001b[0m\u001b[0;36m1\u001b[0m\u001b[0;34m]\u001b[0m\u001b[0;34m)\u001b[0m\u001b[0;34m)\u001b[0m\u001b[0;34m\u001b[0m\u001b[0;34m\u001b[0m\u001b[0m\n\u001b[0m",
            "\u001b[0;32m/tmp/ipython-input-29-2937329151.py\u001b[0m in \u001b[0;36mlikelihood\u001b[0;34m(theta_hat, x, y)\u001b[0m\n\u001b[1;32m     16\u001b[0m   \u001b[0;31m## TODO for students: implement the likelihood function\u001b[0m\u001b[0;34m\u001b[0m\u001b[0;34m\u001b[0m\u001b[0m\n\u001b[1;32m     17\u001b[0m   \u001b[0;31m# Fill out function and remove\u001b[0m\u001b[0;34m\u001b[0m\u001b[0;34m\u001b[0m\u001b[0m\n\u001b[0;32m---> 18\u001b[0;31m   \u001b[0;32mraise\u001b[0m \u001b[0mNotImplementedError\u001b[0m\u001b[0;34m(\u001b[0m\u001b[0;34m\"Student exercise: implement the likelihood function\"\u001b[0m\u001b[0;34m)\u001b[0m\u001b[0;34m\u001b[0m\u001b[0;34m\u001b[0m\u001b[0m\n\u001b[0m\u001b[1;32m     19\u001b[0m   \u001b[0;31m##############################################################################\u001b[0m\u001b[0;34m\u001b[0m\u001b[0;34m\u001b[0m\u001b[0m\n\u001b[1;32m     20\u001b[0m \u001b[0;34m\u001b[0m\u001b[0m\n",
            "\u001b[0;31mNotImplementedError\u001b[0m: Student exercise: implement the likelihood function"
          ]
        }
      ],
      "source": [
        "def likelihood(theta_hat, x, y):\n",
        "  \"\"\"The likelihood function for a linear model with noise sampled from a\n",
        "    Gaussian distribution with zero mean and unit variance.\n",
        "\n",
        "  Args:\n",
        "    theta_hat (float): An estimate of the slope parameter.\n",
        "    x (ndarray): An array of shape (samples,) that contains the input values.\n",
        "    y (ndarray): An array of shape (samples,) that contains the corresponding\n",
        "      measurement values to the inputs.\n",
        "\n",
        "  Returns:\n",
        "    ndarray: the likelihood values for the theta_hat estimate\n",
        "  \"\"\"\n",
        "  sigma = 1\n",
        "  ##############################################################################\n",
        "  ## TODO for students: implement the likelihood function\n",
        "  # Fill out function and remove\n",
        "  # raise NotImplementedError(\"Student exercise: implement the likelihood function\")\n",
        "  ##############################################################################\n",
        "\n",
        "  # Compute Gaussian likelihood\n",
        "  pdf = ...\n",
        "\n",
        "  return pdf\n",
        "\n",
        "\n",
        "print(likelihood(1.0, x[1], y[1]))"
      ]
    },
    {
      "cell_type": "markdown",
      "metadata": {
        "execution": {},
        "id": "QNH-XG0qn-x8"
      },
      "source": [
        "Sample output\n",
        "\n",
        "```\n",
        "0.11344443599846923\n",
        "```"
      ]
    },
    {
      "cell_type": "markdown",
      "metadata": {
        "cellView": "both",
        "execution": {},
        "id": "HBFqd8U3n-x8"
      },
      "source": [
        "[*Click for solution*](https://github.com/NeuromatchAcademy/course-content/tree/main/tutorials/W1D2_ModelFitting/solutions/W1D2_Tutorial2_Solution_328a0c30.py)\n",
        "\n"
      ]
    },
    {
      "cell_type": "code",
      "execution_count": null,
      "metadata": {
        "cellView": "form",
        "execution": {},
        "id": "tfEqRmUen-x8"
      },
      "outputs": [],
      "source": [
        "# @title Submit your feedback\n",
        "content_review(f\"{feedback_prefix}_Likelihood_function_Exercise\")"
      ]
    },
    {
      "cell_type": "markdown",
      "metadata": {
        "execution": {},
        "id": "0rnMIdEGn-x9"
      },
      "source": [
        "We should see that $\\mathcal{L}(\\theta=1.0|x=2.1,y=3.7) \\approx 0.11$. So far so good, but how does this tell us how this estimate is better than any others?\n",
        "\n",
        "When dealing with a set of data points, as we are with our dataset, we are concerned with their joint probability -- the likelihood that all data points are explained by our parameterization. Since we have assumed that the noise affects each output independently, we can factorize the likelihood, and write:\n",
        "\n",
        "\\begin{equation}\n",
        "\\mathcal{L}(\\theta|\\mathbf{x}, \\mathbf{y}) = \\prod_{i=1}^N \\mathcal{L}(\\theta|x_i,y_i),\n",
        "\\end{equation}\n",
        "\n",
        "where we have $N$ data points $\\mathbf{x} = [x_1,...,x_N]$ and $\\mathbf{y} = [y_1,...,y_N]$.\n",
        "\n",
        "In practice, such a product can be numerically unstable. Indeed, multiplying small values together can lead to [arithmetic underflow](https://en.wikipedia.org/wiki/Arithmetic_underflow), the situation in which the digital representation of a floating point number reaches its limit. This problem can be circumvented by taking the logarithm of the likelihood because the logarithm transforms products into sums:\n",
        "\n",
        "\\begin{equation}\n",
        "\\log\\mathcal{L}(\\theta|\\mathbf{x}, \\mathbf{y}) = \\sum_{i=1}^N \\log\\mathcal{L}(\\theta|x_i,y_i)\n",
        "\\end{equation}\n",
        "\n",
        "We can take the sum of the log of the output of our `likelihood` method applied to the full dataset to get a better idea of how different $\\hat{\\theta}$ compare. We can also plot the different distribution densities over our dataset and see how they line up qualitatively."
      ]
    },
    {
      "cell_type": "code",
      "execution_count": null,
      "metadata": {
        "cellView": "form",
        "execution": {},
        "id": "n_QJpOYxn-x9"
      },
      "outputs": [],
      "source": [
        "# @markdown Execute this cell to visualize different distribution densities\n",
        "theta_hats = [0.5, 1.0, 2.2]\n",
        "fig, axes = plt.subplots(ncols=3, figsize=(15, 5))\n",
        "for theta_hat, ax in zip(theta_hats, axes):\n",
        "  ll = np.sum(np.log(likelihood(theta_hat, x, y)))  # log likelihood\n",
        "  im = plot_density_image(x, y, theta_hat, ax=ax)\n",
        "  ax.scatter(x, y)\n",
        "  ax.set(title=fr'$\\hat{{\\theta}}$ = {theta_hat}, log likelihood: {ll:.2f}')\n",
        "plt.colorbar(im, ax=ax)\n",
        "plt.show()"
      ]
    },
    {
      "cell_type": "markdown",
      "metadata": {
        "execution": {},
        "id": "ALM6dPb9n-x9"
      },
      "source": [
        "Using the log likelihood calculation, we see that $\\mathcal{L}(\\theta=1.0) > \\mathcal{L}(\\theta=0.5) > \\mathcal{L}(\\theta=2.2)$.\n",
        "\n",
        "This is great: now we have a way to compare estimators based on likelihood. But like with the MSE approach, we want an analytic solution to find the best estimator. In this case, we want to find the estimator that maximizes the likelihood.\n"
      ]
    },
    {
      "cell_type": "markdown",
      "metadata": {
        "execution": {},
        "id": "fBA6fVK_n-x9"
      },
      "source": [
        "## Section 1.4: Finding the Maximum Likelihood Estimator\n",
        "\n",
        "*Estimated timing to here from start of tutorial: 23 min*\n",
        "\n",
        "<details>\n",
        "<summary> <font color='blue'>Click here for text recap of relevant part of video </font></summary>\n",
        "\n",
        "We want to find the parameter value $\\hat\\theta$ that makes our data set most likely:\n",
        "\n",
        "\\begin{align}\n",
        "\\hat{\\theta}_{\\textrm{MLE}} = \\underset{\\theta}{\\operatorname{argmax}} \\mathcal{L}(\\theta|X,Y)\n",
        "\\end{align}\n",
        "\n",
        "We discussed how taking the logarithm of the likelihood helps with numerical stability, the good thing is that it does so without changing the parameter value that maximizes the likelihood. Indeed, the $\\log()$ function is *monotonically increasing*, which means that it preserves the order of its inputs. So we have:\n",
        "\n",
        "\\begin{align}\n",
        "\\hat{\\theta}_{\\textrm{MLE}} = \\underset{\\theta}{\\operatorname{argmax}} \\sum_{i=1}^m \\textrm{log} \\mathcal{L}(\\theta|x_i,y_i)\n",
        "\\end{align}\n",
        "\n",
        "Now substituting our specific likelihood function and taking its logarithm, we get:\n",
        "\\begin{align}\n",
        "\\hat{\\theta}_{\\textrm{MLE}} = \\underset{\\theta}{\\operatorname{argmax}} [-\\frac{N}{2} \\operatorname{log} 2\\pi\\sigma^2 - \\frac{1}{2\\sigma^2}\\sum_{i=1}^N (y_i-\\theta x_i)^2].\n",
        "\\end{align}\n",
        "\n",
        "Note that maximizing the log likelihood is the same as minimizing the negative log likelihood (in practice optimization routines are developed to solve minimization not maximization problems). Because of the convexity of this objective function, we can take the derivative of our negative log likelihhood, set it to 0, and solve - just like our solution to minimizing MSE.\n",
        "\n",
        "\\begin{align}\n",
        "\\frac{\\partial\\operatorname{log}\\mathcal{L}(\\theta|x,y)}{\\partial\\theta}=\\frac{1}{\\sigma^2}\\sum_{i=1}^N(y_i-\\theta x_i)x_i = 0\n",
        "\\end{align}\n",
        "\n",
        "This looks remarkably like the equation we had to solve for the optimal MSE estimator, and, in fact, we arrive to the exact same solution!\n",
        "\n",
        "\\begin{align}\n",
        "\\hat{\\theta}_{\\textrm{MLE}} = \\hat{\\theta}_{\\textrm{MSE}} = \\frac{\\sum_{i=1}^N x_i y_i}{\\sum_{i=1}^N x_i^2}\n",
        "\\end{align}"
      ]
    },
    {
      "cell_type": "code",
      "execution_count": null,
      "metadata": {
        "execution": {},
        "id": "sBAqgOPXn-x9"
      },
      "outputs": [],
      "source": [
        "# Compute theta_hat_MLE\n",
        "theta_hat_mle = (x @ y) / (x @ x)"
      ]
    },
    {
      "cell_type": "code",
      "execution_count": null,
      "metadata": {
        "cellView": "form",
        "execution": {},
        "id": "PzQmxI4Bn-x9"
      },
      "outputs": [],
      "source": [
        "# @markdown Execute this cell to visualize density with theta_hat_mle\n",
        "\n",
        "# Plot the resulting distribution density\n",
        "fig, ax = plt.subplots()\n",
        "ll = np.sum(np.log(likelihood(theta_hat_mle, x, y))) # log likelihood\n",
        "im = plot_density_image(x, y, theta_hat_mle, ax=ax)\n",
        "plt.colorbar(im, ax=ax)\n",
        "ax.scatter(x, y)\n",
        "ax.set(title=fr'$\\hat{{\\theta}}$ = {theta_hat_mle:.2f}, log likelihood: {ll:.2f}')\n",
        "plt.show()"
      ]
    },
    {
      "cell_type": "markdown",
      "metadata": {
        "execution": {},
        "id": "Aw23KmlYn-x9"
      },
      "source": [
        "---\n",
        "# Summary\n",
        "\n",
        "*Estimated timing of tutorial: 30 minutes*\n",
        "\n",
        "\n",
        "Likelihood vs probability:\n",
        "\n",
        "  - $\\mathcal{L}(\\theta|x, y) = p(y|x, \\theta)$\n",
        "  - $p(y|x, \\theta) \\rightarrow$ \"probability of observing the response $y$ given parameter $\\theta$ and input $x$\"\n",
        "  - $\\mathcal{L}(\\theta|x, y) \\rightarrow$ \"likelihood model that parameters $\\theta$ produced response $y$ from input $x$\"\n",
        "\n",
        "Log-likelihood maximization:\n",
        "\n",
        "  - We take the $\\log$ of the likelihood function for computational convenience\n",
        "  - The parameters $\\theta$ that maximize $\\log\\mathcal{L}(\\theta|x, y)$ are the model parameters that maximize the probability of observing the data.\n",
        "\n",
        "**Key point**: the log-likelihood is a flexible cost function, and is often used to find model parameters that best fit the data."
      ]
    },
    {
      "cell_type": "markdown",
      "metadata": {
        "execution": {},
        "id": "OKMX4e2gn-x9"
      },
      "source": [
        "\n",
        "---\n",
        "# Notation\n",
        "\n",
        "\\begin{align}\n",
        "x &\\quad \\text{input, independent variable}\\\\\n",
        "y &\\quad \\text{response measurement, dependent variable}\\\\\n",
        "\\mathbf{x} &\\quad \\text{vector of input values}\\\\\n",
        "\\mathbf{y} &\\quad \\text{vector of measurements}\\\\\n",
        "\\epsilon &\\quad \\text{measurement error, noise contribution}\\\\\n",
        "\\epsilon \\sim \\mathcal{N}(\\mu, \\sigma^2) &\\quad \\text{random variable } \\epsilon \\text{ is distributed according to a Gaussian distribution, with mean } \\mu \\text{ and variance } \\sigma^2\\\\\n",
        "\\mu &\\quad \\text{mean}\\\\\n",
        "\\sigma^2 &\\quad \\text{variance}\\\\\n",
        "\\sigma &\\quad \\text{standard deviation}\\\\\n",
        "\\theta &\\quad \\text{parameter}\\\\\n",
        "\\hat{\\theta} &\\quad \\text{estimate of parameter}\\\\\n",
        "\\mathcal{L}(\\theta|x, y) &\\quad \\text{likelihood of that parameter } \\theta \\text{ producing response } y \\text{ from input } x \\\\\n",
        "p(y|x, \\theta) &\\quad \\text{probability of observing the response } y \\text{ given input } x \\text{ and parameter } \\theta \\\\\n",
        "\\end{align}"
      ]
    },
    {
      "cell_type": "markdown",
      "metadata": {
        "execution": {},
        "id": "63GgLYgTn-x9"
      },
      "source": [
        "---\n",
        "# Bonus\n",
        "\n",
        "We can also see $\\mathrm{p}(\\mathrm{y} | \\mathrm{x}, \\theta)$ as a function of $x$. This is the stimulus likelihood function, and it is useful in case we want to decode the input $x$ from observed responses $y$. This is what is relevant from the point of view of a neuron that does not have access to the outside world and tries to infer what's out there from the responses of other neurons!"
      ]
    }
  ],
  "metadata": {
    "celltoolbar": "Slideshow",
    "colab": {
      "name": "W1D2_Tutorial2",
      "provenance": [],
      "include_colab_link": true
    },
    "kernel": {
      "display_name": "Python 3",
      "language": "python",
      "name": "python3"
    },
    "kernelspec": {
      "display_name": "Python 3",
      "language": "python",
      "name": "python3"
    },
    "language_info": {
      "codemirror_mode": {
        "name": "ipython",
        "version": 3
      },
      "file_extension": ".py",
      "mimetype": "text/x-python",
      "name": "python",
      "nbconvert_exporter": "python",
      "pygments_lexer": "ipython3",
      "version": "3.9.21"
    },
    "widgets": {
      "application/vnd.jupyter.widget-state+json": {
        "7e5c2bf27cce4087af83aba67e2c8437": {
          "model_module": "@jupyter-widgets/controls",
          "model_name": "TabModel",
          "model_module_version": "1.5.0",
          "state": {
            "_dom_classes": [],
            "_model_module": "@jupyter-widgets/controls",
            "_model_module_version": "1.5.0",
            "_model_name": "TabModel",
            "_titles": {
              "0": "Youtube",
              "1": "Bilibili"
            },
            "_view_count": null,
            "_view_module": "@jupyter-widgets/controls",
            "_view_module_version": "1.5.0",
            "_view_name": "TabView",
            "box_style": "",
            "children": [
              "IPY_MODEL_eda219dfa82c4ded993e0bf6eb1a58d1",
              "IPY_MODEL_1a451f6a795841b6a7ef3e5e43845c6b"
            ],
            "layout": "IPY_MODEL_a92ea938ed624f4593e9ca113a7d382f",
            "selected_index": 0
          }
        },
        "eda219dfa82c4ded993e0bf6eb1a58d1": {
          "model_module": "@jupyter-widgets/output",
          "model_name": "OutputModel",
          "model_module_version": "1.0.0",
          "state": {
            "_dom_classes": [],
            "_model_module": "@jupyter-widgets/output",
            "_model_module_version": "1.0.0",
            "_model_name": "OutputModel",
            "_view_count": null,
            "_view_module": "@jupyter-widgets/output",
            "_view_module_version": "1.0.0",
            "_view_name": "OutputView",
            "layout": "IPY_MODEL_f412b2259a594c53beb7badef8d496cb",
            "msg_id": "",
            "outputs": [
              {
                "output_type": "stream",
                "name": "stdout",
                "text": [
                  "Video available at https://youtube.com/watch?v=8mpNmzLKNfU\n"
                ]
              },
              {
                "output_type": "display_data",
                "data": {
                  "text/plain": "<IPython.lib.display.YouTubeVideo at 0x7af9c13b5c50>",
                  "text/html": "\n        <iframe\n            width=\"854\"\n            height=\"480\"\n            src=\"https://www.youtube.com/embed/8mpNmzLKNfU?fs=1&rel=0\"\n            frameborder=\"0\"\n            allowfullscreen\n            \n        ></iframe>\n        ",
                  "image/jpeg": "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\n"
                },
                "metadata": {}
              }
            ]
          }
        },
        "1a451f6a795841b6a7ef3e5e43845c6b": {
          "model_module": "@jupyter-widgets/output",
          "model_name": "OutputModel",
          "model_module_version": "1.0.0",
          "state": {
            "_dom_classes": [],
            "_model_module": "@jupyter-widgets/output",
            "_model_module_version": "1.0.0",
            "_model_name": "OutputModel",
            "_view_count": null,
            "_view_module": "@jupyter-widgets/output",
            "_view_module_version": "1.0.0",
            "_view_name": "OutputView",
            "layout": "IPY_MODEL_7ad7e941fc56464c861a4a69371fbabb",
            "msg_id": "",
            "outputs": [
              {
                "output_type": "stream",
                "name": "stdout",
                "text": [
                  "Video available at https://www.bilibili.com/video/BV1Mg4y1i7WH\n"
                ]
              },
              {
                "output_type": "display_data",
                "data": {
                  "text/plain": "<__main__.PlayVideo at 0x7af9c2754090>",
                  "text/html": "\n        <iframe\n            width=\"854\"\n            height=\"480\"\n            src=\"https://player.bilibili.com/player.html?bvid=BV1Mg4y1i7WH&page=1?fs=1&autoplay=False\"\n            frameborder=\"0\"\n            allowfullscreen\n            \n        ></iframe>\n        "
                },
                "metadata": {}
              }
            ]
          }
        },
        "a92ea938ed624f4593e9ca113a7d382f": {
          "model_module": "@jupyter-widgets/base",
          "model_name": "LayoutModel",
          "model_module_version": "1.2.0",
          "state": {
            "_model_module": "@jupyter-widgets/base",
            "_model_module_version": "1.2.0",
            "_model_name": "LayoutModel",
            "_view_count": null,
            "_view_module": "@jupyter-widgets/base",
            "_view_module_version": "1.2.0",
            "_view_name": "LayoutView",
            "align_content": null,
            "align_items": null,
            "align_self": null,
            "border": null,
            "bottom": null,
            "display": null,
            "flex": null,
            "flex_flow": null,
            "grid_area": null,
            "grid_auto_columns": null,
            "grid_auto_flow": null,
            "grid_auto_rows": null,
            "grid_column": null,
            "grid_gap": null,
            "grid_row": null,
            "grid_template_areas": null,
            "grid_template_columns": null,
            "grid_template_rows": null,
            "height": null,
            "justify_content": null,
            "justify_items": null,
            "left": null,
            "margin": null,
            "max_height": null,
            "max_width": null,
            "min_height": null,
            "min_width": null,
            "object_fit": null,
            "object_position": null,
            "order": null,
            "overflow": null,
            "overflow_x": null,
            "overflow_y": null,
            "padding": null,
            "right": null,
            "top": null,
            "visibility": null,
            "width": null
          }
        },
        "f412b2259a594c53beb7badef8d496cb": {
          "model_module": "@jupyter-widgets/base",
          "model_name": "LayoutModel",
          "model_module_version": "1.2.0",
          "state": {
            "_model_module": "@jupyter-widgets/base",
            "_model_module_version": "1.2.0",
            "_model_name": "LayoutModel",
            "_view_count": null,
            "_view_module": "@jupyter-widgets/base",
            "_view_module_version": "1.2.0",
            "_view_name": "LayoutView",
            "align_content": null,
            "align_items": null,
            "align_self": null,
            "border": null,
            "bottom": null,
            "display": null,
            "flex": null,
            "flex_flow": null,
            "grid_area": null,
            "grid_auto_columns": null,
            "grid_auto_flow": null,
            "grid_auto_rows": null,
            "grid_column": null,
            "grid_gap": null,
            "grid_row": null,
            "grid_template_areas": null,
            "grid_template_columns": null,
            "grid_template_rows": null,
            "height": null,
            "justify_content": null,
            "justify_items": null,
            "left": null,
            "margin": null,
            "max_height": null,
            "max_width": null,
            "min_height": null,
            "min_width": null,
            "object_fit": null,
            "object_position": null,
            "order": null,
            "overflow": null,
            "overflow_x": null,
            "overflow_y": null,
            "padding": null,
            "right": null,
            "top": null,
            "visibility": null,
            "width": null
          }
        },
        "7ad7e941fc56464c861a4a69371fbabb": {
          "model_module": "@jupyter-widgets/base",
          "model_name": "LayoutModel",
          "model_module_version": "1.2.0",
          "state": {
            "_model_module": "@jupyter-widgets/base",
            "_model_module_version": "1.2.0",
            "_model_name": "LayoutModel",
            "_view_count": null,
            "_view_module": "@jupyter-widgets/base",
            "_view_module_version": "1.2.0",
            "_view_name": "LayoutView",
            "align_content": null,
            "align_items": null,
            "align_self": null,
            "border": null,
            "bottom": null,
            "display": null,
            "flex": null,
            "flex_flow": null,
            "grid_area": null,
            "grid_auto_columns": null,
            "grid_auto_flow": null,
            "grid_auto_rows": null,
            "grid_column": null,
            "grid_gap": null,
            "grid_row": null,
            "grid_template_areas": null,
            "grid_template_columns": null,
            "grid_template_rows": null,
            "height": null,
            "justify_content": null,
            "justify_items": null,
            "left": null,
            "margin": null,
            "max_height": null,
            "max_width": null,
            "min_height": null,
            "min_width": null,
            "object_fit": null,
            "object_position": null,
            "order": null,
            "overflow": null,
            "overflow_x": null,
            "overflow_y": null,
            "padding": null,
            "right": null,
            "top": null,
            "visibility": null,
            "width": null
          }
        },
        "937113356b0f489c92576f7adc72da09": {
          "model_module": "@jupyter-widgets/controls",
          "model_name": "VBoxModel",
          "model_module_version": "1.5.0",
          "state": {
            "_dom_classes": [],
            "_model_module": "@jupyter-widgets/controls",
            "_model_module_version": "1.5.0",
            "_model_name": "VBoxModel",
            "_view_count": null,
            "_view_module": "@jupyter-widgets/controls",
            "_view_module_version": "1.5.0",
            "_view_name": "VBoxView",
            "box_style": "",
            "children": [
              "IPY_MODEL_d1218b2077ce4c24b96bed3ab61e0f70"
            ],
            "layout": "IPY_MODEL_87666489e36c4340afd0357347d78e91"
          }
        },
        "d1218b2077ce4c24b96bed3ab61e0f70": {
          "model_module": "@jupyter-widgets/controls",
          "model_name": "VBoxModel",
          "model_module_version": "1.5.0",
          "state": {
            "_dom_classes": [],
            "_model_module": "@jupyter-widgets/controls",
            "_model_module_version": "1.5.0",
            "_model_name": "VBoxModel",
            "_view_count": null,
            "_view_module": "@jupyter-widgets/controls",
            "_view_module_version": "1.5.0",
            "_view_name": "VBoxView",
            "box_style": "",
            "children": [
              "IPY_MODEL_a3a912b305f94746b2b19e0be04993dc",
              "IPY_MODEL_de0e0dbc5e9d4aecae3e07bfbef635ef",
              "IPY_MODEL_c13acae0a9254ca49feacf5a7f6d0dd7"
            ],
            "layout": "IPY_MODEL_032cd3d8b4f84a88b35fe0665cc14ec6"
          }
        },
        "87666489e36c4340afd0357347d78e91": {
          "model_module": "@jupyter-widgets/base",
          "model_name": "LayoutModel",
          "model_module_version": "1.2.0",
          "state": {
            "_model_module": "@jupyter-widgets/base",
            "_model_module_version": "1.2.0",
            "_model_name": "LayoutModel",
            "_view_count": null,
            "_view_module": "@jupyter-widgets/base",
            "_view_module_version": "1.2.0",
            "_view_name": "LayoutView",
            "align_content": null,
            "align_items": null,
            "align_self": null,
            "border": null,
            "bottom": null,
            "display": null,
            "flex": null,
            "flex_flow": null,
            "grid_area": null,
            "grid_auto_columns": null,
            "grid_auto_flow": null,
            "grid_auto_rows": null,
            "grid_column": null,
            "grid_gap": null,
            "grid_row": null,
            "grid_template_areas": null,
            "grid_template_columns": null,
            "grid_template_rows": null,
            "height": null,
            "justify_content": null,
            "justify_items": null,
            "left": null,
            "margin": null,
            "max_height": null,
            "max_width": null,
            "min_height": null,
            "min_width": null,
            "object_fit": null,
            "object_position": null,
            "order": null,
            "overflow": null,
            "overflow_x": null,
            "overflow_y": null,
            "padding": null,
            "right": null,
            "top": null,
            "visibility": null,
            "width": null
          }
        },
        "a3a912b305f94746b2b19e0be04993dc": {
          "model_module": "@jupyter-widgets/controls",
          "model_name": "HBoxModel",
          "model_module_version": "1.5.0",
          "state": {
            "_dom_classes": [],
            "_model_module": "@jupyter-widgets/controls",
            "_model_module_version": "1.5.0",
            "_model_name": "HBoxModel",
            "_view_count": null,
            "_view_module": "@jupyter-widgets/controls",
            "_view_module_version": "1.5.0",
            "_view_name": "HBoxView",
            "box_style": "",
            "children": [
              "IPY_MODEL_63ee5900e9d64597888ba61f1f2e6b60",
              "IPY_MODEL_c0ec096ea55241ce91cc8cb9353a187f",
              "IPY_MODEL_cf2190424f5f41458c5ffb00cb63761f"
            ],
            "layout": "IPY_MODEL_d9104e521723442aaa6d57cda8886f01"
          }
        },
        "de0e0dbc5e9d4aecae3e07bfbef635ef": {
          "model_module": "@jupyter-widgets/controls",
          "model_name": "HBoxModel",
          "model_module_version": "1.5.0",
          "state": {
            "_dom_classes": [],
            "_model_module": "@jupyter-widgets/controls",
            "_model_module_version": "1.5.0",
            "_model_name": "HBoxModel",
            "_view_count": null,
            "_view_module": "@jupyter-widgets/controls",
            "_view_module_version": "1.5.0",
            "_view_name": "HBoxView",
            "box_style": "",
            "children": [
              "IPY_MODEL_f397af36e3c84c1782f2fad8c678e2c9",
              "IPY_MODEL_b11c290c6f984cb1888af53262ba8318"
            ],
            "layout": "IPY_MODEL_1fcf6bb3f06b451cac864e488ad07837"
          }
        },
        "c13acae0a9254ca49feacf5a7f6d0dd7": {
          "model_module": "@jupyter-widgets/controls",
          "model_name": "LabelModel",
          "model_module_version": "1.5.0",
          "state": {
            "_dom_classes": [],
            "_model_module": "@jupyter-widgets/controls",
            "_model_module_version": "1.5.0",
            "_model_name": "LabelModel",
            "_view_count": null,
            "_view_module": "@jupyter-widgets/controls",
            "_view_module_version": "1.5.0",
            "_view_name": "LabelView",
            "description": "",
            "description_tooltip": null,
            "layout": "IPY_MODEL_1db038275bc0438f97449e4a614bf365",
            "placeholder": "​",
            "style": "IPY_MODEL_a00171ab22304269bc57cc1b87401372",
            "value": "Thanks for your feedback!"
          }
        },
        "032cd3d8b4f84a88b35fe0665cc14ec6": {
          "model_module": "@jupyter-widgets/base",
          "model_name": "LayoutModel",
          "model_module_version": "1.2.0",
          "state": {
            "_model_module": "@jupyter-widgets/base",
            "_model_module_version": "1.2.0",
            "_model_name": "LayoutModel",
            "_view_count": null,
            "_view_module": "@jupyter-widgets/base",
            "_view_module_version": "1.2.0",
            "_view_name": "LayoutView",
            "align_content": null,
            "align_items": null,
            "align_self": null,
            "border": null,
            "bottom": null,
            "display": null,
            "flex": null,
            "flex_flow": null,
            "grid_area": null,
            "grid_auto_columns": null,
            "grid_auto_flow": null,
            "grid_auto_rows": null,
            "grid_column": null,
            "grid_gap": null,
            "grid_row": null,
            "grid_template_areas": null,
            "grid_template_columns": null,
            "grid_template_rows": null,
            "height": null,
            "justify_content": null,
            "justify_items": null,
            "left": null,
            "margin": null,
            "max_height": null,
            "max_width": null,
            "min_height": null,
            "min_width": null,
            "object_fit": null,
            "object_position": null,
            "order": null,
            "overflow": null,
            "overflow_x": null,
            "overflow_y": null,
            "padding": null,
            "right": null,
            "top": null,
            "visibility": null,
            "width": null
          }
        },
        "63ee5900e9d64597888ba61f1f2e6b60": {
          "model_module": "@jupyter-widgets/controls",
          "model_name": "ButtonModel",
          "model_module_version": "1.5.0",
          "state": {
            "_dom_classes": [
              "happy"
            ],
            "_model_module": "@jupyter-widgets/controls",
            "_model_module_version": "1.5.0",
            "_model_name": "ButtonModel",
            "_view_count": null,
            "_view_module": "@jupyter-widgets/controls",
            "_view_module_version": "1.5.0",
            "_view_name": "ButtonView",
            "button_style": "",
            "description": "🙂",
            "disabled": false,
            "icon": "",
            "layout": "IPY_MODEL_9cc66083c1d04012a1c9a06443cdead5",
            "style": "IPY_MODEL_bdce70c1d34b4e579128afd9420e680b",
            "tooltip": "happy"
          }
        },
        "c0ec096ea55241ce91cc8cb9353a187f": {
          "model_module": "@jupyter-widgets/controls",
          "model_name": "ButtonModel",
          "model_module_version": "1.5.0",
          "state": {
            "_dom_classes": [
              "medium"
            ],
            "_model_module": "@jupyter-widgets/controls",
            "_model_module_version": "1.5.0",
            "_model_name": "ButtonModel",
            "_view_count": null,
            "_view_module": "@jupyter-widgets/controls",
            "_view_module_version": "1.5.0",
            "_view_name": "ButtonView",
            "button_style": "",
            "description": "😐",
            "disabled": false,
            "icon": "",
            "layout": "IPY_MODEL_d0c167ccaf3044eeafbdd62bc688945c",
            "style": "IPY_MODEL_5eb7659deba24435aa269024e501a92a",
            "tooltip": "medium"
          }
        },
        "cf2190424f5f41458c5ffb00cb63761f": {
          "model_module": "@jupyter-widgets/controls",
          "model_name": "ButtonModel",
          "model_module_version": "1.5.0",
          "state": {
            "_dom_classes": [
              "sad"
            ],
            "_model_module": "@jupyter-widgets/controls",
            "_model_module_version": "1.5.0",
            "_model_name": "ButtonModel",
            "_view_count": null,
            "_view_module": "@jupyter-widgets/controls",
            "_view_module_version": "1.5.0",
            "_view_name": "ButtonView",
            "button_style": "",
            "description": "🙁",
            "disabled": false,
            "icon": "",
            "layout": "IPY_MODEL_1789d011a4c14b6aa2c152c9424b0e79",
            "style": "IPY_MODEL_f6fbb4a04cc54c55b2b1474ea16687b0",
            "tooltip": "sad"
          }
        },
        "d9104e521723442aaa6d57cda8886f01": {
          "model_module": "@jupyter-widgets/base",
          "model_name": "LayoutModel",
          "model_module_version": "1.2.0",
          "state": {
            "_model_module": "@jupyter-widgets/base",
            "_model_module_version": "1.2.0",
            "_model_name": "LayoutModel",
            "_view_count": null,
            "_view_module": "@jupyter-widgets/base",
            "_view_module_version": "1.2.0",
            "_view_name": "LayoutView",
            "align_content": null,
            "align_items": null,
            "align_self": null,
            "border": null,
            "bottom": null,
            "display": null,
            "flex": null,
            "flex_flow": null,
            "grid_area": null,
            "grid_auto_columns": null,
            "grid_auto_flow": null,
            "grid_auto_rows": null,
            "grid_column": null,
            "grid_gap": null,
            "grid_row": null,
            "grid_template_areas": null,
            "grid_template_columns": null,
            "grid_template_rows": null,
            "height": null,
            "justify_content": null,
            "justify_items": null,
            "left": null,
            "margin": null,
            "max_height": null,
            "max_width": null,
            "min_height": null,
            "min_width": null,
            "object_fit": null,
            "object_position": null,
            "order": null,
            "overflow": null,
            "overflow_x": null,
            "overflow_y": null,
            "padding": null,
            "right": null,
            "top": null,
            "visibility": null,
            "width": null
          }
        },
        "f397af36e3c84c1782f2fad8c678e2c9": {
          "model_module": "@jupyter-widgets/controls",
          "model_name": "TextareaModel",
          "model_module_version": "1.5.0",
          "state": {
            "_dom_classes": [],
            "_model_module": "@jupyter-widgets/controls",
            "_model_module_version": "1.5.0",
            "_model_name": "TextareaModel",
            "_view_count": null,
            "_view_module": "@jupyter-widgets/controls",
            "_view_module_version": "1.5.0",
            "_view_name": "TextareaView",
            "continuous_update": true,
            "description": "",
            "description_tooltip": null,
            "disabled": false,
            "layout": "IPY_MODEL_150230ba149645d593d7dacfc150ba1a",
            "placeholder": "We want your feedback!",
            "rows": null,
            "style": "IPY_MODEL_efb105f509574613aac44d6b343e931b",
            "value": ""
          }
        },
        "b11c290c6f984cb1888af53262ba8318": {
          "model_module": "@jupyter-widgets/controls",
          "model_name": "ButtonModel",
          "model_module_version": "1.5.0",
          "state": {
            "_dom_classes": [],
            "_model_module": "@jupyter-widgets/controls",
            "_model_module_version": "1.5.0",
            "_model_name": "ButtonModel",
            "_view_count": null,
            "_view_module": "@jupyter-widgets/controls",
            "_view_module_version": "1.5.0",
            "_view_name": "ButtonView",
            "button_style": "",
            "description": "Submit",
            "disabled": false,
            "icon": "",
            "layout": "IPY_MODEL_cccb1eab85e54bb5bfeb929694998150",
            "style": "IPY_MODEL_9227c9464c2946ec92b3d19bae7c7d44",
            "tooltip": ""
          }
        },
        "1fcf6bb3f06b451cac864e488ad07837": {
          "model_module": "@jupyter-widgets/base",
          "model_name": "LayoutModel",
          "model_module_version": "1.2.0",
          "state": {
            "_model_module": "@jupyter-widgets/base",
            "_model_module_version": "1.2.0",
            "_model_name": "LayoutModel",
            "_view_count": null,
            "_view_module": "@jupyter-widgets/base",
            "_view_module_version": "1.2.0",
            "_view_name": "LayoutView",
            "align_content": null,
            "align_items": null,
            "align_self": null,
            "border": null,
            "bottom": null,
            "display": "none",
            "flex": null,
            "flex_flow": null,
            "grid_area": null,
            "grid_auto_columns": null,
            "grid_auto_flow": null,
            "grid_auto_rows": null,
            "grid_column": null,
            "grid_gap": null,
            "grid_row": null,
            "grid_template_areas": null,
            "grid_template_columns": null,
            "grid_template_rows": null,
            "height": null,
            "justify_content": null,
            "justify_items": null,
            "left": null,
            "margin": null,
            "max_height": null,
            "max_width": null,
            "min_height": null,
            "min_width": null,
            "object_fit": null,
            "object_position": null,
            "order": null,
            "overflow": null,
            "overflow_x": null,
            "overflow_y": null,
            "padding": null,
            "right": null,
            "top": null,
            "visibility": null,
            "width": null
          }
        },
        "1db038275bc0438f97449e4a614bf365": {
          "model_module": "@jupyter-widgets/base",
          "model_name": "LayoutModel",
          "model_module_version": "1.2.0",
          "state": {
            "_model_module": "@jupyter-widgets/base",
            "_model_module_version": "1.2.0",
            "_model_name": "LayoutModel",
            "_view_count": null,
            "_view_module": "@jupyter-widgets/base",
            "_view_module_version": "1.2.0",
            "_view_name": "LayoutView",
            "align_content": null,
            "align_items": null,
            "align_self": null,
            "border": null,
            "bottom": null,
            "display": "block",
            "flex": null,
            "flex_flow": null,
            "grid_area": null,
            "grid_auto_columns": null,
            "grid_auto_flow": null,
            "grid_auto_rows": null,
            "grid_column": null,
            "grid_gap": null,
            "grid_row": null,
            "grid_template_areas": null,
            "grid_template_columns": null,
            "grid_template_rows": null,
            "height": null,
            "justify_content": null,
            "justify_items": null,
            "left": null,
            "margin": null,
            "max_height": null,
            "max_width": null,
            "min_height": null,
            "min_width": null,
            "object_fit": null,
            "object_position": null,
            "order": null,
            "overflow": null,
            "overflow_x": null,
            "overflow_y": null,
            "padding": null,
            "right": null,
            "top": null,
            "visibility": null,
            "width": null
          }
        },
        "a00171ab22304269bc57cc1b87401372": {
          "model_module": "@jupyter-widgets/controls",
          "model_name": "DescriptionStyleModel",
          "model_module_version": "1.5.0",
          "state": {
            "_model_module": "@jupyter-widgets/controls",
            "_model_module_version": "1.5.0",
            "_model_name": "DescriptionStyleModel",
            "_view_count": null,
            "_view_module": "@jupyter-widgets/base",
            "_view_module_version": "1.2.0",
            "_view_name": "StyleView",
            "description_width": ""
          }
        },
        "9cc66083c1d04012a1c9a06443cdead5": {
          "model_module": "@jupyter-widgets/base",
          "model_name": "LayoutModel",
          "model_module_version": "1.2.0",
          "state": {
            "_model_module": "@jupyter-widgets/base",
            "_model_module_version": "1.2.0",
            "_model_name": "LayoutModel",
            "_view_count": null,
            "_view_module": "@jupyter-widgets/base",
            "_view_module_version": "1.2.0",
            "_view_name": "LayoutView",
            "align_content": null,
            "align_items": null,
            "align_self": null,
            "border": "2px solid #666666",
            "bottom": null,
            "display": null,
            "flex": null,
            "flex_flow": null,
            "grid_area": null,
            "grid_auto_columns": null,
            "grid_auto_flow": null,
            "grid_auto_rows": null,
            "grid_column": null,
            "grid_gap": null,
            "grid_row": null,
            "grid_template_areas": null,
            "grid_template_columns": null,
            "grid_template_rows": null,
            "height": "auto",
            "justify_content": null,
            "justify_items": null,
            "left": null,
            "margin": null,
            "max_height": null,
            "max_width": null,
            "min_height": null,
            "min_width": null,
            "object_fit": null,
            "object_position": null,
            "order": null,
            "overflow": null,
            "overflow_x": null,
            "overflow_y": null,
            "padding": "0.5em",
            "right": null,
            "top": null,
            "visibility": null,
            "width": "auto"
          }
        },
        "bdce70c1d34b4e579128afd9420e680b": {
          "model_module": "@jupyter-widgets/controls",
          "model_name": "ButtonStyleModel",
          "model_module_version": "1.5.0",
          "state": {
            "_model_module": "@jupyter-widgets/controls",
            "_model_module_version": "1.5.0",
            "_model_name": "ButtonStyleModel",
            "_view_count": null,
            "_view_module": "@jupyter-widgets/base",
            "_view_module_version": "1.2.0",
            "_view_name": "StyleView",
            "button_color": "#aaffaa",
            "font_weight": ""
          }
        },
        "d0c167ccaf3044eeafbdd62bc688945c": {
          "model_module": "@jupyter-widgets/base",
          "model_name": "LayoutModel",
          "model_module_version": "1.2.0",
          "state": {
            "_model_module": "@jupyter-widgets/base",
            "_model_module_version": "1.2.0",
            "_model_name": "LayoutModel",
            "_view_count": null,
            "_view_module": "@jupyter-widgets/base",
            "_view_module_version": "1.2.0",
            "_view_name": "LayoutView",
            "align_content": null,
            "align_items": null,
            "align_self": null,
            "border": null,
            "bottom": null,
            "display": null,
            "flex": null,
            "flex_flow": null,
            "grid_area": null,
            "grid_auto_columns": null,
            "grid_auto_flow": null,
            "grid_auto_rows": null,
            "grid_column": null,
            "grid_gap": null,
            "grid_row": null,
            "grid_template_areas": null,
            "grid_template_columns": null,
            "grid_template_rows": null,
            "height": "auto",
            "justify_content": null,
            "justify_items": null,
            "left": null,
            "margin": null,
            "max_height": null,
            "max_width": null,
            "min_height": null,
            "min_width": null,
            "object_fit": null,
            "object_position": null,
            "order": null,
            "overflow": null,
            "overflow_x": null,
            "overflow_y": null,
            "padding": "0.5em",
            "right": null,
            "top": null,
            "visibility": null,
            "width": "auto"
          }
        },
        "5eb7659deba24435aa269024e501a92a": {
          "model_module": "@jupyter-widgets/controls",
          "model_name": "ButtonStyleModel",
          "model_module_version": "1.5.0",
          "state": {
            "_model_module": "@jupyter-widgets/controls",
            "_model_module_version": "1.5.0",
            "_model_name": "ButtonStyleModel",
            "_view_count": null,
            "_view_module": "@jupyter-widgets/base",
            "_view_module_version": "1.2.0",
            "_view_name": "StyleView",
            "button_color": "#dddd77",
            "font_weight": ""
          }
        },
        "1789d011a4c14b6aa2c152c9424b0e79": {
          "model_module": "@jupyter-widgets/base",
          "model_name": "LayoutModel",
          "model_module_version": "1.2.0",
          "state": {
            "_model_module": "@jupyter-widgets/base",
            "_model_module_version": "1.2.0",
            "_model_name": "LayoutModel",
            "_view_count": null,
            "_view_module": "@jupyter-widgets/base",
            "_view_module_version": "1.2.0",
            "_view_name": "LayoutView",
            "align_content": null,
            "align_items": null,
            "align_self": null,
            "border": null,
            "bottom": null,
            "display": null,
            "flex": null,
            "flex_flow": null,
            "grid_area": null,
            "grid_auto_columns": null,
            "grid_auto_flow": null,
            "grid_auto_rows": null,
            "grid_column": null,
            "grid_gap": null,
            "grid_row": null,
            "grid_template_areas": null,
            "grid_template_columns": null,
            "grid_template_rows": null,
            "height": "auto",
            "justify_content": null,
            "justify_items": null,
            "left": null,
            "margin": null,
            "max_height": null,
            "max_width": null,
            "min_height": null,
            "min_width": null,
            "object_fit": null,
            "object_position": null,
            "order": null,
            "overflow": null,
            "overflow_x": null,
            "overflow_y": null,
            "padding": "0.5em",
            "right": null,
            "top": null,
            "visibility": null,
            "width": "auto"
          }
        },
        "f6fbb4a04cc54c55b2b1474ea16687b0": {
          "model_module": "@jupyter-widgets/controls",
          "model_name": "ButtonStyleModel",
          "model_module_version": "1.5.0",
          "state": {
            "_model_module": "@jupyter-widgets/controls",
            "_model_module_version": "1.5.0",
            "_model_name": "ButtonStyleModel",
            "_view_count": null,
            "_view_module": "@jupyter-widgets/base",
            "_view_module_version": "1.2.0",
            "_view_name": "StyleView",
            "button_color": "#ffaaaa",
            "font_weight": ""
          }
        },
        "150230ba149645d593d7dacfc150ba1a": {
          "model_module": "@jupyter-widgets/base",
          "model_name": "LayoutModel",
          "model_module_version": "1.2.0",
          "state": {
            "_model_module": "@jupyter-widgets/base",
            "_model_module_version": "1.2.0",
            "_model_name": "LayoutModel",
            "_view_count": null,
            "_view_module": "@jupyter-widgets/base",
            "_view_module_version": "1.2.0",
            "_view_name": "LayoutView",
            "align_content": null,
            "align_items": null,
            "align_self": null,
            "border": null,
            "bottom": null,
            "display": null,
            "flex": null,
            "flex_flow": null,
            "grid_area": null,
            "grid_auto_columns": null,
            "grid_auto_flow": null,
            "grid_auto_rows": null,
            "grid_column": null,
            "grid_gap": null,
            "grid_row": null,
            "grid_template_areas": null,
            "grid_template_columns": null,
            "grid_template_rows": null,
            "height": "auto",
            "justify_content": null,
            "justify_items": null,
            "left": null,
            "margin": null,
            "max_height": null,
            "max_width": null,
            "min_height": null,
            "min_width": null,
            "object_fit": null,
            "object_position": null,
            "order": null,
            "overflow": null,
            "overflow_x": null,
            "overflow_y": null,
            "padding": null,
            "right": null,
            "top": null,
            "visibility": null,
            "width": "auto"
          }
        },
        "efb105f509574613aac44d6b343e931b": {
          "model_module": "@jupyter-widgets/controls",
          "model_name": "DescriptionStyleModel",
          "model_module_version": "1.5.0",
          "state": {
            "_model_module": "@jupyter-widgets/controls",
            "_model_module_version": "1.5.0",
            "_model_name": "DescriptionStyleModel",
            "_view_count": null,
            "_view_module": "@jupyter-widgets/base",
            "_view_module_version": "1.2.0",
            "_view_name": "StyleView",
            "description_width": ""
          }
        },
        "cccb1eab85e54bb5bfeb929694998150": {
          "model_module": "@jupyter-widgets/base",
          "model_name": "LayoutModel",
          "model_module_version": "1.2.0",
          "state": {
            "_model_module": "@jupyter-widgets/base",
            "_model_module_version": "1.2.0",
            "_model_name": "LayoutModel",
            "_view_count": null,
            "_view_module": "@jupyter-widgets/base",
            "_view_module_version": "1.2.0",
            "_view_name": "LayoutView",
            "align_content": null,
            "align_items": null,
            "align_self": null,
            "border": null,
            "bottom": null,
            "display": null,
            "flex": null,
            "flex_flow": null,
            "grid_area": null,
            "grid_auto_columns": null,
            "grid_auto_flow": null,
            "grid_auto_rows": null,
            "grid_column": null,
            "grid_gap": null,
            "grid_row": null,
            "grid_template_areas": null,
            "grid_template_columns": null,
            "grid_template_rows": null,
            "height": "auto",
            "justify_content": null,
            "justify_items": null,
            "left": null,
            "margin": null,
            "max_height": null,
            "max_width": null,
            "min_height": null,
            "min_width": null,
            "object_fit": null,
            "object_position": null,
            "order": null,
            "overflow": null,
            "overflow_x": null,
            "overflow_y": null,
            "padding": null,
            "right": null,
            "top": null,
            "visibility": null,
            "width": "auto"
          }
        },
        "9227c9464c2946ec92b3d19bae7c7d44": {
          "model_module": "@jupyter-widgets/controls",
          "model_name": "ButtonStyleModel",
          "model_module_version": "1.5.0",
          "state": {
            "_model_module": "@jupyter-widgets/controls",
            "_model_module_version": "1.5.0",
            "_model_name": "ButtonStyleModel",
            "_view_count": null,
            "_view_module": "@jupyter-widgets/base",
            "_view_module_version": "1.2.0",
            "_view_name": "StyleView",
            "button_color": null,
            "font_weight": ""
          }
        },
        "5d3082f53f2644508768e214d9a0f9cb": {
          "model_module": "@jupyter-widgets/controls",
          "model_name": "VBoxModel",
          "model_module_version": "1.5.0",
          "state": {
            "_dom_classes": [
              "widget-interact"
            ],
            "_model_module": "@jupyter-widgets/controls",
            "_model_module_version": "1.5.0",
            "_model_name": "VBoxModel",
            "_view_count": null,
            "_view_module": "@jupyter-widgets/controls",
            "_view_module_version": "1.5.0",
            "_view_name": "VBoxView",
            "box_style": "",
            "children": [
              "IPY_MODEL_8f3716fe0b48414aa4d442f80e535779",
              "IPY_MODEL_cea0357e4f384198bf94aee3b498759f",
              "IPY_MODEL_fa88c9d432774675bfc9524e921c4bd0"
            ],
            "layout": "IPY_MODEL_91f7784a50a6490cb4d59e6f247bf151"
          }
        },
        "8f3716fe0b48414aa4d442f80e535779": {
          "model_module": "@jupyter-widgets/controls",
          "model_name": "FloatSliderModel",
          "model_module_version": "1.5.0",
          "state": {
            "_dom_classes": [],
            "_model_module": "@jupyter-widgets/controls",
            "_model_module_version": "1.5.0",
            "_model_name": "FloatSliderModel",
            "_view_count": null,
            "_view_module": "@jupyter-widgets/controls",
            "_view_module_version": "1.5.0",
            "_view_name": "FloatSliderView",
            "continuous_update": true,
            "description": "mu",
            "description_tooltip": null,
            "disabled": false,
            "layout": "IPY_MODEL_c816d648961e4af1acbcac6eaecd9bde",
            "max": 2,
            "min": -2,
            "orientation": "horizontal",
            "readout": true,
            "readout_format": ".2f",
            "step": 0.1,
            "style": "IPY_MODEL_7d9dd2a4456e4cc4b0b13fd6e2ad5a4d",
            "value": 0
          }
        },
        "cea0357e4f384198bf94aee3b498759f": {
          "model_module": "@jupyter-widgets/controls",
          "model_name": "FloatSliderModel",
          "model_module_version": "1.5.0",
          "state": {
            "_dom_classes": [],
            "_model_module": "@jupyter-widgets/controls",
            "_model_module_version": "1.5.0",
            "_model_name": "FloatSliderModel",
            "_view_count": null,
            "_view_module": "@jupyter-widgets/controls",
            "_view_module_version": "1.5.0",
            "_view_name": "FloatSliderView",
            "continuous_update": true,
            "description": "sigma",
            "description_tooltip": null,
            "disabled": false,
            "layout": "IPY_MODEL_ed0ec13b1a8c4c63b82dc3a06d74d7ad",
            "max": 2,
            "min": 0.5,
            "orientation": "horizontal",
            "readout": true,
            "readout_format": ".2f",
            "step": 0.1,
            "style": "IPY_MODEL_98126ae97b3d49f4b54089eb840fc1e8",
            "value": 1
          }
        },
        "fa88c9d432774675bfc9524e921c4bd0": {
          "model_module": "@jupyter-widgets/output",
          "model_name": "OutputModel",
          "model_module_version": "1.0.0",
          "state": {
            "_dom_classes": [],
            "_model_module": "@jupyter-widgets/output",
            "_model_module_version": "1.0.0",
            "_model_name": "OutputModel",
            "_view_count": null,
            "_view_module": "@jupyter-widgets/output",
            "_view_module_version": "1.0.0",
            "_view_name": "OutputView",
            "layout": "IPY_MODEL_ac931ef70b0e461bb277dae42ef14f8f",
            "msg_id": "",
            "outputs": [
              {
                "output_type": "display_data",
                "data": {
                  "text/plain": "<Figure size 800x600 with 1 Axes>",
                  "image/png": "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\n"
                },
                "metadata": {
                  "image/png": {
                    "width": 775,
                    "height": 575
                  }
                }
              }
            ]
          }
        },
        "91f7784a50a6490cb4d59e6f247bf151": {
          "model_module": "@jupyter-widgets/base",
          "model_name": "LayoutModel",
          "model_module_version": "1.2.0",
          "state": {
            "_model_module": "@jupyter-widgets/base",
            "_model_module_version": "1.2.0",
            "_model_name": "LayoutModel",
            "_view_count": null,
            "_view_module": "@jupyter-widgets/base",
            "_view_module_version": "1.2.0",
            "_view_name": "LayoutView",
            "align_content": null,
            "align_items": null,
            "align_self": null,
            "border": null,
            "bottom": null,
            "display": null,
            "flex": null,
            "flex_flow": null,
            "grid_area": null,
            "grid_auto_columns": null,
            "grid_auto_flow": null,
            "grid_auto_rows": null,
            "grid_column": null,
            "grid_gap": null,
            "grid_row": null,
            "grid_template_areas": null,
            "grid_template_columns": null,
            "grid_template_rows": null,
            "height": null,
            "justify_content": null,
            "justify_items": null,
            "left": null,
            "margin": null,
            "max_height": null,
            "max_width": null,
            "min_height": null,
            "min_width": null,
            "object_fit": null,
            "object_position": null,
            "order": null,
            "overflow": null,
            "overflow_x": null,
            "overflow_y": null,
            "padding": null,
            "right": null,
            "top": null,
            "visibility": null,
            "width": null
          }
        },
        "c816d648961e4af1acbcac6eaecd9bde": {
          "model_module": "@jupyter-widgets/base",
          "model_name": "LayoutModel",
          "model_module_version": "1.2.0",
          "state": {
            "_model_module": "@jupyter-widgets/base",
            "_model_module_version": "1.2.0",
            "_model_name": "LayoutModel",
            "_view_count": null,
            "_view_module": "@jupyter-widgets/base",
            "_view_module_version": "1.2.0",
            "_view_name": "LayoutView",
            "align_content": null,
            "align_items": null,
            "align_self": null,
            "border": null,
            "bottom": null,
            "display": null,
            "flex": null,
            "flex_flow": null,
            "grid_area": null,
            "grid_auto_columns": null,
            "grid_auto_flow": null,
            "grid_auto_rows": null,
            "grid_column": null,
            "grid_gap": null,
            "grid_row": null,
            "grid_template_areas": null,
            "grid_template_columns": null,
            "grid_template_rows": null,
            "height": null,
            "justify_content": null,
            "justify_items": null,
            "left": null,
            "margin": null,
            "max_height": null,
            "max_width": null,
            "min_height": null,
            "min_width": null,
            "object_fit": null,
            "object_position": null,
            "order": null,
            "overflow": null,
            "overflow_x": null,
            "overflow_y": null,
            "padding": null,
            "right": null,
            "top": null,
            "visibility": null,
            "width": null
          }
        },
        "7d9dd2a4456e4cc4b0b13fd6e2ad5a4d": {
          "model_module": "@jupyter-widgets/controls",
          "model_name": "SliderStyleModel",
          "model_module_version": "1.5.0",
          "state": {
            "_model_module": "@jupyter-widgets/controls",
            "_model_module_version": "1.5.0",
            "_model_name": "SliderStyleModel",
            "_view_count": null,
            "_view_module": "@jupyter-widgets/base",
            "_view_module_version": "1.2.0",
            "_view_name": "StyleView",
            "description_width": "",
            "handle_color": null
          }
        },
        "ed0ec13b1a8c4c63b82dc3a06d74d7ad": {
          "model_module": "@jupyter-widgets/base",
          "model_name": "LayoutModel",
          "model_module_version": "1.2.0",
          "state": {
            "_model_module": "@jupyter-widgets/base",
            "_model_module_version": "1.2.0",
            "_model_name": "LayoutModel",
            "_view_count": null,
            "_view_module": "@jupyter-widgets/base",
            "_view_module_version": "1.2.0",
            "_view_name": "LayoutView",
            "align_content": null,
            "align_items": null,
            "align_self": null,
            "border": null,
            "bottom": null,
            "display": null,
            "flex": null,
            "flex_flow": null,
            "grid_area": null,
            "grid_auto_columns": null,
            "grid_auto_flow": null,
            "grid_auto_rows": null,
            "grid_column": null,
            "grid_gap": null,
            "grid_row": null,
            "grid_template_areas": null,
            "grid_template_columns": null,
            "grid_template_rows": null,
            "height": null,
            "justify_content": null,
            "justify_items": null,
            "left": null,
            "margin": null,
            "max_height": null,
            "max_width": null,
            "min_height": null,
            "min_width": null,
            "object_fit": null,
            "object_position": null,
            "order": null,
            "overflow": null,
            "overflow_x": null,
            "overflow_y": null,
            "padding": null,
            "right": null,
            "top": null,
            "visibility": null,
            "width": null
          }
        },
        "98126ae97b3d49f4b54089eb840fc1e8": {
          "model_module": "@jupyter-widgets/controls",
          "model_name": "SliderStyleModel",
          "model_module_version": "1.5.0",
          "state": {
            "_model_module": "@jupyter-widgets/controls",
            "_model_module_version": "1.5.0",
            "_model_name": "SliderStyleModel",
            "_view_count": null,
            "_view_module": "@jupyter-widgets/base",
            "_view_module_version": "1.2.0",
            "_view_name": "StyleView",
            "description_width": "",
            "handle_color": null
          }
        },
        "ac931ef70b0e461bb277dae42ef14f8f": {
          "model_module": "@jupyter-widgets/base",
          "model_name": "LayoutModel",
          "model_module_version": "1.2.0",
          "state": {
            "_model_module": "@jupyter-widgets/base",
            "_model_module_version": "1.2.0",
            "_model_name": "LayoutModel",
            "_view_count": null,
            "_view_module": "@jupyter-widgets/base",
            "_view_module_version": "1.2.0",
            "_view_name": "LayoutView",
            "align_content": null,
            "align_items": null,
            "align_self": null,
            "border": null,
            "bottom": null,
            "display": null,
            "flex": null,
            "flex_flow": null,
            "grid_area": null,
            "grid_auto_columns": null,
            "grid_auto_flow": null,
            "grid_auto_rows": null,
            "grid_column": null,
            "grid_gap": null,
            "grid_row": null,
            "grid_template_areas": null,
            "grid_template_columns": null,
            "grid_template_rows": null,
            "height": null,
            "justify_content": null,
            "justify_items": null,
            "left": null,
            "margin": null,
            "max_height": null,
            "max_width": null,
            "min_height": null,
            "min_width": null,
            "object_fit": null,
            "object_position": null,
            "order": null,
            "overflow": null,
            "overflow_x": null,
            "overflow_y": null,
            "padding": null,
            "right": null,
            "top": null,
            "visibility": null,
            "width": null
          }
        },
        "2a88df908d1d44c78a997e080c200d4b": {
          "model_module": "@jupyter-widgets/controls",
          "model_name": "VBoxModel",
          "model_module_version": "1.5.0",
          "state": {
            "_dom_classes": [],
            "_model_module": "@jupyter-widgets/controls",
            "_model_module_version": "1.5.0",
            "_model_name": "VBoxModel",
            "_view_count": null,
            "_view_module": "@jupyter-widgets/controls",
            "_view_module_version": "1.5.0",
            "_view_name": "VBoxView",
            "box_style": "",
            "children": [
              "IPY_MODEL_27484a54ca9344a9ba78ced3d4d9f044"
            ],
            "layout": "IPY_MODEL_6c88275dd6154cac98e678e973a94cff"
          }
        },
        "27484a54ca9344a9ba78ced3d4d9f044": {
          "model_module": "@jupyter-widgets/controls",
          "model_name": "VBoxModel",
          "model_module_version": "1.5.0",
          "state": {
            "_dom_classes": [],
            "_model_module": "@jupyter-widgets/controls",
            "_model_module_version": "1.5.0",
            "_model_name": "VBoxModel",
            "_view_count": null,
            "_view_module": "@jupyter-widgets/controls",
            "_view_module_version": "1.5.0",
            "_view_name": "VBoxView",
            "box_style": "",
            "children": [
              "IPY_MODEL_da0de9901f214bc48607be1eb8ba845d",
              "IPY_MODEL_d39669def2d24597ad1f0ce848fa37a4",
              "IPY_MODEL_48d0baaf475448e1bc4e4b1650340712"
            ],
            "layout": "IPY_MODEL_ce3beefac0904375ac9cdb888b14c377"
          }
        },
        "6c88275dd6154cac98e678e973a94cff": {
          "model_module": "@jupyter-widgets/base",
          "model_name": "LayoutModel",
          "model_module_version": "1.2.0",
          "state": {
            "_model_module": "@jupyter-widgets/base",
            "_model_module_version": "1.2.0",
            "_model_name": "LayoutModel",
            "_view_count": null,
            "_view_module": "@jupyter-widgets/base",
            "_view_module_version": "1.2.0",
            "_view_name": "LayoutView",
            "align_content": null,
            "align_items": null,
            "align_self": null,
            "border": null,
            "bottom": null,
            "display": null,
            "flex": null,
            "flex_flow": null,
            "grid_area": null,
            "grid_auto_columns": null,
            "grid_auto_flow": null,
            "grid_auto_rows": null,
            "grid_column": null,
            "grid_gap": null,
            "grid_row": null,
            "grid_template_areas": null,
            "grid_template_columns": null,
            "grid_template_rows": null,
            "height": null,
            "justify_content": null,
            "justify_items": null,
            "left": null,
            "margin": null,
            "max_height": null,
            "max_width": null,
            "min_height": null,
            "min_width": null,
            "object_fit": null,
            "object_position": null,
            "order": null,
            "overflow": null,
            "overflow_x": null,
            "overflow_y": null,
            "padding": null,
            "right": null,
            "top": null,
            "visibility": null,
            "width": null
          }
        },
        "da0de9901f214bc48607be1eb8ba845d": {
          "model_module": "@jupyter-widgets/controls",
          "model_name": "HBoxModel",
          "model_module_version": "1.5.0",
          "state": {
            "_dom_classes": [],
            "_model_module": "@jupyter-widgets/controls",
            "_model_module_version": "1.5.0",
            "_model_name": "HBoxModel",
            "_view_count": null,
            "_view_module": "@jupyter-widgets/controls",
            "_view_module_version": "1.5.0",
            "_view_name": "HBoxView",
            "box_style": "",
            "children": [
              "IPY_MODEL_62657e2ceaf943b5a0ddeb9164d29a73",
              "IPY_MODEL_4948e61a5c8f495093bf05e8b987dbf7",
              "IPY_MODEL_1ec7023244904da49be3fe0dcb7269f2"
            ],
            "layout": "IPY_MODEL_940eb3d16ba540e284242c0d4a30cf3d"
          }
        },
        "d39669def2d24597ad1f0ce848fa37a4": {
          "model_module": "@jupyter-widgets/controls",
          "model_name": "HBoxModel",
          "model_module_version": "1.5.0",
          "state": {
            "_dom_classes": [],
            "_model_module": "@jupyter-widgets/controls",
            "_model_module_version": "1.5.0",
            "_model_name": "HBoxModel",
            "_view_count": null,
            "_view_module": "@jupyter-widgets/controls",
            "_view_module_version": "1.5.0",
            "_view_name": "HBoxView",
            "box_style": "",
            "children": [
              "IPY_MODEL_1c9167e094304acfbbac463a1974f423",
              "IPY_MODEL_299c245267c44468bca6c6788c621dfa"
            ],
            "layout": "IPY_MODEL_233e64e8e6d04792a94327af3ba7618f"
          }
        },
        "48d0baaf475448e1bc4e4b1650340712": {
          "model_module": "@jupyter-widgets/controls",
          "model_name": "LabelModel",
          "model_module_version": "1.5.0",
          "state": {
            "_dom_classes": [],
            "_model_module": "@jupyter-widgets/controls",
            "_model_module_version": "1.5.0",
            "_model_name": "LabelModel",
            "_view_count": null,
            "_view_module": "@jupyter-widgets/controls",
            "_view_module_version": "1.5.0",
            "_view_name": "LabelView",
            "description": "",
            "description_tooltip": null,
            "layout": "IPY_MODEL_3eab37ed0ecb435d94658f3c7aa538c0",
            "placeholder": "​",
            "style": "IPY_MODEL_8813cf54e940430c947fc9156de25c59",
            "value": "Thanks for your feedback!"
          }
        },
        "ce3beefac0904375ac9cdb888b14c377": {
          "model_module": "@jupyter-widgets/base",
          "model_name": "LayoutModel",
          "model_module_version": "1.2.0",
          "state": {
            "_model_module": "@jupyter-widgets/base",
            "_model_module_version": "1.2.0",
            "_model_name": "LayoutModel",
            "_view_count": null,
            "_view_module": "@jupyter-widgets/base",
            "_view_module_version": "1.2.0",
            "_view_name": "LayoutView",
            "align_content": null,
            "align_items": null,
            "align_self": null,
            "border": null,
            "bottom": null,
            "display": null,
            "flex": null,
            "flex_flow": null,
            "grid_area": null,
            "grid_auto_columns": null,
            "grid_auto_flow": null,
            "grid_auto_rows": null,
            "grid_column": null,
            "grid_gap": null,
            "grid_row": null,
            "grid_template_areas": null,
            "grid_template_columns": null,
            "grid_template_rows": null,
            "height": null,
            "justify_content": null,
            "justify_items": null,
            "left": null,
            "margin": null,
            "max_height": null,
            "max_width": null,
            "min_height": null,
            "min_width": null,
            "object_fit": null,
            "object_position": null,
            "order": null,
            "overflow": null,
            "overflow_x": null,
            "overflow_y": null,
            "padding": null,
            "right": null,
            "top": null,
            "visibility": null,
            "width": null
          }
        },
        "62657e2ceaf943b5a0ddeb9164d29a73": {
          "model_module": "@jupyter-widgets/controls",
          "model_name": "ButtonModel",
          "model_module_version": "1.5.0",
          "state": {
            "_dom_classes": [
              "happy"
            ],
            "_model_module": "@jupyter-widgets/controls",
            "_model_module_version": "1.5.0",
            "_model_name": "ButtonModel",
            "_view_count": null,
            "_view_module": "@jupyter-widgets/controls",
            "_view_module_version": "1.5.0",
            "_view_name": "ButtonView",
            "button_style": "",
            "description": "🙂",
            "disabled": false,
            "icon": "",
            "layout": "IPY_MODEL_451290d6c5db4d678d26d70f2538d6f3",
            "style": "IPY_MODEL_312cd09471fe4688ae682201f0b72da3",
            "tooltip": "happy"
          }
        },
        "4948e61a5c8f495093bf05e8b987dbf7": {
          "model_module": "@jupyter-widgets/controls",
          "model_name": "ButtonModel",
          "model_module_version": "1.5.0",
          "state": {
            "_dom_classes": [
              "medium"
            ],
            "_model_module": "@jupyter-widgets/controls",
            "_model_module_version": "1.5.0",
            "_model_name": "ButtonModel",
            "_view_count": null,
            "_view_module": "@jupyter-widgets/controls",
            "_view_module_version": "1.5.0",
            "_view_name": "ButtonView",
            "button_style": "",
            "description": "😐",
            "disabled": false,
            "icon": "",
            "layout": "IPY_MODEL_1c5c9fb467e7451a802aacc0c79ccebf",
            "style": "IPY_MODEL_320bacb703384b299c081d899f914c55",
            "tooltip": "medium"
          }
        },
        "1ec7023244904da49be3fe0dcb7269f2": {
          "model_module": "@jupyter-widgets/controls",
          "model_name": "ButtonModel",
          "model_module_version": "1.5.0",
          "state": {
            "_dom_classes": [
              "sad"
            ],
            "_model_module": "@jupyter-widgets/controls",
            "_model_module_version": "1.5.0",
            "_model_name": "ButtonModel",
            "_view_count": null,
            "_view_module": "@jupyter-widgets/controls",
            "_view_module_version": "1.5.0",
            "_view_name": "ButtonView",
            "button_style": "",
            "description": "🙁",
            "disabled": false,
            "icon": "",
            "layout": "IPY_MODEL_54e6de3f9ba44d0480527d4d82b5e13e",
            "style": "IPY_MODEL_3f6e3aa8eda0467c9262b8926f91b8bf",
            "tooltip": "sad"
          }
        },
        "940eb3d16ba540e284242c0d4a30cf3d": {
          "model_module": "@jupyter-widgets/base",
          "model_name": "LayoutModel",
          "model_module_version": "1.2.0",
          "state": {
            "_model_module": "@jupyter-widgets/base",
            "_model_module_version": "1.2.0",
            "_model_name": "LayoutModel",
            "_view_count": null,
            "_view_module": "@jupyter-widgets/base",
            "_view_module_version": "1.2.0",
            "_view_name": "LayoutView",
            "align_content": null,
            "align_items": null,
            "align_self": null,
            "border": null,
            "bottom": null,
            "display": null,
            "flex": null,
            "flex_flow": null,
            "grid_area": null,
            "grid_auto_columns": null,
            "grid_auto_flow": null,
            "grid_auto_rows": null,
            "grid_column": null,
            "grid_gap": null,
            "grid_row": null,
            "grid_template_areas": null,
            "grid_template_columns": null,
            "grid_template_rows": null,
            "height": null,
            "justify_content": null,
            "justify_items": null,
            "left": null,
            "margin": null,
            "max_height": null,
            "max_width": null,
            "min_height": null,
            "min_width": null,
            "object_fit": null,
            "object_position": null,
            "order": null,
            "overflow": null,
            "overflow_x": null,
            "overflow_y": null,
            "padding": null,
            "right": null,
            "top": null,
            "visibility": null,
            "width": null
          }
        },
        "1c9167e094304acfbbac463a1974f423": {
          "model_module": "@jupyter-widgets/controls",
          "model_name": "TextareaModel",
          "model_module_version": "1.5.0",
          "state": {
            "_dom_classes": [],
            "_model_module": "@jupyter-widgets/controls",
            "_model_module_version": "1.5.0",
            "_model_name": "TextareaModel",
            "_view_count": null,
            "_view_module": "@jupyter-widgets/controls",
            "_view_module_version": "1.5.0",
            "_view_name": "TextareaView",
            "continuous_update": true,
            "description": "",
            "description_tooltip": null,
            "disabled": false,
            "layout": "IPY_MODEL_92dfa1811d8f4ed9bf66af7264ee432d",
            "placeholder": "We want your feedback!",
            "rows": null,
            "style": "IPY_MODEL_6a16abc0cf594f7ea27d02eef9e72ad8",
            "value": ""
          }
        },
        "299c245267c44468bca6c6788c621dfa": {
          "model_module": "@jupyter-widgets/controls",
          "model_name": "ButtonModel",
          "model_module_version": "1.5.0",
          "state": {
            "_dom_classes": [],
            "_model_module": "@jupyter-widgets/controls",
            "_model_module_version": "1.5.0",
            "_model_name": "ButtonModel",
            "_view_count": null,
            "_view_module": "@jupyter-widgets/controls",
            "_view_module_version": "1.5.0",
            "_view_name": "ButtonView",
            "button_style": "",
            "description": "Submit",
            "disabled": false,
            "icon": "",
            "layout": "IPY_MODEL_a2a2c3fce24b49bfaf866d6940d4020a",
            "style": "IPY_MODEL_091ca77199bb4b39a1c64af19bffd4f7",
            "tooltip": ""
          }
        },
        "233e64e8e6d04792a94327af3ba7618f": {
          "model_module": "@jupyter-widgets/base",
          "model_name": "LayoutModel",
          "model_module_version": "1.2.0",
          "state": {
            "_model_module": "@jupyter-widgets/base",
            "_model_module_version": "1.2.0",
            "_model_name": "LayoutModel",
            "_view_count": null,
            "_view_module": "@jupyter-widgets/base",
            "_view_module_version": "1.2.0",
            "_view_name": "LayoutView",
            "align_content": null,
            "align_items": null,
            "align_self": null,
            "border": null,
            "bottom": null,
            "display": "none",
            "flex": null,
            "flex_flow": null,
            "grid_area": null,
            "grid_auto_columns": null,
            "grid_auto_flow": null,
            "grid_auto_rows": null,
            "grid_column": null,
            "grid_gap": null,
            "grid_row": null,
            "grid_template_areas": null,
            "grid_template_columns": null,
            "grid_template_rows": null,
            "height": null,
            "justify_content": null,
            "justify_items": null,
            "left": null,
            "margin": null,
            "max_height": null,
            "max_width": null,
            "min_height": null,
            "min_width": null,
            "object_fit": null,
            "object_position": null,
            "order": null,
            "overflow": null,
            "overflow_x": null,
            "overflow_y": null,
            "padding": null,
            "right": null,
            "top": null,
            "visibility": null,
            "width": null
          }
        },
        "3eab37ed0ecb435d94658f3c7aa538c0": {
          "model_module": "@jupyter-widgets/base",
          "model_name": "LayoutModel",
          "model_module_version": "1.2.0",
          "state": {
            "_model_module": "@jupyter-widgets/base",
            "_model_module_version": "1.2.0",
            "_model_name": "LayoutModel",
            "_view_count": null,
            "_view_module": "@jupyter-widgets/base",
            "_view_module_version": "1.2.0",
            "_view_name": "LayoutView",
            "align_content": null,
            "align_items": null,
            "align_self": null,
            "border": null,
            "bottom": null,
            "display": "none",
            "flex": null,
            "flex_flow": null,
            "grid_area": null,
            "grid_auto_columns": null,
            "grid_auto_flow": null,
            "grid_auto_rows": null,
            "grid_column": null,
            "grid_gap": null,
            "grid_row": null,
            "grid_template_areas": null,
            "grid_template_columns": null,
            "grid_template_rows": null,
            "height": null,
            "justify_content": null,
            "justify_items": null,
            "left": null,
            "margin": null,
            "max_height": null,
            "max_width": null,
            "min_height": null,
            "min_width": null,
            "object_fit": null,
            "object_position": null,
            "order": null,
            "overflow": null,
            "overflow_x": null,
            "overflow_y": null,
            "padding": null,
            "right": null,
            "top": null,
            "visibility": null,
            "width": null
          }
        },
        "8813cf54e940430c947fc9156de25c59": {
          "model_module": "@jupyter-widgets/controls",
          "model_name": "DescriptionStyleModel",
          "model_module_version": "1.5.0",
          "state": {
            "_model_module": "@jupyter-widgets/controls",
            "_model_module_version": "1.5.0",
            "_model_name": "DescriptionStyleModel",
            "_view_count": null,
            "_view_module": "@jupyter-widgets/base",
            "_view_module_version": "1.2.0",
            "_view_name": "StyleView",
            "description_width": ""
          }
        },
        "451290d6c5db4d678d26d70f2538d6f3": {
          "model_module": "@jupyter-widgets/base",
          "model_name": "LayoutModel",
          "model_module_version": "1.2.0",
          "state": {
            "_model_module": "@jupyter-widgets/base",
            "_model_module_version": "1.2.0",
            "_model_name": "LayoutModel",
            "_view_count": null,
            "_view_module": "@jupyter-widgets/base",
            "_view_module_version": "1.2.0",
            "_view_name": "LayoutView",
            "align_content": null,
            "align_items": null,
            "align_self": null,
            "border": null,
            "bottom": null,
            "display": null,
            "flex": null,
            "flex_flow": null,
            "grid_area": null,
            "grid_auto_columns": null,
            "grid_auto_flow": null,
            "grid_auto_rows": null,
            "grid_column": null,
            "grid_gap": null,
            "grid_row": null,
            "grid_template_areas": null,
            "grid_template_columns": null,
            "grid_template_rows": null,
            "height": "auto",
            "justify_content": null,
            "justify_items": null,
            "left": null,
            "margin": null,
            "max_height": null,
            "max_width": null,
            "min_height": null,
            "min_width": null,
            "object_fit": null,
            "object_position": null,
            "order": null,
            "overflow": null,
            "overflow_x": null,
            "overflow_y": null,
            "padding": "0.5em",
            "right": null,
            "top": null,
            "visibility": null,
            "width": "auto"
          }
        },
        "312cd09471fe4688ae682201f0b72da3": {
          "model_module": "@jupyter-widgets/controls",
          "model_name": "ButtonStyleModel",
          "model_module_version": "1.5.0",
          "state": {
            "_model_module": "@jupyter-widgets/controls",
            "_model_module_version": "1.5.0",
            "_model_name": "ButtonStyleModel",
            "_view_count": null,
            "_view_module": "@jupyter-widgets/base",
            "_view_module_version": "1.2.0",
            "_view_name": "StyleView",
            "button_color": "#aaffaa",
            "font_weight": ""
          }
        },
        "1c5c9fb467e7451a802aacc0c79ccebf": {
          "model_module": "@jupyter-widgets/base",
          "model_name": "LayoutModel",
          "model_module_version": "1.2.0",
          "state": {
            "_model_module": "@jupyter-widgets/base",
            "_model_module_version": "1.2.0",
            "_model_name": "LayoutModel",
            "_view_count": null,
            "_view_module": "@jupyter-widgets/base",
            "_view_module_version": "1.2.0",
            "_view_name": "LayoutView",
            "align_content": null,
            "align_items": null,
            "align_self": null,
            "border": null,
            "bottom": null,
            "display": null,
            "flex": null,
            "flex_flow": null,
            "grid_area": null,
            "grid_auto_columns": null,
            "grid_auto_flow": null,
            "grid_auto_rows": null,
            "grid_column": null,
            "grid_gap": null,
            "grid_row": null,
            "grid_template_areas": null,
            "grid_template_columns": null,
            "grid_template_rows": null,
            "height": "auto",
            "justify_content": null,
            "justify_items": null,
            "left": null,
            "margin": null,
            "max_height": null,
            "max_width": null,
            "min_height": null,
            "min_width": null,
            "object_fit": null,
            "object_position": null,
            "order": null,
            "overflow": null,
            "overflow_x": null,
            "overflow_y": null,
            "padding": "0.5em",
            "right": null,
            "top": null,
            "visibility": null,
            "width": "auto"
          }
        },
        "320bacb703384b299c081d899f914c55": {
          "model_module": "@jupyter-widgets/controls",
          "model_name": "ButtonStyleModel",
          "model_module_version": "1.5.0",
          "state": {
            "_model_module": "@jupyter-widgets/controls",
            "_model_module_version": "1.5.0",
            "_model_name": "ButtonStyleModel",
            "_view_count": null,
            "_view_module": "@jupyter-widgets/base",
            "_view_module_version": "1.2.0",
            "_view_name": "StyleView",
            "button_color": "#dddd77",
            "font_weight": ""
          }
        },
        "54e6de3f9ba44d0480527d4d82b5e13e": {
          "model_module": "@jupyter-widgets/base",
          "model_name": "LayoutModel",
          "model_module_version": "1.2.0",
          "state": {
            "_model_module": "@jupyter-widgets/base",
            "_model_module_version": "1.2.0",
            "_model_name": "LayoutModel",
            "_view_count": null,
            "_view_module": "@jupyter-widgets/base",
            "_view_module_version": "1.2.0",
            "_view_name": "LayoutView",
            "align_content": null,
            "align_items": null,
            "align_self": null,
            "border": null,
            "bottom": null,
            "display": null,
            "flex": null,
            "flex_flow": null,
            "grid_area": null,
            "grid_auto_columns": null,
            "grid_auto_flow": null,
            "grid_auto_rows": null,
            "grid_column": null,
            "grid_gap": null,
            "grid_row": null,
            "grid_template_areas": null,
            "grid_template_columns": null,
            "grid_template_rows": null,
            "height": "auto",
            "justify_content": null,
            "justify_items": null,
            "left": null,
            "margin": null,
            "max_height": null,
            "max_width": null,
            "min_height": null,
            "min_width": null,
            "object_fit": null,
            "object_position": null,
            "order": null,
            "overflow": null,
            "overflow_x": null,
            "overflow_y": null,
            "padding": "0.5em",
            "right": null,
            "top": null,
            "visibility": null,
            "width": "auto"
          }
        },
        "3f6e3aa8eda0467c9262b8926f91b8bf": {
          "model_module": "@jupyter-widgets/controls",
          "model_name": "ButtonStyleModel",
          "model_module_version": "1.5.0",
          "state": {
            "_model_module": "@jupyter-widgets/controls",
            "_model_module_version": "1.5.0",
            "_model_name": "ButtonStyleModel",
            "_view_count": null,
            "_view_module": "@jupyter-widgets/base",
            "_view_module_version": "1.2.0",
            "_view_name": "StyleView",
            "button_color": "#ffaaaa",
            "font_weight": ""
          }
        },
        "92dfa1811d8f4ed9bf66af7264ee432d": {
          "model_module": "@jupyter-widgets/base",
          "model_name": "LayoutModel",
          "model_module_version": "1.2.0",
          "state": {
            "_model_module": "@jupyter-widgets/base",
            "_model_module_version": "1.2.0",
            "_model_name": "LayoutModel",
            "_view_count": null,
            "_view_module": "@jupyter-widgets/base",
            "_view_module_version": "1.2.0",
            "_view_name": "LayoutView",
            "align_content": null,
            "align_items": null,
            "align_self": null,
            "border": null,
            "bottom": null,
            "display": null,
            "flex": null,
            "flex_flow": null,
            "grid_area": null,
            "grid_auto_columns": null,
            "grid_auto_flow": null,
            "grid_auto_rows": null,
            "grid_column": null,
            "grid_gap": null,
            "grid_row": null,
            "grid_template_areas": null,
            "grid_template_columns": null,
            "grid_template_rows": null,
            "height": "auto",
            "justify_content": null,
            "justify_items": null,
            "left": null,
            "margin": null,
            "max_height": null,
            "max_width": null,
            "min_height": null,
            "min_width": null,
            "object_fit": null,
            "object_position": null,
            "order": null,
            "overflow": null,
            "overflow_x": null,
            "overflow_y": null,
            "padding": null,
            "right": null,
            "top": null,
            "visibility": null,
            "width": "auto"
          }
        },
        "6a16abc0cf594f7ea27d02eef9e72ad8": {
          "model_module": "@jupyter-widgets/controls",
          "model_name": "DescriptionStyleModel",
          "model_module_version": "1.5.0",
          "state": {
            "_model_module": "@jupyter-widgets/controls",
            "_model_module_version": "1.5.0",
            "_model_name": "DescriptionStyleModel",
            "_view_count": null,
            "_view_module": "@jupyter-widgets/base",
            "_view_module_version": "1.2.0",
            "_view_name": "StyleView",
            "description_width": ""
          }
        },
        "a2a2c3fce24b49bfaf866d6940d4020a": {
          "model_module": "@jupyter-widgets/base",
          "model_name": "LayoutModel",
          "model_module_version": "1.2.0",
          "state": {
            "_model_module": "@jupyter-widgets/base",
            "_model_module_version": "1.2.0",
            "_model_name": "LayoutModel",
            "_view_count": null,
            "_view_module": "@jupyter-widgets/base",
            "_view_module_version": "1.2.0",
            "_view_name": "LayoutView",
            "align_content": null,
            "align_items": null,
            "align_self": null,
            "border": null,
            "bottom": null,
            "display": null,
            "flex": null,
            "flex_flow": null,
            "grid_area": null,
            "grid_auto_columns": null,
            "grid_auto_flow": null,
            "grid_auto_rows": null,
            "grid_column": null,
            "grid_gap": null,
            "grid_row": null,
            "grid_template_areas": null,
            "grid_template_columns": null,
            "grid_template_rows": null,
            "height": "auto",
            "justify_content": null,
            "justify_items": null,
            "left": null,
            "margin": null,
            "max_height": null,
            "max_width": null,
            "min_height": null,
            "min_width": null,
            "object_fit": null,
            "object_position": null,
            "order": null,
            "overflow": null,
            "overflow_x": null,
            "overflow_y": null,
            "padding": null,
            "right": null,
            "top": null,
            "visibility": null,
            "width": "auto"
          }
        },
        "091ca77199bb4b39a1c64af19bffd4f7": {
          "model_module": "@jupyter-widgets/controls",
          "model_name": "ButtonStyleModel",
          "model_module_version": "1.5.0",
          "state": {
            "_model_module": "@jupyter-widgets/controls",
            "_model_module_version": "1.5.0",
            "_model_name": "ButtonStyleModel",
            "_view_count": null,
            "_view_module": "@jupyter-widgets/base",
            "_view_module_version": "1.2.0",
            "_view_name": "StyleView",
            "button_color": null,
            "font_weight": ""
          }
        }
      }
    }
  },
  "nbformat": 4,
  "nbformat_minor": 0
}